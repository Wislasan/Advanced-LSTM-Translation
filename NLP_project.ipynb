{
  "nbformat": 4,
  "nbformat_minor": 0,
  "metadata": {
    "colab": {
      "provenance": [],
      "gpuType": "T4"
    },
    "kernelspec": {
      "name": "python3",
      "display_name": "Python 3"
    },
    "language_info": {
      "name": "python"
    },
    "accelerator": "GPU",
    "widgets": {
      "application/vnd.jupyter.widget-state+json": {
        "bf394aeee5a84a0d9799a77cc9e2f28a": {
          "model_module": "@jupyter-widgets/controls",
          "model_name": "HBoxModel",
          "model_module_version": "1.5.0",
          "state": {
            "_dom_classes": [],
            "_model_module": "@jupyter-widgets/controls",
            "_model_module_version": "1.5.0",
            "_model_name": "HBoxModel",
            "_view_count": null,
            "_view_module": "@jupyter-widgets/controls",
            "_view_module_version": "1.5.0",
            "_view_name": "HBoxView",
            "box_style": "",
            "children": [
              "IPY_MODEL_23e6d432d5194d05a082a4960a491101",
              "IPY_MODEL_0172091204da453b866aa3994d0dfe3f",
              "IPY_MODEL_2f14250ea2294b8e843a062070fa301a"
            ],
            "layout": "IPY_MODEL_1c40862ddbc9455196901ae0e5df06d2"
          }
        },
        "23e6d432d5194d05a082a4960a491101": {
          "model_module": "@jupyter-widgets/controls",
          "model_name": "HTMLModel",
          "model_module_version": "1.5.0",
          "state": {
            "_dom_classes": [],
            "_model_module": "@jupyter-widgets/controls",
            "_model_module_version": "1.5.0",
            "_model_name": "HTMLModel",
            "_view_count": null,
            "_view_module": "@jupyter-widgets/controls",
            "_view_module_version": "1.5.0",
            "_view_name": "HTMLView",
            "description": "",
            "description_tooltip": null,
            "layout": "IPY_MODEL_1ef2809ddd224e13bf09cc3cf045427a",
            "placeholder": "​",
            "style": "IPY_MODEL_5b6c8aae4f544cee9cdc022014d5937d",
            "value": "README.md: 100%"
          }
        },
        "0172091204da453b866aa3994d0dfe3f": {
          "model_module": "@jupyter-widgets/controls",
          "model_name": "FloatProgressModel",
          "model_module_version": "1.5.0",
          "state": {
            "_dom_classes": [],
            "_model_module": "@jupyter-widgets/controls",
            "_model_module_version": "1.5.0",
            "_model_name": "FloatProgressModel",
            "_view_count": null,
            "_view_module": "@jupyter-widgets/controls",
            "_view_module_version": "1.5.0",
            "_view_name": "ProgressView",
            "bar_style": "success",
            "description": "",
            "description_tooltip": null,
            "layout": "IPY_MODEL_994393163733482fb6e31132a7b64b5d",
            "max": 348,
            "min": 0,
            "orientation": "horizontal",
            "style": "IPY_MODEL_891a3156f45e4f5aaeb84d32c4f7a58f",
            "value": 348
          }
        },
        "2f14250ea2294b8e843a062070fa301a": {
          "model_module": "@jupyter-widgets/controls",
          "model_name": "HTMLModel",
          "model_module_version": "1.5.0",
          "state": {
            "_dom_classes": [],
            "_model_module": "@jupyter-widgets/controls",
            "_model_module_version": "1.5.0",
            "_model_name": "HTMLModel",
            "_view_count": null,
            "_view_module": "@jupyter-widgets/controls",
            "_view_module_version": "1.5.0",
            "_view_name": "HTMLView",
            "description": "",
            "description_tooltip": null,
            "layout": "IPY_MODEL_2177b7a8ce48452ab37dead6f2a69a28",
            "placeholder": "​",
            "style": "IPY_MODEL_061998b79aeb43cc9c3d65f4c5d9bc5d",
            "value": " 348/348 [00:00&lt;00:00, 17.8kB/s]"
          }
        },
        "1c40862ddbc9455196901ae0e5df06d2": {
          "model_module": "@jupyter-widgets/base",
          "model_name": "LayoutModel",
          "model_module_version": "1.2.0",
          "state": {
            "_model_module": "@jupyter-widgets/base",
            "_model_module_version": "1.2.0",
            "_model_name": "LayoutModel",
            "_view_count": null,
            "_view_module": "@jupyter-widgets/base",
            "_view_module_version": "1.2.0",
            "_view_name": "LayoutView",
            "align_content": null,
            "align_items": null,
            "align_self": null,
            "border": null,
            "bottom": null,
            "display": null,
            "flex": null,
            "flex_flow": null,
            "grid_area": null,
            "grid_auto_columns": null,
            "grid_auto_flow": null,
            "grid_auto_rows": null,
            "grid_column": null,
            "grid_gap": null,
            "grid_row": null,
            "grid_template_areas": null,
            "grid_template_columns": null,
            "grid_template_rows": null,
            "height": null,
            "justify_content": null,
            "justify_items": null,
            "left": null,
            "margin": null,
            "max_height": null,
            "max_width": null,
            "min_height": null,
            "min_width": null,
            "object_fit": null,
            "object_position": null,
            "order": null,
            "overflow": null,
            "overflow_x": null,
            "overflow_y": null,
            "padding": null,
            "right": null,
            "top": null,
            "visibility": null,
            "width": null
          }
        },
        "1ef2809ddd224e13bf09cc3cf045427a": {
          "model_module": "@jupyter-widgets/base",
          "model_name": "LayoutModel",
          "model_module_version": "1.2.0",
          "state": {
            "_model_module": "@jupyter-widgets/base",
            "_model_module_version": "1.2.0",
            "_model_name": "LayoutModel",
            "_view_count": null,
            "_view_module": "@jupyter-widgets/base",
            "_view_module_version": "1.2.0",
            "_view_name": "LayoutView",
            "align_content": null,
            "align_items": null,
            "align_self": null,
            "border": null,
            "bottom": null,
            "display": null,
            "flex": null,
            "flex_flow": null,
            "grid_area": null,
            "grid_auto_columns": null,
            "grid_auto_flow": null,
            "grid_auto_rows": null,
            "grid_column": null,
            "grid_gap": null,
            "grid_row": null,
            "grid_template_areas": null,
            "grid_template_columns": null,
            "grid_template_rows": null,
            "height": null,
            "justify_content": null,
            "justify_items": null,
            "left": null,
            "margin": null,
            "max_height": null,
            "max_width": null,
            "min_height": null,
            "min_width": null,
            "object_fit": null,
            "object_position": null,
            "order": null,
            "overflow": null,
            "overflow_x": null,
            "overflow_y": null,
            "padding": null,
            "right": null,
            "top": null,
            "visibility": null,
            "width": null
          }
        },
        "5b6c8aae4f544cee9cdc022014d5937d": {
          "model_module": "@jupyter-widgets/controls",
          "model_name": "DescriptionStyleModel",
          "model_module_version": "1.5.0",
          "state": {
            "_model_module": "@jupyter-widgets/controls",
            "_model_module_version": "1.5.0",
            "_model_name": "DescriptionStyleModel",
            "_view_count": null,
            "_view_module": "@jupyter-widgets/base",
            "_view_module_version": "1.2.0",
            "_view_name": "StyleView",
            "description_width": ""
          }
        },
        "994393163733482fb6e31132a7b64b5d": {
          "model_module": "@jupyter-widgets/base",
          "model_name": "LayoutModel",
          "model_module_version": "1.2.0",
          "state": {
            "_model_module": "@jupyter-widgets/base",
            "_model_module_version": "1.2.0",
            "_model_name": "LayoutModel",
            "_view_count": null,
            "_view_module": "@jupyter-widgets/base",
            "_view_module_version": "1.2.0",
            "_view_name": "LayoutView",
            "align_content": null,
            "align_items": null,
            "align_self": null,
            "border": null,
            "bottom": null,
            "display": null,
            "flex": null,
            "flex_flow": null,
            "grid_area": null,
            "grid_auto_columns": null,
            "grid_auto_flow": null,
            "grid_auto_rows": null,
            "grid_column": null,
            "grid_gap": null,
            "grid_row": null,
            "grid_template_areas": null,
            "grid_template_columns": null,
            "grid_template_rows": null,
            "height": null,
            "justify_content": null,
            "justify_items": null,
            "left": null,
            "margin": null,
            "max_height": null,
            "max_width": null,
            "min_height": null,
            "min_width": null,
            "object_fit": null,
            "object_position": null,
            "order": null,
            "overflow": null,
            "overflow_x": null,
            "overflow_y": null,
            "padding": null,
            "right": null,
            "top": null,
            "visibility": null,
            "width": null
          }
        },
        "891a3156f45e4f5aaeb84d32c4f7a58f": {
          "model_module": "@jupyter-widgets/controls",
          "model_name": "ProgressStyleModel",
          "model_module_version": "1.5.0",
          "state": {
            "_model_module": "@jupyter-widgets/controls",
            "_model_module_version": "1.5.0",
            "_model_name": "ProgressStyleModel",
            "_view_count": null,
            "_view_module": "@jupyter-widgets/base",
            "_view_module_version": "1.2.0",
            "_view_name": "StyleView",
            "bar_color": null,
            "description_width": ""
          }
        },
        "2177b7a8ce48452ab37dead6f2a69a28": {
          "model_module": "@jupyter-widgets/base",
          "model_name": "LayoutModel",
          "model_module_version": "1.2.0",
          "state": {
            "_model_module": "@jupyter-widgets/base",
            "_model_module_version": "1.2.0",
            "_model_name": "LayoutModel",
            "_view_count": null,
            "_view_module": "@jupyter-widgets/base",
            "_view_module_version": "1.2.0",
            "_view_name": "LayoutView",
            "align_content": null,
            "align_items": null,
            "align_self": null,
            "border": null,
            "bottom": null,
            "display": null,
            "flex": null,
            "flex_flow": null,
            "grid_area": null,
            "grid_auto_columns": null,
            "grid_auto_flow": null,
            "grid_auto_rows": null,
            "grid_column": null,
            "grid_gap": null,
            "grid_row": null,
            "grid_template_areas": null,
            "grid_template_columns": null,
            "grid_template_rows": null,
            "height": null,
            "justify_content": null,
            "justify_items": null,
            "left": null,
            "margin": null,
            "max_height": null,
            "max_width": null,
            "min_height": null,
            "min_width": null,
            "object_fit": null,
            "object_position": null,
            "order": null,
            "overflow": null,
            "overflow_x": null,
            "overflow_y": null,
            "padding": null,
            "right": null,
            "top": null,
            "visibility": null,
            "width": null
          }
        },
        "061998b79aeb43cc9c3d65f4c5d9bc5d": {
          "model_module": "@jupyter-widgets/controls",
          "model_name": "DescriptionStyleModel",
          "model_module_version": "1.5.0",
          "state": {
            "_model_module": "@jupyter-widgets/controls",
            "_model_module_version": "1.5.0",
            "_model_name": "DescriptionStyleModel",
            "_view_count": null,
            "_view_module": "@jupyter-widgets/base",
            "_view_module_version": "1.2.0",
            "_view_name": "StyleView",
            "description_width": ""
          }
        },
        "0429ee95d89e4ef4afe3a0cde7260a03": {
          "model_module": "@jupyter-widgets/controls",
          "model_name": "HBoxModel",
          "model_module_version": "1.5.0",
          "state": {
            "_dom_classes": [],
            "_model_module": "@jupyter-widgets/controls",
            "_model_module_version": "1.5.0",
            "_model_name": "HBoxModel",
            "_view_count": null,
            "_view_module": "@jupyter-widgets/controls",
            "_view_module_version": "1.5.0",
            "_view_name": "HBoxView",
            "box_style": "",
            "children": [
              "IPY_MODEL_352a42979e5b45589ca1088337cab10f",
              "IPY_MODEL_82bb37bdbc3d49d6ab1e7c86f79874e1",
              "IPY_MODEL_b765802e6f9a40de9ca128083c1cd2d7"
            ],
            "layout": "IPY_MODEL_1165c5b8e0584536bf5e44889657cb4d"
          }
        },
        "352a42979e5b45589ca1088337cab10f": {
          "model_module": "@jupyter-widgets/controls",
          "model_name": "HTMLModel",
          "model_module_version": "1.5.0",
          "state": {
            "_dom_classes": [],
            "_model_module": "@jupyter-widgets/controls",
            "_model_module_version": "1.5.0",
            "_model_name": "HTMLModel",
            "_view_count": null,
            "_view_module": "@jupyter-widgets/controls",
            "_view_module_version": "1.5.0",
            "_view_name": "HTMLView",
            "description": "",
            "description_tooltip": null,
            "layout": "IPY_MODEL_aa62502042984b0eb06281bb11b11ad0",
            "placeholder": "​",
            "style": "IPY_MODEL_f4143d5285264afdb310f8ea9e3555ab",
            "value": "sentences.csv: 100%"
          }
        },
        "82bb37bdbc3d49d6ab1e7c86f79874e1": {
          "model_module": "@jupyter-widgets/controls",
          "model_name": "FloatProgressModel",
          "model_module_version": "1.5.0",
          "state": {
            "_dom_classes": [],
            "_model_module": "@jupyter-widgets/controls",
            "_model_module_version": "1.5.0",
            "_model_name": "FloatProgressModel",
            "_view_count": null,
            "_view_module": "@jupyter-widgets/controls",
            "_view_module_version": "1.5.0",
            "_view_name": "ProgressView",
            "bar_style": "success",
            "description": "",
            "description_tooltip": null,
            "layout": "IPY_MODEL_fcc839db65f24ef390cb3ad80a43babe",
            "max": 6337107,
            "min": 0,
            "orientation": "horizontal",
            "style": "IPY_MODEL_fd6df55f3d1f4693abe49bd2ff73cab4",
            "value": 6337107
          }
        },
        "b765802e6f9a40de9ca128083c1cd2d7": {
          "model_module": "@jupyter-widgets/controls",
          "model_name": "HTMLModel",
          "model_module_version": "1.5.0",
          "state": {
            "_dom_classes": [],
            "_model_module": "@jupyter-widgets/controls",
            "_model_module_version": "1.5.0",
            "_model_name": "HTMLModel",
            "_view_count": null,
            "_view_module": "@jupyter-widgets/controls",
            "_view_module_version": "1.5.0",
            "_view_name": "HTMLView",
            "description": "",
            "description_tooltip": null,
            "layout": "IPY_MODEL_12eaddff2ae04893beb8f22e269e1df6",
            "placeholder": "​",
            "style": "IPY_MODEL_0ac8555095644c47a4db3953d156ef0b",
            "value": " 6.34M/6.34M [00:00&lt;00:00, 15.2MB/s]"
          }
        },
        "1165c5b8e0584536bf5e44889657cb4d": {
          "model_module": "@jupyter-widgets/base",
          "model_name": "LayoutModel",
          "model_module_version": "1.2.0",
          "state": {
            "_model_module": "@jupyter-widgets/base",
            "_model_module_version": "1.2.0",
            "_model_name": "LayoutModel",
            "_view_count": null,
            "_view_module": "@jupyter-widgets/base",
            "_view_module_version": "1.2.0",
            "_view_name": "LayoutView",
            "align_content": null,
            "align_items": null,
            "align_self": null,
            "border": null,
            "bottom": null,
            "display": null,
            "flex": null,
            "flex_flow": null,
            "grid_area": null,
            "grid_auto_columns": null,
            "grid_auto_flow": null,
            "grid_auto_rows": null,
            "grid_column": null,
            "grid_gap": null,
            "grid_row": null,
            "grid_template_areas": null,
            "grid_template_columns": null,
            "grid_template_rows": null,
            "height": null,
            "justify_content": null,
            "justify_items": null,
            "left": null,
            "margin": null,
            "max_height": null,
            "max_width": null,
            "min_height": null,
            "min_width": null,
            "object_fit": null,
            "object_position": null,
            "order": null,
            "overflow": null,
            "overflow_x": null,
            "overflow_y": null,
            "padding": null,
            "right": null,
            "top": null,
            "visibility": null,
            "width": null
          }
        },
        "aa62502042984b0eb06281bb11b11ad0": {
          "model_module": "@jupyter-widgets/base",
          "model_name": "LayoutModel",
          "model_module_version": "1.2.0",
          "state": {
            "_model_module": "@jupyter-widgets/base",
            "_model_module_version": "1.2.0",
            "_model_name": "LayoutModel",
            "_view_count": null,
            "_view_module": "@jupyter-widgets/base",
            "_view_module_version": "1.2.0",
            "_view_name": "LayoutView",
            "align_content": null,
            "align_items": null,
            "align_self": null,
            "border": null,
            "bottom": null,
            "display": null,
            "flex": null,
            "flex_flow": null,
            "grid_area": null,
            "grid_auto_columns": null,
            "grid_auto_flow": null,
            "grid_auto_rows": null,
            "grid_column": null,
            "grid_gap": null,
            "grid_row": null,
            "grid_template_areas": null,
            "grid_template_columns": null,
            "grid_template_rows": null,
            "height": null,
            "justify_content": null,
            "justify_items": null,
            "left": null,
            "margin": null,
            "max_height": null,
            "max_width": null,
            "min_height": null,
            "min_width": null,
            "object_fit": null,
            "object_position": null,
            "order": null,
            "overflow": null,
            "overflow_x": null,
            "overflow_y": null,
            "padding": null,
            "right": null,
            "top": null,
            "visibility": null,
            "width": null
          }
        },
        "f4143d5285264afdb310f8ea9e3555ab": {
          "model_module": "@jupyter-widgets/controls",
          "model_name": "DescriptionStyleModel",
          "model_module_version": "1.5.0",
          "state": {
            "_model_module": "@jupyter-widgets/controls",
            "_model_module_version": "1.5.0",
            "_model_name": "DescriptionStyleModel",
            "_view_count": null,
            "_view_module": "@jupyter-widgets/base",
            "_view_module_version": "1.2.0",
            "_view_name": "StyleView",
            "description_width": ""
          }
        },
        "fcc839db65f24ef390cb3ad80a43babe": {
          "model_module": "@jupyter-widgets/base",
          "model_name": "LayoutModel",
          "model_module_version": "1.2.0",
          "state": {
            "_model_module": "@jupyter-widgets/base",
            "_model_module_version": "1.2.0",
            "_model_name": "LayoutModel",
            "_view_count": null,
            "_view_module": "@jupyter-widgets/base",
            "_view_module_version": "1.2.0",
            "_view_name": "LayoutView",
            "align_content": null,
            "align_items": null,
            "align_self": null,
            "border": null,
            "bottom": null,
            "display": null,
            "flex": null,
            "flex_flow": null,
            "grid_area": null,
            "grid_auto_columns": null,
            "grid_auto_flow": null,
            "grid_auto_rows": null,
            "grid_column": null,
            "grid_gap": null,
            "grid_row": null,
            "grid_template_areas": null,
            "grid_template_columns": null,
            "grid_template_rows": null,
            "height": null,
            "justify_content": null,
            "justify_items": null,
            "left": null,
            "margin": null,
            "max_height": null,
            "max_width": null,
            "min_height": null,
            "min_width": null,
            "object_fit": null,
            "object_position": null,
            "order": null,
            "overflow": null,
            "overflow_x": null,
            "overflow_y": null,
            "padding": null,
            "right": null,
            "top": null,
            "visibility": null,
            "width": null
          }
        },
        "fd6df55f3d1f4693abe49bd2ff73cab4": {
          "model_module": "@jupyter-widgets/controls",
          "model_name": "ProgressStyleModel",
          "model_module_version": "1.5.0",
          "state": {
            "_model_module": "@jupyter-widgets/controls",
            "_model_module_version": "1.5.0",
            "_model_name": "ProgressStyleModel",
            "_view_count": null,
            "_view_module": "@jupyter-widgets/base",
            "_view_module_version": "1.2.0",
            "_view_name": "StyleView",
            "bar_color": null,
            "description_width": ""
          }
        },
        "12eaddff2ae04893beb8f22e269e1df6": {
          "model_module": "@jupyter-widgets/base",
          "model_name": "LayoutModel",
          "model_module_version": "1.2.0",
          "state": {
            "_model_module": "@jupyter-widgets/base",
            "_model_module_version": "1.2.0",
            "_model_name": "LayoutModel",
            "_view_count": null,
            "_view_module": "@jupyter-widgets/base",
            "_view_module_version": "1.2.0",
            "_view_name": "LayoutView",
            "align_content": null,
            "align_items": null,
            "align_self": null,
            "border": null,
            "bottom": null,
            "display": null,
            "flex": null,
            "flex_flow": null,
            "grid_area": null,
            "grid_auto_columns": null,
            "grid_auto_flow": null,
            "grid_auto_rows": null,
            "grid_column": null,
            "grid_gap": null,
            "grid_row": null,
            "grid_template_areas": null,
            "grid_template_columns": null,
            "grid_template_rows": null,
            "height": null,
            "justify_content": null,
            "justify_items": null,
            "left": null,
            "margin": null,
            "max_height": null,
            "max_width": null,
            "min_height": null,
            "min_width": null,
            "object_fit": null,
            "object_position": null,
            "order": null,
            "overflow": null,
            "overflow_x": null,
            "overflow_y": null,
            "padding": null,
            "right": null,
            "top": null,
            "visibility": null,
            "width": null
          }
        },
        "0ac8555095644c47a4db3953d156ef0b": {
          "model_module": "@jupyter-widgets/controls",
          "model_name": "DescriptionStyleModel",
          "model_module_version": "1.5.0",
          "state": {
            "_model_module": "@jupyter-widgets/controls",
            "_model_module_version": "1.5.0",
            "_model_name": "DescriptionStyleModel",
            "_view_count": null,
            "_view_module": "@jupyter-widgets/base",
            "_view_module_version": "1.2.0",
            "_view_name": "StyleView",
            "description_width": ""
          }
        },
        "7b78a03337524e19b1fbce6d6cce3209": {
          "model_module": "@jupyter-widgets/controls",
          "model_name": "HBoxModel",
          "model_module_version": "1.5.0",
          "state": {
            "_dom_classes": [],
            "_model_module": "@jupyter-widgets/controls",
            "_model_module_version": "1.5.0",
            "_model_name": "HBoxModel",
            "_view_count": null,
            "_view_module": "@jupyter-widgets/controls",
            "_view_module_version": "1.5.0",
            "_view_name": "HBoxView",
            "box_style": "",
            "children": [
              "IPY_MODEL_e8e2b75e1c1e4d508d6badbaa63c68c6",
              "IPY_MODEL_5ffe3faac7954985b8450f0a6f968b73",
              "IPY_MODEL_6f3ef1e6f1e444d6a553ce3d144cebd3"
            ],
            "layout": "IPY_MODEL_843077cd34fb481bb1adcf42ef400561"
          }
        },
        "e8e2b75e1c1e4d508d6badbaa63c68c6": {
          "model_module": "@jupyter-widgets/controls",
          "model_name": "HTMLModel",
          "model_module_version": "1.5.0",
          "state": {
            "_dom_classes": [],
            "_model_module": "@jupyter-widgets/controls",
            "_model_module_version": "1.5.0",
            "_model_name": "HTMLModel",
            "_view_count": null,
            "_view_module": "@jupyter-widgets/controls",
            "_view_module_version": "1.5.0",
            "_view_name": "HTMLView",
            "description": "",
            "description_tooltip": null,
            "layout": "IPY_MODEL_b0bf2b5b2c05482badeb525884967b76",
            "placeholder": "​",
            "style": "IPY_MODEL_f29175f0d2fb4986ae004ea255fa9c28",
            "value": "Generating sentences split: "
          }
        },
        "5ffe3faac7954985b8450f0a6f968b73": {
          "model_module": "@jupyter-widgets/controls",
          "model_name": "FloatProgressModel",
          "model_module_version": "1.5.0",
          "state": {
            "_dom_classes": [],
            "_model_module": "@jupyter-widgets/controls",
            "_model_module_version": "1.5.0",
            "_model_name": "FloatProgressModel",
            "_view_count": null,
            "_view_module": "@jupyter-widgets/controls",
            "_view_module_version": "1.5.0",
            "_view_name": "ProgressView",
            "bar_style": "success",
            "description": "",
            "description_tooltip": null,
            "layout": "IPY_MODEL_b8acc5a408024f939abd4f4af74decf8",
            "max": 1,
            "min": 0,
            "orientation": "horizontal",
            "style": "IPY_MODEL_c05f47af2fe142ae823bc348fb95cc82",
            "value": 1
          }
        },
        "6f3ef1e6f1e444d6a553ce3d144cebd3": {
          "model_module": "@jupyter-widgets/controls",
          "model_name": "HTMLModel",
          "model_module_version": "1.5.0",
          "state": {
            "_dom_classes": [],
            "_model_module": "@jupyter-widgets/controls",
            "_model_module_version": "1.5.0",
            "_model_name": "HTMLModel",
            "_view_count": null,
            "_view_module": "@jupyter-widgets/controls",
            "_view_module_version": "1.5.0",
            "_view_name": "HTMLView",
            "description": "",
            "description_tooltip": null,
            "layout": "IPY_MODEL_657225cbeeb848cab19487b53b82f38e",
            "placeholder": "​",
            "style": "IPY_MODEL_5a84ce35e15048319c823d05db389111",
            "value": " 87785/0 [00:00&lt;00:00, 140911.97 examples/s]"
          }
        },
        "843077cd34fb481bb1adcf42ef400561": {
          "model_module": "@jupyter-widgets/base",
          "model_name": "LayoutModel",
          "model_module_version": "1.2.0",
          "state": {
            "_model_module": "@jupyter-widgets/base",
            "_model_module_version": "1.2.0",
            "_model_name": "LayoutModel",
            "_view_count": null,
            "_view_module": "@jupyter-widgets/base",
            "_view_module_version": "1.2.0",
            "_view_name": "LayoutView",
            "align_content": null,
            "align_items": null,
            "align_self": null,
            "border": null,
            "bottom": null,
            "display": null,
            "flex": null,
            "flex_flow": null,
            "grid_area": null,
            "grid_auto_columns": null,
            "grid_auto_flow": null,
            "grid_auto_rows": null,
            "grid_column": null,
            "grid_gap": null,
            "grid_row": null,
            "grid_template_areas": null,
            "grid_template_columns": null,
            "grid_template_rows": null,
            "height": null,
            "justify_content": null,
            "justify_items": null,
            "left": null,
            "margin": null,
            "max_height": null,
            "max_width": null,
            "min_height": null,
            "min_width": null,
            "object_fit": null,
            "object_position": null,
            "order": null,
            "overflow": null,
            "overflow_x": null,
            "overflow_y": null,
            "padding": null,
            "right": null,
            "top": null,
            "visibility": null,
            "width": null
          }
        },
        "b0bf2b5b2c05482badeb525884967b76": {
          "model_module": "@jupyter-widgets/base",
          "model_name": "LayoutModel",
          "model_module_version": "1.2.0",
          "state": {
            "_model_module": "@jupyter-widgets/base",
            "_model_module_version": "1.2.0",
            "_model_name": "LayoutModel",
            "_view_count": null,
            "_view_module": "@jupyter-widgets/base",
            "_view_module_version": "1.2.0",
            "_view_name": "LayoutView",
            "align_content": null,
            "align_items": null,
            "align_self": null,
            "border": null,
            "bottom": null,
            "display": null,
            "flex": null,
            "flex_flow": null,
            "grid_area": null,
            "grid_auto_columns": null,
            "grid_auto_flow": null,
            "grid_auto_rows": null,
            "grid_column": null,
            "grid_gap": null,
            "grid_row": null,
            "grid_template_areas": null,
            "grid_template_columns": null,
            "grid_template_rows": null,
            "height": null,
            "justify_content": null,
            "justify_items": null,
            "left": null,
            "margin": null,
            "max_height": null,
            "max_width": null,
            "min_height": null,
            "min_width": null,
            "object_fit": null,
            "object_position": null,
            "order": null,
            "overflow": null,
            "overflow_x": null,
            "overflow_y": null,
            "padding": null,
            "right": null,
            "top": null,
            "visibility": null,
            "width": null
          }
        },
        "f29175f0d2fb4986ae004ea255fa9c28": {
          "model_module": "@jupyter-widgets/controls",
          "model_name": "DescriptionStyleModel",
          "model_module_version": "1.5.0",
          "state": {
            "_model_module": "@jupyter-widgets/controls",
            "_model_module_version": "1.5.0",
            "_model_name": "DescriptionStyleModel",
            "_view_count": null,
            "_view_module": "@jupyter-widgets/base",
            "_view_module_version": "1.2.0",
            "_view_name": "StyleView",
            "description_width": ""
          }
        },
        "b8acc5a408024f939abd4f4af74decf8": {
          "model_module": "@jupyter-widgets/base",
          "model_name": "LayoutModel",
          "model_module_version": "1.2.0",
          "state": {
            "_model_module": "@jupyter-widgets/base",
            "_model_module_version": "1.2.0",
            "_model_name": "LayoutModel",
            "_view_count": null,
            "_view_module": "@jupyter-widgets/base",
            "_view_module_version": "1.2.0",
            "_view_name": "LayoutView",
            "align_content": null,
            "align_items": null,
            "align_self": null,
            "border": null,
            "bottom": null,
            "display": null,
            "flex": null,
            "flex_flow": null,
            "grid_area": null,
            "grid_auto_columns": null,
            "grid_auto_flow": null,
            "grid_auto_rows": null,
            "grid_column": null,
            "grid_gap": null,
            "grid_row": null,
            "grid_template_areas": null,
            "grid_template_columns": null,
            "grid_template_rows": null,
            "height": null,
            "justify_content": null,
            "justify_items": null,
            "left": null,
            "margin": null,
            "max_height": null,
            "max_width": null,
            "min_height": null,
            "min_width": null,
            "object_fit": null,
            "object_position": null,
            "order": null,
            "overflow": null,
            "overflow_x": null,
            "overflow_y": null,
            "padding": null,
            "right": null,
            "top": null,
            "visibility": null,
            "width": "20px"
          }
        },
        "c05f47af2fe142ae823bc348fb95cc82": {
          "model_module": "@jupyter-widgets/controls",
          "model_name": "ProgressStyleModel",
          "model_module_version": "1.5.0",
          "state": {
            "_model_module": "@jupyter-widgets/controls",
            "_model_module_version": "1.5.0",
            "_model_name": "ProgressStyleModel",
            "_view_count": null,
            "_view_module": "@jupyter-widgets/base",
            "_view_module_version": "1.2.0",
            "_view_name": "StyleView",
            "bar_color": null,
            "description_width": ""
          }
        },
        "657225cbeeb848cab19487b53b82f38e": {
          "model_module": "@jupyter-widgets/base",
          "model_name": "LayoutModel",
          "model_module_version": "1.2.0",
          "state": {
            "_model_module": "@jupyter-widgets/base",
            "_model_module_version": "1.2.0",
            "_model_name": "LayoutModel",
            "_view_count": null,
            "_view_module": "@jupyter-widgets/base",
            "_view_module_version": "1.2.0",
            "_view_name": "LayoutView",
            "align_content": null,
            "align_items": null,
            "align_self": null,
            "border": null,
            "bottom": null,
            "display": null,
            "flex": null,
            "flex_flow": null,
            "grid_area": null,
            "grid_auto_columns": null,
            "grid_auto_flow": null,
            "grid_auto_rows": null,
            "grid_column": null,
            "grid_gap": null,
            "grid_row": null,
            "grid_template_areas": null,
            "grid_template_columns": null,
            "grid_template_rows": null,
            "height": null,
            "justify_content": null,
            "justify_items": null,
            "left": null,
            "margin": null,
            "max_height": null,
            "max_width": null,
            "min_height": null,
            "min_width": null,
            "object_fit": null,
            "object_position": null,
            "order": null,
            "overflow": null,
            "overflow_x": null,
            "overflow_y": null,
            "padding": null,
            "right": null,
            "top": null,
            "visibility": null,
            "width": null
          }
        },
        "5a84ce35e15048319c823d05db389111": {
          "model_module": "@jupyter-widgets/controls",
          "model_name": "DescriptionStyleModel",
          "model_module_version": "1.5.0",
          "state": {
            "_model_module": "@jupyter-widgets/controls",
            "_model_module_version": "1.5.0",
            "_model_name": "DescriptionStyleModel",
            "_view_count": null,
            "_view_module": "@jupyter-widgets/base",
            "_view_module_version": "1.2.0",
            "_view_name": "StyleView",
            "description_width": ""
          }
        }
      }
    }
  },
  "cells": [
    {
      "cell_type": "markdown",
      "source": [
        "# Data loading"
      ],
      "metadata": {
        "id": "-XOnYjss6Jhh"
      }
    },
    {
      "cell_type": "code",
      "execution_count": 4,
      "metadata": {
        "colab": {
          "base_uri": "https://localhost:8080/"
        },
        "id": "4VMRyO4jNIEY",
        "outputId": "086dedf4-f2cb-46e4-af1e-ba2cdc99bd4d"
      },
      "outputs": [
        {
          "output_type": "stream",
          "name": "stdout",
          "text": [
            "Collecting datasets\n",
            "  Downloading datasets-3.1.0-py3-none-any.whl.metadata (20 kB)\n",
            "Requirement already satisfied: filelock in /usr/local/lib/python3.10/dist-packages (from datasets) (3.16.1)\n",
            "Requirement already satisfied: numpy>=1.17 in /usr/local/lib/python3.10/dist-packages (from datasets) (1.26.4)\n",
            "Requirement already satisfied: pyarrow>=15.0.0 in /usr/local/lib/python3.10/dist-packages (from datasets) (17.0.0)\n",
            "Collecting dill<0.3.9,>=0.3.0 (from datasets)\n",
            "  Downloading dill-0.3.8-py3-none-any.whl.metadata (10 kB)\n",
            "Requirement already satisfied: pandas in /usr/local/lib/python3.10/dist-packages (from datasets) (2.2.2)\n",
            "Requirement already satisfied: requests>=2.32.2 in /usr/local/lib/python3.10/dist-packages (from datasets) (2.32.3)\n",
            "Requirement already satisfied: tqdm>=4.66.3 in /usr/local/lib/python3.10/dist-packages (from datasets) (4.66.6)\n",
            "Collecting xxhash (from datasets)\n",
            "  Downloading xxhash-3.5.0-cp310-cp310-manylinux_2_17_x86_64.manylinux2014_x86_64.whl.metadata (12 kB)\n",
            "Collecting multiprocess<0.70.17 (from datasets)\n",
            "  Downloading multiprocess-0.70.16-py310-none-any.whl.metadata (7.2 kB)\n",
            "Collecting fsspec<=2024.9.0,>=2023.1.0 (from fsspec[http]<=2024.9.0,>=2023.1.0->datasets)\n",
            "  Downloading fsspec-2024.9.0-py3-none-any.whl.metadata (11 kB)\n",
            "Requirement already satisfied: aiohttp in /usr/local/lib/python3.10/dist-packages (from datasets) (3.11.9)\n",
            "Requirement already satisfied: huggingface-hub>=0.23.0 in /usr/local/lib/python3.10/dist-packages (from datasets) (0.26.3)\n",
            "Requirement already satisfied: packaging in /usr/local/lib/python3.10/dist-packages (from datasets) (24.2)\n",
            "Requirement already satisfied: pyyaml>=5.1 in /usr/local/lib/python3.10/dist-packages (from datasets) (6.0.2)\n",
            "Requirement already satisfied: aiohappyeyeballs>=2.3.0 in /usr/local/lib/python3.10/dist-packages (from aiohttp->datasets) (2.4.4)\n",
            "Requirement already satisfied: aiosignal>=1.1.2 in /usr/local/lib/python3.10/dist-packages (from aiohttp->datasets) (1.3.1)\n",
            "Requirement already satisfied: async-timeout<6.0,>=4.0 in /usr/local/lib/python3.10/dist-packages (from aiohttp->datasets) (4.0.3)\n",
            "Requirement already satisfied: attrs>=17.3.0 in /usr/local/lib/python3.10/dist-packages (from aiohttp->datasets) (24.2.0)\n",
            "Requirement already satisfied: frozenlist>=1.1.1 in /usr/local/lib/python3.10/dist-packages (from aiohttp->datasets) (1.5.0)\n",
            "Requirement already satisfied: multidict<7.0,>=4.5 in /usr/local/lib/python3.10/dist-packages (from aiohttp->datasets) (6.1.0)\n",
            "Requirement already satisfied: propcache>=0.2.0 in /usr/local/lib/python3.10/dist-packages (from aiohttp->datasets) (0.2.1)\n",
            "Requirement already satisfied: yarl<2.0,>=1.17.0 in /usr/local/lib/python3.10/dist-packages (from aiohttp->datasets) (1.18.3)\n",
            "Requirement already satisfied: typing-extensions>=3.7.4.3 in /usr/local/lib/python3.10/dist-packages (from huggingface-hub>=0.23.0->datasets) (4.12.2)\n",
            "Requirement already satisfied: charset-normalizer<4,>=2 in /usr/local/lib/python3.10/dist-packages (from requests>=2.32.2->datasets) (3.4.0)\n",
            "Requirement already satisfied: idna<4,>=2.5 in /usr/local/lib/python3.10/dist-packages (from requests>=2.32.2->datasets) (3.10)\n",
            "Requirement already satisfied: urllib3<3,>=1.21.1 in /usr/local/lib/python3.10/dist-packages (from requests>=2.32.2->datasets) (2.2.3)\n",
            "Requirement already satisfied: certifi>=2017.4.17 in /usr/local/lib/python3.10/dist-packages (from requests>=2.32.2->datasets) (2024.8.30)\n",
            "Requirement already satisfied: python-dateutil>=2.8.2 in /usr/local/lib/python3.10/dist-packages (from pandas->datasets) (2.8.2)\n",
            "Requirement already satisfied: pytz>=2020.1 in /usr/local/lib/python3.10/dist-packages (from pandas->datasets) (2024.2)\n",
            "Requirement already satisfied: tzdata>=2022.7 in /usr/local/lib/python3.10/dist-packages (from pandas->datasets) (2024.2)\n",
            "Requirement already satisfied: six>=1.5 in /usr/local/lib/python3.10/dist-packages (from python-dateutil>=2.8.2->pandas->datasets) (1.16.0)\n",
            "Downloading datasets-3.1.0-py3-none-any.whl (480 kB)\n",
            "\u001b[2K   \u001b[90m━━━━━━━━━━━━━━━━━━━━━━━━━━━━━━━━━━━━━━━━\u001b[0m \u001b[32m480.6/480.6 kB\u001b[0m \u001b[31m14.4 MB/s\u001b[0m eta \u001b[36m0:00:00\u001b[0m\n",
            "\u001b[?25hDownloading dill-0.3.8-py3-none-any.whl (116 kB)\n",
            "\u001b[2K   \u001b[90m━━━━━━━━━━━━━━━━━━━━━━━━━━━━━━━━━━━━━━━━\u001b[0m \u001b[32m116.3/116.3 kB\u001b[0m \u001b[31m10.6 MB/s\u001b[0m eta \u001b[36m0:00:00\u001b[0m\n",
            "\u001b[?25hDownloading fsspec-2024.9.0-py3-none-any.whl (179 kB)\n",
            "\u001b[2K   \u001b[90m━━━━━━━━━━━━━━━━━━━━━━━━━━━━━━━━━━━━━━━━\u001b[0m \u001b[32m179.3/179.3 kB\u001b[0m \u001b[31m16.0 MB/s\u001b[0m eta \u001b[36m0:00:00\u001b[0m\n",
            "\u001b[?25hDownloading multiprocess-0.70.16-py310-none-any.whl (134 kB)\n",
            "\u001b[2K   \u001b[90m━━━━━━━━━━━━━━━━━━━━━━━━━━━━━━━━━━━━━━━━\u001b[0m \u001b[32m134.8/134.8 kB\u001b[0m \u001b[31m13.9 MB/s\u001b[0m eta \u001b[36m0:00:00\u001b[0m\n",
            "\u001b[?25hDownloading xxhash-3.5.0-cp310-cp310-manylinux_2_17_x86_64.manylinux2014_x86_64.whl (194 kB)\n",
            "\u001b[2K   \u001b[90m━━━━━━━━━━━━━━━━━━━━━━━━━━━━━━━━━━━━━━━━\u001b[0m \u001b[32m194.1/194.1 kB\u001b[0m \u001b[31m19.2 MB/s\u001b[0m eta \u001b[36m0:00:00\u001b[0m\n",
            "\u001b[?25hInstalling collected packages: xxhash, fsspec, dill, multiprocess, datasets\n",
            "  Attempting uninstall: fsspec\n",
            "    Found existing installation: fsspec 2024.10.0\n",
            "    Uninstalling fsspec-2024.10.0:\n",
            "      Successfully uninstalled fsspec-2024.10.0\n",
            "\u001b[31mERROR: pip's dependency resolver does not currently take into account all the packages that are installed. This behaviour is the source of the following dependency conflicts.\n",
            "gcsfs 2024.10.0 requires fsspec==2024.10.0, but you have fsspec 2024.9.0 which is incompatible.\u001b[0m\u001b[31m\n",
            "\u001b[0mSuccessfully installed datasets-3.1.0 dill-0.3.8 fsspec-2024.9.0 multiprocess-0.70.16 xxhash-3.5.0\n"
          ]
        }
      ],
      "source": [
        "pip install datasets"
      ]
    },
    {
      "cell_type": "code",
      "source": [
        "from datasets import load_dataset\n",
        "import pandas as pd"
      ],
      "metadata": {
        "id": "Sug4TPbgNiet"
      },
      "execution_count": 5,
      "outputs": []
    },
    {
      "cell_type": "code",
      "source": [
        "dataset = load_dataset(\"imomayiz/darija-english\", \"sentences\")"
      ],
      "metadata": {
        "colab": {
          "base_uri": "https://localhost:8080/",
          "height": 237,
          "referenced_widgets": [
            "bf394aeee5a84a0d9799a77cc9e2f28a",
            "23e6d432d5194d05a082a4960a491101",
            "0172091204da453b866aa3994d0dfe3f",
            "2f14250ea2294b8e843a062070fa301a",
            "1c40862ddbc9455196901ae0e5df06d2",
            "1ef2809ddd224e13bf09cc3cf045427a",
            "5b6c8aae4f544cee9cdc022014d5937d",
            "994393163733482fb6e31132a7b64b5d",
            "891a3156f45e4f5aaeb84d32c4f7a58f",
            "2177b7a8ce48452ab37dead6f2a69a28",
            "061998b79aeb43cc9c3d65f4c5d9bc5d",
            "0429ee95d89e4ef4afe3a0cde7260a03",
            "352a42979e5b45589ca1088337cab10f",
            "82bb37bdbc3d49d6ab1e7c86f79874e1",
            "b765802e6f9a40de9ca128083c1cd2d7",
            "1165c5b8e0584536bf5e44889657cb4d",
            "aa62502042984b0eb06281bb11b11ad0",
            "f4143d5285264afdb310f8ea9e3555ab",
            "fcc839db65f24ef390cb3ad80a43babe",
            "fd6df55f3d1f4693abe49bd2ff73cab4",
            "12eaddff2ae04893beb8f22e269e1df6",
            "0ac8555095644c47a4db3953d156ef0b",
            "7b78a03337524e19b1fbce6d6cce3209",
            "e8e2b75e1c1e4d508d6badbaa63c68c6",
            "5ffe3faac7954985b8450f0a6f968b73",
            "6f3ef1e6f1e444d6a553ce3d144cebd3",
            "843077cd34fb481bb1adcf42ef400561",
            "b0bf2b5b2c05482badeb525884967b76",
            "f29175f0d2fb4986ae004ea255fa9c28",
            "b8acc5a408024f939abd4f4af74decf8",
            "c05f47af2fe142ae823bc348fb95cc82",
            "657225cbeeb848cab19487b53b82f38e",
            "5a84ce35e15048319c823d05db389111"
          ]
        },
        "id": "zt3IHYKh6nou",
        "outputId": "4fa1416a-b747-4239-8d74-40f2157a5afc"
      },
      "execution_count": 6,
      "outputs": [
        {
          "output_type": "stream",
          "name": "stderr",
          "text": [
            "/usr/local/lib/python3.10/dist-packages/huggingface_hub/utils/_auth.py:94: UserWarning: \n",
            "The secret `HF_TOKEN` does not exist in your Colab secrets.\n",
            "To authenticate with the Hugging Face Hub, create a token in your settings tab (https://huggingface.co/settings/tokens), set it as secret in your Google Colab and restart your session.\n",
            "You will be able to reuse this secret in all of your notebooks.\n",
            "Please note that authentication is recommended but still optional to access public models or datasets.\n",
            "  warnings.warn(\n"
          ]
        },
        {
          "output_type": "display_data",
          "data": {
            "text/plain": [
              "README.md:   0%|          | 0.00/348 [00:00<?, ?B/s]"
            ],
            "application/vnd.jupyter.widget-view+json": {
              "version_major": 2,
              "version_minor": 0,
              "model_id": "bf394aeee5a84a0d9799a77cc9e2f28a"
            }
          },
          "metadata": {}
        },
        {
          "output_type": "display_data",
          "data": {
            "text/plain": [
              "sentences.csv:   0%|          | 0.00/6.34M [00:00<?, ?B/s]"
            ],
            "application/vnd.jupyter.widget-view+json": {
              "version_major": 2,
              "version_minor": 0,
              "model_id": "0429ee95d89e4ef4afe3a0cde7260a03"
            }
          },
          "metadata": {}
        },
        {
          "output_type": "display_data",
          "data": {
            "text/plain": [
              "Generating sentences split: 0 examples [00:00, ? examples/s]"
            ],
            "application/vnd.jupyter.widget-view+json": {
              "version_major": 2,
              "version_minor": 0,
              "model_id": "7b78a03337524e19b1fbce6d6cce3209"
            }
          },
          "metadata": {}
        }
      ]
    },
    {
      "cell_type": "code",
      "source": [
        "# Converting to Pandas DataFrame\n",
        "df = dataset['sentences'].to_pandas()\n",
        "\n",
        "# Displaying the first 5 rows\n",
        "print(df.head())\n"
      ],
      "metadata": {
        "colab": {
          "base_uri": "https://localhost:8080/"
        },
        "id": "oTQDN8n0NMl0",
        "outputId": "331c92ca-c690-428b-e896-2704a8cd1ab1"
      },
      "execution_count": 7,
      "outputs": [
        {
          "output_type": "stream",
          "name": "stdout",
          "text": [
            "                                   darija  \\\n",
            "0    homa mkhbbyin chi haja, ana mti99en!   \n",
            "1      bayna homa tay7awlo ib9aw mbrrdin.   \n",
            "2  loTilat mabaynach fihom mori7in bzzaf.   \n",
            "3      ghaliban ghayjrriw 3lih mn lkhdma!   \n",
            "4                     Tab3an rah mkta2eb!   \n",
            "\n",
            "                                                 eng  \\\n",
            "0                They're hiding something, I'm sure!   \n",
            "1    It's obvious they're trying to keep their cool.   \n",
            "2            the hotels don't seem very comfortable.   \n",
            "3  he is probably about to be laid off by head of...   \n",
            "4                         of course he's depressive!   \n",
            "\n",
            "                               darija_ar  \n",
            "0      هوما مخبّيين شي حاجة, أنا متيقّن!  \n",
            "1     باينا هوما تايحاولو إبقاو مبرّدين.  \n",
            "2  لوطيلات مابايناش فيهوم موريحين بزّاف.  \n",
            "3        غاليبان غايجرّيو عليه من لخدما!  \n",
            "4                     طابعان راه مكتاءب!  \n"
          ]
        }
      ]
    },
    {
      "cell_type": "code",
      "source": [
        "# Display the DataFrame as a table\n",
        "from IPython.display import display\n",
        "\n",
        "display(df.head(10))  # Show the first 10 rows\n"
      ],
      "metadata": {
        "colab": {
          "base_uri": "https://localhost:8080/",
          "height": 383
        },
        "id": "XCrmiIIzNPTI",
        "outputId": "17c4752c-1c02-4925-e464-b2b4e4416e57"
      },
      "execution_count": 8,
      "outputs": [
        {
          "output_type": "display_data",
          "data": {
            "text/plain": [
              "                                       darija  \\\n",
              "0        homa mkhbbyin chi haja, ana mti99en!   \n",
              "1          bayna homa tay7awlo ib9aw mbrrdin.   \n",
              "2      loTilat mabaynach fihom mori7in bzzaf.   \n",
              "3          ghaliban ghayjrriw 3lih mn lkhdma!   \n",
              "4                         Tab3an rah mkta2eb!   \n",
              "5                         tayballia ghanmchi!   \n",
              "6                            ara lia dak sac.   \n",
              "7                                   ghanmreD!   \n",
              "8        knt dima 3arf annaha bghatna nmoutou   \n",
              "9  bghit n3ref ch7al b9a lia tlwe9t bach n9ra   \n",
              "\n",
              "                                                 eng  \\\n",
              "0                They're hiding something, I'm sure!   \n",
              "1    It's obvious they're trying to keep their cool.   \n",
              "2            the hotels don't seem very comfortable.   \n",
              "3  he is probably about to be laid off by head of...   \n",
              "4                         of course he's depressive!   \n",
              "5                        I think I'm going to leave!   \n",
              "6                                  hand me that bag.   \n",
              "7                              I'm going to be sick!   \n",
              "8                   I always knew she wanted us dead   \n",
              "9  I'd like to know how much time I have left to ...   \n",
              "\n",
              "                               darija_ar  \n",
              "0      هوما مخبّيين شي حاجة, أنا متيقّن!  \n",
              "1     باينا هوما تايحاولو إبقاو مبرّدين.  \n",
              "2  لوطيلات مابايناش فيهوم موريحين بزّاف.  \n",
              "3        غاليبان غايجرّيو عليه من لخدما!  \n",
              "4                     طابعان راه مكتاءب!  \n",
              "5                      تايبالّيا غانمشي!  \n",
              "6                       أرا ليا داك ساك.  \n",
              "7                                غانمرض!  \n",
              "8      كنت ديما عارف أنّاها بغاتنا نموتو  \n",
              "9  بغيت نعرف شحال بقا ليا تلوقت باش نقرا  "
            ],
            "text/html": [
              "\n",
              "  <div id=\"df-652da25a-b88d-4c61-9ac7-6881f4879ec9\" class=\"colab-df-container\">\n",
              "    <div>\n",
              "<style scoped>\n",
              "    .dataframe tbody tr th:only-of-type {\n",
              "        vertical-align: middle;\n",
              "    }\n",
              "\n",
              "    .dataframe tbody tr th {\n",
              "        vertical-align: top;\n",
              "    }\n",
              "\n",
              "    .dataframe thead th {\n",
              "        text-align: right;\n",
              "    }\n",
              "</style>\n",
              "<table border=\"1\" class=\"dataframe\">\n",
              "  <thead>\n",
              "    <tr style=\"text-align: right;\">\n",
              "      <th></th>\n",
              "      <th>darija</th>\n",
              "      <th>eng</th>\n",
              "      <th>darija_ar</th>\n",
              "    </tr>\n",
              "  </thead>\n",
              "  <tbody>\n",
              "    <tr>\n",
              "      <th>0</th>\n",
              "      <td>homa mkhbbyin chi haja, ana mti99en!</td>\n",
              "      <td>They're hiding something, I'm sure!</td>\n",
              "      <td>هوما مخبّيين شي حاجة, أنا متيقّن!</td>\n",
              "    </tr>\n",
              "    <tr>\n",
              "      <th>1</th>\n",
              "      <td>bayna homa tay7awlo ib9aw mbrrdin.</td>\n",
              "      <td>It's obvious they're trying to keep their cool.</td>\n",
              "      <td>باينا هوما تايحاولو إبقاو مبرّدين.</td>\n",
              "    </tr>\n",
              "    <tr>\n",
              "      <th>2</th>\n",
              "      <td>loTilat mabaynach fihom mori7in bzzaf.</td>\n",
              "      <td>the hotels don't seem very comfortable.</td>\n",
              "      <td>لوطيلات مابايناش فيهوم موريحين بزّاف.</td>\n",
              "    </tr>\n",
              "    <tr>\n",
              "      <th>3</th>\n",
              "      <td>ghaliban ghayjrriw 3lih mn lkhdma!</td>\n",
              "      <td>he is probably about to be laid off by head of...</td>\n",
              "      <td>غاليبان غايجرّيو عليه من لخدما!</td>\n",
              "    </tr>\n",
              "    <tr>\n",
              "      <th>4</th>\n",
              "      <td>Tab3an rah mkta2eb!</td>\n",
              "      <td>of course he's depressive!</td>\n",
              "      <td>طابعان راه مكتاءب!</td>\n",
              "    </tr>\n",
              "    <tr>\n",
              "      <th>5</th>\n",
              "      <td>tayballia ghanmchi!</td>\n",
              "      <td>I think I'm going to leave!</td>\n",
              "      <td>تايبالّيا غانمشي!</td>\n",
              "    </tr>\n",
              "    <tr>\n",
              "      <th>6</th>\n",
              "      <td>ara lia dak sac.</td>\n",
              "      <td>hand me that bag.</td>\n",
              "      <td>أرا ليا داك ساك.</td>\n",
              "    </tr>\n",
              "    <tr>\n",
              "      <th>7</th>\n",
              "      <td>ghanmreD!</td>\n",
              "      <td>I'm going to be sick!</td>\n",
              "      <td>غانمرض!</td>\n",
              "    </tr>\n",
              "    <tr>\n",
              "      <th>8</th>\n",
              "      <td>knt dima 3arf annaha bghatna nmoutou</td>\n",
              "      <td>I always knew she wanted us dead</td>\n",
              "      <td>كنت ديما عارف أنّاها بغاتنا نموتو</td>\n",
              "    </tr>\n",
              "    <tr>\n",
              "      <th>9</th>\n",
              "      <td>bghit n3ref ch7al b9a lia tlwe9t bach n9ra</td>\n",
              "      <td>I'd like to know how much time I have left to ...</td>\n",
              "      <td>بغيت نعرف شحال بقا ليا تلوقت باش نقرا</td>\n",
              "    </tr>\n",
              "  </tbody>\n",
              "</table>\n",
              "</div>\n",
              "    <div class=\"colab-df-buttons\">\n",
              "\n",
              "  <div class=\"colab-df-container\">\n",
              "    <button class=\"colab-df-convert\" onclick=\"convertToInteractive('df-652da25a-b88d-4c61-9ac7-6881f4879ec9')\"\n",
              "            title=\"Convert this dataframe to an interactive table.\"\n",
              "            style=\"display:none;\">\n",
              "\n",
              "  <svg xmlns=\"http://www.w3.org/2000/svg\" height=\"24px\" viewBox=\"0 -960 960 960\">\n",
              "    <path d=\"M120-120v-720h720v720H120Zm60-500h600v-160H180v160Zm220 220h160v-160H400v160Zm0 220h160v-160H400v160ZM180-400h160v-160H180v160Zm440 0h160v-160H620v160ZM180-180h160v-160H180v160Zm440 0h160v-160H620v160Z\"/>\n",
              "  </svg>\n",
              "    </button>\n",
              "\n",
              "  <style>\n",
              "    .colab-df-container {\n",
              "      display:flex;\n",
              "      gap: 12px;\n",
              "    }\n",
              "\n",
              "    .colab-df-convert {\n",
              "      background-color: #E8F0FE;\n",
              "      border: none;\n",
              "      border-radius: 50%;\n",
              "      cursor: pointer;\n",
              "      display: none;\n",
              "      fill: #1967D2;\n",
              "      height: 32px;\n",
              "      padding: 0 0 0 0;\n",
              "      width: 32px;\n",
              "    }\n",
              "\n",
              "    .colab-df-convert:hover {\n",
              "      background-color: #E2EBFA;\n",
              "      box-shadow: 0px 1px 2px rgba(60, 64, 67, 0.3), 0px 1px 3px 1px rgba(60, 64, 67, 0.15);\n",
              "      fill: #174EA6;\n",
              "    }\n",
              "\n",
              "    .colab-df-buttons div {\n",
              "      margin-bottom: 4px;\n",
              "    }\n",
              "\n",
              "    [theme=dark] .colab-df-convert {\n",
              "      background-color: #3B4455;\n",
              "      fill: #D2E3FC;\n",
              "    }\n",
              "\n",
              "    [theme=dark] .colab-df-convert:hover {\n",
              "      background-color: #434B5C;\n",
              "      box-shadow: 0px 1px 3px 1px rgba(0, 0, 0, 0.15);\n",
              "      filter: drop-shadow(0px 1px 2px rgba(0, 0, 0, 0.3));\n",
              "      fill: #FFFFFF;\n",
              "    }\n",
              "  </style>\n",
              "\n",
              "    <script>\n",
              "      const buttonEl =\n",
              "        document.querySelector('#df-652da25a-b88d-4c61-9ac7-6881f4879ec9 button.colab-df-convert');\n",
              "      buttonEl.style.display =\n",
              "        google.colab.kernel.accessAllowed ? 'block' : 'none';\n",
              "\n",
              "      async function convertToInteractive(key) {\n",
              "        const element = document.querySelector('#df-652da25a-b88d-4c61-9ac7-6881f4879ec9');\n",
              "        const dataTable =\n",
              "          await google.colab.kernel.invokeFunction('convertToInteractive',\n",
              "                                                    [key], {});\n",
              "        if (!dataTable) return;\n",
              "\n",
              "        const docLinkHtml = 'Like what you see? Visit the ' +\n",
              "          '<a target=\"_blank\" href=https://colab.research.google.com/notebooks/data_table.ipynb>data table notebook</a>'\n",
              "          + ' to learn more about interactive tables.';\n",
              "        element.innerHTML = '';\n",
              "        dataTable['output_type'] = 'display_data';\n",
              "        await google.colab.output.renderOutput(dataTable, element);\n",
              "        const docLink = document.createElement('div');\n",
              "        docLink.innerHTML = docLinkHtml;\n",
              "        element.appendChild(docLink);\n",
              "      }\n",
              "    </script>\n",
              "  </div>\n",
              "\n",
              "\n",
              "<div id=\"df-a3c3b051-dd52-479d-b70b-c7e03212acc0\">\n",
              "  <button class=\"colab-df-quickchart\" onclick=\"quickchart('df-a3c3b051-dd52-479d-b70b-c7e03212acc0')\"\n",
              "            title=\"Suggest charts\"\n",
              "            style=\"display:none;\">\n",
              "\n",
              "<svg xmlns=\"http://www.w3.org/2000/svg\" height=\"24px\"viewBox=\"0 0 24 24\"\n",
              "     width=\"24px\">\n",
              "    <g>\n",
              "        <path d=\"M19 3H5c-1.1 0-2 .9-2 2v14c0 1.1.9 2 2 2h14c1.1 0 2-.9 2-2V5c0-1.1-.9-2-2-2zM9 17H7v-7h2v7zm4 0h-2V7h2v10zm4 0h-2v-4h2v4z\"/>\n",
              "    </g>\n",
              "</svg>\n",
              "  </button>\n",
              "\n",
              "<style>\n",
              "  .colab-df-quickchart {\n",
              "      --bg-color: #E8F0FE;\n",
              "      --fill-color: #1967D2;\n",
              "      --hover-bg-color: #E2EBFA;\n",
              "      --hover-fill-color: #174EA6;\n",
              "      --disabled-fill-color: #AAA;\n",
              "      --disabled-bg-color: #DDD;\n",
              "  }\n",
              "\n",
              "  [theme=dark] .colab-df-quickchart {\n",
              "      --bg-color: #3B4455;\n",
              "      --fill-color: #D2E3FC;\n",
              "      --hover-bg-color: #434B5C;\n",
              "      --hover-fill-color: #FFFFFF;\n",
              "      --disabled-bg-color: #3B4455;\n",
              "      --disabled-fill-color: #666;\n",
              "  }\n",
              "\n",
              "  .colab-df-quickchart {\n",
              "    background-color: var(--bg-color);\n",
              "    border: none;\n",
              "    border-radius: 50%;\n",
              "    cursor: pointer;\n",
              "    display: none;\n",
              "    fill: var(--fill-color);\n",
              "    height: 32px;\n",
              "    padding: 0;\n",
              "    width: 32px;\n",
              "  }\n",
              "\n",
              "  .colab-df-quickchart:hover {\n",
              "    background-color: var(--hover-bg-color);\n",
              "    box-shadow: 0 1px 2px rgba(60, 64, 67, 0.3), 0 1px 3px 1px rgba(60, 64, 67, 0.15);\n",
              "    fill: var(--button-hover-fill-color);\n",
              "  }\n",
              "\n",
              "  .colab-df-quickchart-complete:disabled,\n",
              "  .colab-df-quickchart-complete:disabled:hover {\n",
              "    background-color: var(--disabled-bg-color);\n",
              "    fill: var(--disabled-fill-color);\n",
              "    box-shadow: none;\n",
              "  }\n",
              "\n",
              "  .colab-df-spinner {\n",
              "    border: 2px solid var(--fill-color);\n",
              "    border-color: transparent;\n",
              "    border-bottom-color: var(--fill-color);\n",
              "    animation:\n",
              "      spin 1s steps(1) infinite;\n",
              "  }\n",
              "\n",
              "  @keyframes spin {\n",
              "    0% {\n",
              "      border-color: transparent;\n",
              "      border-bottom-color: var(--fill-color);\n",
              "      border-left-color: var(--fill-color);\n",
              "    }\n",
              "    20% {\n",
              "      border-color: transparent;\n",
              "      border-left-color: var(--fill-color);\n",
              "      border-top-color: var(--fill-color);\n",
              "    }\n",
              "    30% {\n",
              "      border-color: transparent;\n",
              "      border-left-color: var(--fill-color);\n",
              "      border-top-color: var(--fill-color);\n",
              "      border-right-color: var(--fill-color);\n",
              "    }\n",
              "    40% {\n",
              "      border-color: transparent;\n",
              "      border-right-color: var(--fill-color);\n",
              "      border-top-color: var(--fill-color);\n",
              "    }\n",
              "    60% {\n",
              "      border-color: transparent;\n",
              "      border-right-color: var(--fill-color);\n",
              "    }\n",
              "    80% {\n",
              "      border-color: transparent;\n",
              "      border-right-color: var(--fill-color);\n",
              "      border-bottom-color: var(--fill-color);\n",
              "    }\n",
              "    90% {\n",
              "      border-color: transparent;\n",
              "      border-bottom-color: var(--fill-color);\n",
              "    }\n",
              "  }\n",
              "</style>\n",
              "\n",
              "  <script>\n",
              "    async function quickchart(key) {\n",
              "      const quickchartButtonEl =\n",
              "        document.querySelector('#' + key + ' button');\n",
              "      quickchartButtonEl.disabled = true;  // To prevent multiple clicks.\n",
              "      quickchartButtonEl.classList.add('colab-df-spinner');\n",
              "      try {\n",
              "        const charts = await google.colab.kernel.invokeFunction(\n",
              "            'suggestCharts', [key], {});\n",
              "      } catch (error) {\n",
              "        console.error('Error during call to suggestCharts:', error);\n",
              "      }\n",
              "      quickchartButtonEl.classList.remove('colab-df-spinner');\n",
              "      quickchartButtonEl.classList.add('colab-df-quickchart-complete');\n",
              "    }\n",
              "    (() => {\n",
              "      let quickchartButtonEl =\n",
              "        document.querySelector('#df-a3c3b051-dd52-479d-b70b-c7e03212acc0 button');\n",
              "      quickchartButtonEl.style.display =\n",
              "        google.colab.kernel.accessAllowed ? 'block' : 'none';\n",
              "    })();\n",
              "  </script>\n",
              "</div>\n",
              "\n",
              "    </div>\n",
              "  </div>\n"
            ],
            "application/vnd.google.colaboratory.intrinsic+json": {
              "type": "dataframe",
              "summary": "{\n  \"name\": \"display(df\",\n  \"rows\": 10,\n  \"fields\": [\n    {\n      \"column\": \"darija\",\n      \"properties\": {\n        \"dtype\": \"string\",\n        \"num_unique_values\": 10,\n        \"samples\": [\n          \"knt dima 3arf annaha bghatna nmoutou\",\n          \"bayna homa tay7awlo ib9aw mbrrdin.\",\n          \"tayballia ghanmchi!\"\n        ],\n        \"semantic_type\": \"\",\n        \"description\": \"\"\n      }\n    },\n    {\n      \"column\": \"eng\",\n      \"properties\": {\n        \"dtype\": \"string\",\n        \"num_unique_values\": 10,\n        \"samples\": [\n          \"I always knew she wanted us dead\",\n          \"It's obvious they're trying to keep their cool.\",\n          \"I think I'm going to leave!\"\n        ],\n        \"semantic_type\": \"\",\n        \"description\": \"\"\n      }\n    },\n    {\n      \"column\": \"darija_ar\",\n      \"properties\": {\n        \"dtype\": \"string\",\n        \"num_unique_values\": 10,\n        \"samples\": [\n          \"\\u0643\\u0646\\u062a \\u062f\\u064a\\u0645\\u0627 \\u0639\\u0627\\u0631\\u0641 \\u0623\\u0646\\u0651\\u0627\\u0647\\u0627 \\u0628\\u063a\\u0627\\u062a\\u0646\\u0627 \\u0646\\u0645\\u0648\\u062a\\u0648\",\n          \"\\u0628\\u0627\\u064a\\u0646\\u0627 \\u0647\\u0648\\u0645\\u0627 \\u062a\\u0627\\u064a\\u062d\\u0627\\u0648\\u0644\\u0648 \\u0625\\u0628\\u0642\\u0627\\u0648 \\u0645\\u0628\\u0631\\u0651\\u062f\\u064a\\u0646.\",\n          \"\\u062a\\u0627\\u064a\\u0628\\u0627\\u0644\\u0651\\u064a\\u0627 \\u063a\\u0627\\u0646\\u0645\\u0634\\u064a!\"\n        ],\n        \"semantic_type\": \"\",\n        \"description\": \"\"\n      }\n    }\n  ]\n}"
            }
          },
          "metadata": {}
        }
      ]
    },
    {
      "cell_type": "markdown",
      "source": [
        "# Data exploration"
      ],
      "metadata": {
        "id": "biXtLREM6OVx"
      }
    },
    {
      "cell_type": "code",
      "source": [
        "print(f\"Total number of samples : {len(df)}\")\n"
      ],
      "metadata": {
        "colab": {
          "base_uri": "https://localhost:8080/"
        },
        "id": "e90JUz1POdd8",
        "outputId": "96ae6cf8-cc23-4568-cfa9-d44924a5a910"
      },
      "execution_count": 9,
      "outputs": [
        {
          "output_type": "stream",
          "name": "stdout",
          "text": [
            "Total number of samples : 87785\n"
          ]
        }
      ]
    },
    {
      "cell_type": "code",
      "source": [
        "print(df.isnull().sum())"
      ],
      "metadata": {
        "colab": {
          "base_uri": "https://localhost:8080/"
        },
        "id": "RVersD0Q6YGM",
        "outputId": "856aa280-fc39-46a5-f3a1-394b291a60cc"
      },
      "execution_count": 10,
      "outputs": [
        {
          "output_type": "stream",
          "name": "stdout",
          "text": [
            "darija           0\n",
            "eng          75042\n",
            "darija_ar        0\n",
            "dtype: int64\n"
          ]
        }
      ]
    },
    {
      "cell_type": "code",
      "source": [
        "df_main = df.iloc[:12743].copy()\n",
        "\n",
        "print(f\"Number of samples in the main dataset : {len(df_main)}\")\n"
      ],
      "metadata": {
        "colab": {
          "base_uri": "https://localhost:8080/"
        },
        "id": "wuO-A6IFR-UH",
        "outputId": "14320108-da15-4ad3-c75c-bf5a628e9a96"
      },
      "execution_count": 11,
      "outputs": [
        {
          "output_type": "stream",
          "name": "stdout",
          "text": [
            "Number of samples in the main dataset : 12743\n"
          ]
        }
      ]
    },
    {
      "cell_type": "code",
      "source": [
        "df_main['darija_length'] = df_main['darija'].apply(len)\n",
        "df_main['darija_ar_length'] = df_main['darija_ar'].apply(len)\n",
        "df_main['english_length'] = df_main['eng'].apply(len)\n",
        "\n",
        "# Statistiques descriptives\n",
        "print(df_main[['darija_length', 'darija_ar_length', 'english_length']].describe())\n"
      ],
      "metadata": {
        "colab": {
          "base_uri": "https://localhost:8080/",
          "height": 411
        },
        "collapsed": true,
        "id": "FtBXBoD-7AkB",
        "outputId": "d51c4120-9b55-4f66-bc4a-e47832dd3fd0"
      },
      "execution_count": 12,
      "outputs": [
        {
          "output_type": "error",
          "ename": "TypeError",
          "evalue": "object of type 'NoneType' has no len()",
          "traceback": [
            "\u001b[0;31m---------------------------------------------------------------------------\u001b[0m",
            "\u001b[0;31mTypeError\u001b[0m                                 Traceback (most recent call last)",
            "\u001b[0;32m<ipython-input-12-7a8dcc6cfd3c>\u001b[0m in \u001b[0;36m<cell line: 3>\u001b[0;34m()\u001b[0m\n\u001b[1;32m      1\u001b[0m \u001b[0mdf_main\u001b[0m\u001b[0;34m[\u001b[0m\u001b[0;34m'darija_length'\u001b[0m\u001b[0;34m]\u001b[0m \u001b[0;34m=\u001b[0m \u001b[0mdf_main\u001b[0m\u001b[0;34m[\u001b[0m\u001b[0;34m'darija'\u001b[0m\u001b[0;34m]\u001b[0m\u001b[0;34m.\u001b[0m\u001b[0mapply\u001b[0m\u001b[0;34m(\u001b[0m\u001b[0mlen\u001b[0m\u001b[0;34m)\u001b[0m\u001b[0;34m\u001b[0m\u001b[0;34m\u001b[0m\u001b[0m\n\u001b[1;32m      2\u001b[0m \u001b[0mdf_main\u001b[0m\u001b[0;34m[\u001b[0m\u001b[0;34m'darija_ar_length'\u001b[0m\u001b[0;34m]\u001b[0m \u001b[0;34m=\u001b[0m \u001b[0mdf_main\u001b[0m\u001b[0;34m[\u001b[0m\u001b[0;34m'darija_ar'\u001b[0m\u001b[0;34m]\u001b[0m\u001b[0;34m.\u001b[0m\u001b[0mapply\u001b[0m\u001b[0;34m(\u001b[0m\u001b[0mlen\u001b[0m\u001b[0;34m)\u001b[0m\u001b[0;34m\u001b[0m\u001b[0;34m\u001b[0m\u001b[0m\n\u001b[0;32m----> 3\u001b[0;31m \u001b[0mdf_main\u001b[0m\u001b[0;34m[\u001b[0m\u001b[0;34m'english_length'\u001b[0m\u001b[0;34m]\u001b[0m \u001b[0;34m=\u001b[0m \u001b[0mdf_main\u001b[0m\u001b[0;34m[\u001b[0m\u001b[0;34m'eng'\u001b[0m\u001b[0;34m]\u001b[0m\u001b[0;34m.\u001b[0m\u001b[0mapply\u001b[0m\u001b[0;34m(\u001b[0m\u001b[0mlen\u001b[0m\u001b[0;34m)\u001b[0m\u001b[0;34m\u001b[0m\u001b[0;34m\u001b[0m\u001b[0m\n\u001b[0m\u001b[1;32m      4\u001b[0m \u001b[0;34m\u001b[0m\u001b[0m\n\u001b[1;32m      5\u001b[0m \u001b[0;31m# Statistiques descriptives\u001b[0m\u001b[0;34m\u001b[0m\u001b[0;34m\u001b[0m\u001b[0m\n",
            "\u001b[0;32m/usr/local/lib/python3.10/dist-packages/pandas/core/series.py\u001b[0m in \u001b[0;36mapply\u001b[0;34m(self, func, convert_dtype, args, by_row, **kwargs)\u001b[0m\n\u001b[1;32m   4922\u001b[0m             \u001b[0margs\u001b[0m\u001b[0;34m=\u001b[0m\u001b[0margs\u001b[0m\u001b[0;34m,\u001b[0m\u001b[0;34m\u001b[0m\u001b[0;34m\u001b[0m\u001b[0m\n\u001b[1;32m   4923\u001b[0m             \u001b[0mkwargs\u001b[0m\u001b[0;34m=\u001b[0m\u001b[0mkwargs\u001b[0m\u001b[0;34m,\u001b[0m\u001b[0;34m\u001b[0m\u001b[0;34m\u001b[0m\u001b[0m\n\u001b[0;32m-> 4924\u001b[0;31m         ).apply()\n\u001b[0m\u001b[1;32m   4925\u001b[0m \u001b[0;34m\u001b[0m\u001b[0m\n\u001b[1;32m   4926\u001b[0m     def _reindex_indexer(\n",
            "\u001b[0;32m/usr/local/lib/python3.10/dist-packages/pandas/core/apply.py\u001b[0m in \u001b[0;36mapply\u001b[0;34m(self)\u001b[0m\n\u001b[1;32m   1425\u001b[0m \u001b[0;34m\u001b[0m\u001b[0m\n\u001b[1;32m   1426\u001b[0m         \u001b[0;31m# self.func is Callable\u001b[0m\u001b[0;34m\u001b[0m\u001b[0;34m\u001b[0m\u001b[0m\n\u001b[0;32m-> 1427\u001b[0;31m         \u001b[0;32mreturn\u001b[0m \u001b[0mself\u001b[0m\u001b[0;34m.\u001b[0m\u001b[0mapply_standard\u001b[0m\u001b[0;34m(\u001b[0m\u001b[0;34m)\u001b[0m\u001b[0;34m\u001b[0m\u001b[0;34m\u001b[0m\u001b[0m\n\u001b[0m\u001b[1;32m   1428\u001b[0m \u001b[0;34m\u001b[0m\u001b[0m\n\u001b[1;32m   1429\u001b[0m     \u001b[0;32mdef\u001b[0m \u001b[0magg\u001b[0m\u001b[0;34m(\u001b[0m\u001b[0mself\u001b[0m\u001b[0;34m)\u001b[0m\u001b[0;34m:\u001b[0m\u001b[0;34m\u001b[0m\u001b[0;34m\u001b[0m\u001b[0m\n",
            "\u001b[0;32m/usr/local/lib/python3.10/dist-packages/pandas/core/apply.py\u001b[0m in \u001b[0;36mapply_standard\u001b[0;34m(self)\u001b[0m\n\u001b[1;32m   1505\u001b[0m         \u001b[0;31m#  Categorical (GH51645).\u001b[0m\u001b[0;34m\u001b[0m\u001b[0;34m\u001b[0m\u001b[0m\n\u001b[1;32m   1506\u001b[0m         \u001b[0maction\u001b[0m \u001b[0;34m=\u001b[0m \u001b[0;34m\"ignore\"\u001b[0m \u001b[0;32mif\u001b[0m \u001b[0misinstance\u001b[0m\u001b[0;34m(\u001b[0m\u001b[0mobj\u001b[0m\u001b[0;34m.\u001b[0m\u001b[0mdtype\u001b[0m\u001b[0;34m,\u001b[0m \u001b[0mCategoricalDtype\u001b[0m\u001b[0;34m)\u001b[0m \u001b[0;32melse\u001b[0m \u001b[0;32mNone\u001b[0m\u001b[0;34m\u001b[0m\u001b[0;34m\u001b[0m\u001b[0m\n\u001b[0;32m-> 1507\u001b[0;31m         mapped = obj._map_values(\n\u001b[0m\u001b[1;32m   1508\u001b[0m             \u001b[0mmapper\u001b[0m\u001b[0;34m=\u001b[0m\u001b[0mcurried\u001b[0m\u001b[0;34m,\u001b[0m \u001b[0mna_action\u001b[0m\u001b[0;34m=\u001b[0m\u001b[0maction\u001b[0m\u001b[0;34m,\u001b[0m \u001b[0mconvert\u001b[0m\u001b[0;34m=\u001b[0m\u001b[0mself\u001b[0m\u001b[0;34m.\u001b[0m\u001b[0mconvert_dtype\u001b[0m\u001b[0;34m\u001b[0m\u001b[0;34m\u001b[0m\u001b[0m\n\u001b[1;32m   1509\u001b[0m         )\n",
            "\u001b[0;32m/usr/local/lib/python3.10/dist-packages/pandas/core/base.py\u001b[0m in \u001b[0;36m_map_values\u001b[0;34m(self, mapper, na_action, convert)\u001b[0m\n\u001b[1;32m    919\u001b[0m             \u001b[0;32mreturn\u001b[0m \u001b[0marr\u001b[0m\u001b[0;34m.\u001b[0m\u001b[0mmap\u001b[0m\u001b[0;34m(\u001b[0m\u001b[0mmapper\u001b[0m\u001b[0;34m,\u001b[0m \u001b[0mna_action\u001b[0m\u001b[0;34m=\u001b[0m\u001b[0mna_action\u001b[0m\u001b[0;34m)\u001b[0m\u001b[0;34m\u001b[0m\u001b[0;34m\u001b[0m\u001b[0m\n\u001b[1;32m    920\u001b[0m \u001b[0;34m\u001b[0m\u001b[0m\n\u001b[0;32m--> 921\u001b[0;31m         \u001b[0;32mreturn\u001b[0m \u001b[0malgorithms\u001b[0m\u001b[0;34m.\u001b[0m\u001b[0mmap_array\u001b[0m\u001b[0;34m(\u001b[0m\u001b[0marr\u001b[0m\u001b[0;34m,\u001b[0m \u001b[0mmapper\u001b[0m\u001b[0;34m,\u001b[0m \u001b[0mna_action\u001b[0m\u001b[0;34m=\u001b[0m\u001b[0mna_action\u001b[0m\u001b[0;34m,\u001b[0m \u001b[0mconvert\u001b[0m\u001b[0;34m=\u001b[0m\u001b[0mconvert\u001b[0m\u001b[0;34m)\u001b[0m\u001b[0;34m\u001b[0m\u001b[0;34m\u001b[0m\u001b[0m\n\u001b[0m\u001b[1;32m    922\u001b[0m \u001b[0;34m\u001b[0m\u001b[0m\n\u001b[1;32m    923\u001b[0m     \u001b[0;34m@\u001b[0m\u001b[0mfinal\u001b[0m\u001b[0;34m\u001b[0m\u001b[0;34m\u001b[0m\u001b[0m\n",
            "\u001b[0;32m/usr/local/lib/python3.10/dist-packages/pandas/core/algorithms.py\u001b[0m in \u001b[0;36mmap_array\u001b[0;34m(arr, mapper, na_action, convert)\u001b[0m\n\u001b[1;32m   1741\u001b[0m     \u001b[0mvalues\u001b[0m \u001b[0;34m=\u001b[0m \u001b[0marr\u001b[0m\u001b[0;34m.\u001b[0m\u001b[0mastype\u001b[0m\u001b[0;34m(\u001b[0m\u001b[0mobject\u001b[0m\u001b[0;34m,\u001b[0m \u001b[0mcopy\u001b[0m\u001b[0;34m=\u001b[0m\u001b[0;32mFalse\u001b[0m\u001b[0;34m)\u001b[0m\u001b[0;34m\u001b[0m\u001b[0;34m\u001b[0m\u001b[0m\n\u001b[1;32m   1742\u001b[0m     \u001b[0;32mif\u001b[0m \u001b[0mna_action\u001b[0m \u001b[0;32mis\u001b[0m \u001b[0;32mNone\u001b[0m\u001b[0;34m:\u001b[0m\u001b[0;34m\u001b[0m\u001b[0;34m\u001b[0m\u001b[0m\n\u001b[0;32m-> 1743\u001b[0;31m         \u001b[0;32mreturn\u001b[0m \u001b[0mlib\u001b[0m\u001b[0;34m.\u001b[0m\u001b[0mmap_infer\u001b[0m\u001b[0;34m(\u001b[0m\u001b[0mvalues\u001b[0m\u001b[0;34m,\u001b[0m \u001b[0mmapper\u001b[0m\u001b[0;34m,\u001b[0m \u001b[0mconvert\u001b[0m\u001b[0;34m=\u001b[0m\u001b[0mconvert\u001b[0m\u001b[0;34m)\u001b[0m\u001b[0;34m\u001b[0m\u001b[0;34m\u001b[0m\u001b[0m\n\u001b[0m\u001b[1;32m   1744\u001b[0m     \u001b[0;32melse\u001b[0m\u001b[0;34m:\u001b[0m\u001b[0;34m\u001b[0m\u001b[0;34m\u001b[0m\u001b[0m\n\u001b[1;32m   1745\u001b[0m         return lib.map_infer_mask(\n",
            "\u001b[0;32mlib.pyx\u001b[0m in \u001b[0;36mpandas._libs.lib.map_infer\u001b[0;34m()\u001b[0m\n",
            "\u001b[0;31mTypeError\u001b[0m: object of type 'NoneType' has no len()"
          ]
        }
      ]
    },
    {
      "cell_type": "code",
      "source": [
        "print(df_main.isnull().sum())"
      ],
      "metadata": {
        "colab": {
          "base_uri": "https://localhost:8080/"
        },
        "id": "f4smZwHMSRyd",
        "outputId": "d1a9a504-b242-455f-b62b-c7f337daeccc"
      },
      "execution_count": 13,
      "outputs": [
        {
          "output_type": "stream",
          "name": "stdout",
          "text": [
            "darija              0\n",
            "eng                 4\n",
            "darija_ar           0\n",
            "darija_length       0\n",
            "darija_ar_length    0\n",
            "dtype: int64\n"
          ]
        }
      ]
    },
    {
      "cell_type": "code",
      "source": [
        "# Obtaining indexes of rows where \"eng\" is null\n",
        "empty_indices = df_main[df_main['eng'].isnull()].index\n",
        "\n",
        "# Displaying them\n",
        "print(empty_indices)\n"
      ],
      "metadata": {
        "colab": {
          "base_uri": "https://localhost:8080/"
        },
        "id": "KFuUw_rPSS1x",
        "outputId": "e11f4814-5d97-40c9-e402-f8963f716d02"
      },
      "execution_count": 14,
      "outputs": [
        {
          "output_type": "stream",
          "name": "stdout",
          "text": [
            "Index([10929, 10930, 10931, 10932], dtype='int64')\n"
          ]
        }
      ]
    },
    {
      "cell_type": "code",
      "source": [
        "# Displaying rows from df_main where \"eng\" is still null\n",
        "empty_rows = df_main.loc[empty_indices]\n",
        "print(empty_rows)"
      ],
      "metadata": {
        "colab": {
          "base_uri": "https://localhost:8080/"
        },
        "id": "NwPZ7ZclTVHg",
        "outputId": "767c0e22-63a4-4283-dcb0-f5b2433d1640"
      },
      "execution_count": 15,
      "outputs": [
        {
          "output_type": "stream",
          "name": "stdout",
          "text": [
            "                darija   eng    darija_ar  darija_length  darija_ar_length\n",
            "10929   makat9chcherch  None   ماكاتقشّرش             14                10\n",
            "10930     makat9cherch  None    ماكاتقشرش             12                 9\n",
            "10931    makat9echerch  None    ماكاتقشرش             13                 9\n",
            "10932  makat9echcharch  None  ماكاتقشّارش             15                11\n"
          ]
        }
      ]
    },
    {
      "cell_type": "code",
      "source": [
        "cleaned_df_main = df_main.dropna(subset=['eng']).copy()\n",
        "\n",
        "print(f\"Size of df_main after cleaning : {len(cleaned_df_main)}\")"
      ],
      "metadata": {
        "colab": {
          "base_uri": "https://localhost:8080/"
        },
        "id": "zD_Ua4AvUJjP",
        "outputId": "92adaf1f-9735-4994-a796-1a79b7fcf24a"
      },
      "execution_count": 16,
      "outputs": [
        {
          "output_type": "stream",
          "name": "stdout",
          "text": [
            "Size of df_main after cleaning : 12739\n"
          ]
        }
      ]
    },
    {
      "cell_type": "code",
      "source": [
        "# Extracting rows where \"eng\" is empty\n",
        "empty_rows = df_main[df_main['eng'].isnull()].copy()\n",
        "\n",
        "# Checking the deleted rows\n",
        "print(f\"Number of deleted rows : {len(empty_rows)}\")"
      ],
      "metadata": {
        "colab": {
          "base_uri": "https://localhost:8080/"
        },
        "id": "glg4S8YMUgrb",
        "outputId": "8443c564-7ac6-4538-eca2-a9ac5f71c8f2"
      },
      "execution_count": 17,
      "outputs": [
        {
          "output_type": "stream",
          "name": "stdout",
          "text": [
            "Number of deleted rows : 4\n"
          ]
        }
      ]
    },
    {
      "cell_type": "code",
      "source": [
        "# Remaining rows of df after subtracting df_main\n",
        "remaining_df = df.iloc[12743:]\n",
        "\n",
        "# Creating the DataFrame that is going to serve for the generalization\n",
        "generalization_df = pd.concat([remaining_df, empty_rows], ignore_index=True)\n",
        "\n",
        "# Checking the obtained DataFrame\n",
        "print(f\"Size of generalization_df : {len(generalization_df)}\")\n"
      ],
      "metadata": {
        "colab": {
          "base_uri": "https://localhost:8080/"
        },
        "id": "feFJ9ZwVVJGK",
        "outputId": "c3ec81c3-f285-42a5-cd28-119c7ccd8b87"
      },
      "execution_count": 18,
      "outputs": [
        {
          "output_type": "stream",
          "name": "stdout",
          "text": [
            "Size of generalization_df : 75046\n"
          ]
        }
      ]
    },
    {
      "cell_type": "code",
      "source": [
        "# Checking that the math is mathing\n",
        "\n",
        "total_rows = len(cleaned_df_main) + len(generalization_df)\n",
        "print(f\"Total size (cleaned df_main + generalization_df) : {total_rows}\")\n",
        "print(f\"Original size of df : {len(df)}\")"
      ],
      "metadata": {
        "colab": {
          "base_uri": "https://localhost:8080/"
        },
        "id": "DXX1GsI6VLY5",
        "outputId": "d4c7d453-1836-491d-de7f-b55922d239e9"
      },
      "execution_count": 19,
      "outputs": [
        {
          "output_type": "stream",
          "name": "stdout",
          "text": [
            "Total size (cleaned df_main + generalization_df) : 87785\n",
            "Original size of df : 87785\n"
          ]
        }
      ]
    },
    {
      "cell_type": "code",
      "source": [
        "cleaned_df_main['darija_length'] = cleaned_df_main['darija'].apply(len)\n",
        "cleaned_df_main['darija_ar_length'] = cleaned_df_main['darija_ar'].apply(len)\n",
        "cleaned_df_main['english_length'] = cleaned_df_main['eng'].apply(len)\n",
        "\n",
        "# Statistiques descriptives\n",
        "print(cleaned_df_main[['darija_length', 'darija_ar_length', 'english_length']].describe())\n"
      ],
      "metadata": {
        "colab": {
          "base_uri": "https://localhost:8080/"
        },
        "id": "qrAdadAxWTGW",
        "outputId": "480c4857-5a34-4335-f354-01ded28cdf35"
      },
      "execution_count": 20,
      "outputs": [
        {
          "output_type": "stream",
          "name": "stdout",
          "text": [
            "       darija_length  darija_ar_length  english_length\n",
            "count   12739.000000      12739.000000    12739.000000\n",
            "mean       25.361096         23.696993       28.735537\n",
            "std        16.487921         15.732680       18.199053\n",
            "min         1.000000          1.000000        1.000000\n",
            "25%        14.000000         12.000000       16.000000\n",
            "50%        21.000000         20.000000       25.000000\n",
            "75%        33.000000         31.000000       37.000000\n",
            "max       148.000000        136.000000      188.000000\n"
          ]
        }
      ]
    },
    {
      "cell_type": "code",
      "source": [
        "import plotly.express as px\n",
        "import plotly.graph_objects as go\n",
        "\n",
        "# Histogram for all three lengths\n",
        "fig = px.histogram(cleaned_df_main, x=\"darija_length\", nbins=30, title=\"Distribution of darija sentence lengths\", color_discrete_sequence=[\"#b963fa\"])\n",
        "fig.update_layout(xaxis_title=\"Darija sentence length\", yaxis_title=\"Count\")\n",
        "fig.show()\n",
        "\n",
        "fig = px.histogram(cleaned_df_main, x=\"darija_ar_length\", nbins=30, title=\"Distribution of darija (arabic script) sentence lengths\", color_discrete_sequence=[\"#63fabb\"])\n",
        "fig.update_layout(xaxis_title=\"Darija (arabic script) Sentence Length\", yaxis_title=\"Count\")\n",
        "fig.show()\n",
        "\n",
        "fig = px.histogram(cleaned_df_main, x=\"english_length\", nbins=30, title=\"Distribution of english sentence lengths\", color_discrete_sequence=[\"#b963fa\"])\n",
        "fig.update_layout(xaxis_title=\"English sentence length\", yaxis_title=\"Count\")\n",
        "fig.show()\n"
      ],
      "metadata": {
        "colab": {
          "base_uri": "https://localhost:8080/",
          "height": 1000
        },
        "id": "aS3Ioz-1XcAo",
        "outputId": "6778814c-27fd-4f8b-98c8-a7a1d292b3ba"
      },
      "execution_count": 21,
      "outputs": [
        {
          "output_type": "display_data",
          "data": {
            "text/html": [
              "<html>\n",
              "<head><meta charset=\"utf-8\" /></head>\n",
              "<body>\n",
              "    <div>            <script src=\"https://cdnjs.cloudflare.com/ajax/libs/mathjax/2.7.5/MathJax.js?config=TeX-AMS-MML_SVG\"></script><script type=\"text/javascript\">if (window.MathJax && window.MathJax.Hub && window.MathJax.Hub.Config) {window.MathJax.Hub.Config({SVG: {font: \"STIX-Web\"}});}</script>                <script type=\"text/javascript\">window.PlotlyConfig = {MathJaxConfig: 'local'};</script>\n",
              "        <script charset=\"utf-8\" src=\"https://cdn.plot.ly/plotly-2.35.2.min.js\"></script>                <div id=\"d4581aa4-2c95-4cbb-9232-75ce4eb7fc7c\" class=\"plotly-graph-div\" style=\"height:525px; width:100%;\"></div>            <script type=\"text/javascript\">                                    window.PLOTLYENV=window.PLOTLYENV || {};                                    if (document.getElementById(\"d4581aa4-2c95-4cbb-9232-75ce4eb7fc7c\")) {                    Plotly.newPlot(                        \"d4581aa4-2c95-4cbb-9232-75ce4eb7fc7c\",                        [{\"alignmentgroup\":\"True\",\"bingroup\":\"x\",\"hovertemplate\":\"darija_length=%{x}\\u003cbr\\u003ecount=%{y}\\u003cextra\\u003e\\u003c\\u002fextra\\u003e\",\"legendgroup\":\"\",\"marker\":{\"color\":\"#b963fa\",\"pattern\":{\"shape\":\"\"}},\"name\":\"\",\"nbinsx\":30,\"offsetgroup\":\"\",\"orientation\":\"v\",\"showlegend\":false,\"x\":[36,34,38,34,19,19,16,9,36,42,43,26,35,20,53,41,49,16,18,31,18,27,6,47,11,8,26,38,31,14,35,17,30,32,29,18,21,16,29,30,18,29,19,30,8,33,26,39,7,10,28,31,49,19,32,29,43,21,22,66,28,26,37,32,27,21,21,31,13,27,41,35,13,36,34,38,9,24,46,43,10,23,10,20,21,7,39,29,11,47,31,47,75,7,69,26,11,50,29,39,30,51,12,34,52,13,13,31,55,15,48,53,25,61,14,19,11,40,57,21,55,45,60,38,10,24,12,62,27,12,32,57,54,11,22,25,32,30,16,24,67,80,51,21,34,6,35,6,30,9,5,10,35,65,9,31,60,20,71,21,29,10,33,24,23,54,28,22,22,49,65,34,31,18,20,47,36,26,10,34,13,52,13,54,59,49,11,16,34,14,22,17,6,16,19,20,40,10,32,23,26,12,23,30,11,40,41,17,24,35,39,13,24,37,61,48,15,21,8,17,72,51,71,39,19,16,27,13,43,45,32,15,55,38,37,4,38,48,20,34,69,21,19,43,32,26,40,26,20,60,47,71,42,30,15,31,51,12,22,15,17,56,34,24,31,33,20,39,18,34,38,27,8,31,18,40,19,17,32,22,4,67,19,31,4,34,62,47,39,12,27,29,11,47,39,29,24,42,37,17,12,32,34,37,40,41,15,42,12,53,57,13,30,47,33,25,23,37,19,55,20,6,8,26,32,11,33,12,33,6,42,10,14,60,25,41,65,21,24,43,37,29,19,48,44,22,12,13,35,7,50,26,17,19,35,51,35,38,58,15,14,28,4,18,23,16,25,34,17,26,60,32,7,34,33,24,6,31,36,14,25,67,15,60,41,22,59,36,17,10,45,38,18,12,10,7,12,85,8,30,29,15,14,21,25,78,4,68,42,6,35,30,28,25,40,65,60,14,86,31,16,52,22,14,26,30,18,21,32,25,23,34,46,27,18,62,47,24,22,60,6,44,10,36,20,23,41,27,28,32,29,38,50,31,26,15,7,14,10,10,14,18,53,30,9,23,20,38,13,21,37,32,26,47,42,16,16,10,50,44,42,24,60,34,37,37,49,26,41,4,29,40,43,36,15,12,10,16,44,16,59,68,29,35,10,6,23,44,45,42,25,4,20,26,58,12,16,29,14,41,40,46,39,56,92,11,14,44,9,108,50,14,21,21,5,17,28,25,13,14,39,23,50,23,9,72,43,33,91,25,49,36,7,27,76,104,31,33,65,16,64,10,25,16,33,16,45,13,76,28,32,12,36,43,16,21,18,47,10,35,69,29,8,8,38,34,15,13,8,8,31,21,30,41,21,54,22,57,20,58,19,8,85,60,15,30,24,7,15,7,34,23,15,42,62,40,19,6,40,42,49,39,11,39,44,30,18,31,46,58,74,60,19,49,25,22,40,37,22,49,49,47,24,4,20,24,13,22,13,33,15,6,13,7,25,21,15,7,17,47,38,19,31,12,18,52,45,19,30,119,17,34,39,17,50,28,39,11,6,12,38,73,22,71,97,47,17,71,14,97,14,21,27,12,8,54,60,31,24,16,33,25,16,50,46,38,35,9,13,6,34,20,35,15,19,23,22,34,53,16,11,47,11,32,5,36,26,30,7,20,40,13,23,19,11,67,23,37,30,6,29,53,24,10,44,50,50,25,48,32,14,30,73,49,17,28,13,10,44,59,28,16,21,20,23,50,49,24,27,31,65,34,19,9,37,22,58,21,40,11,13,25,35,6,26,47,6,55,36,59,18,15,20,43,44,44,3,34,8,28,28,9,32,45,9,22,31,34,39,14,19,25,25,32,14,7,15,8,25,19,47,28,21,13,11,28,62,29,56,24,65,40,24,19,34,32,9,30,30,24,24,20,9,25,127,22,55,20,23,18,18,14,29,45,9,29,18,21,4,9,18,40,15,41,12,39,47,29,77,7,8,8,10,20,11,11,6,9,5,15,16,10,11,7,5,15,11,15,12,9,10,15,10,5,6,8,8,6,10,22,16,16,10,12,12,11,9,8,12,12,8,6,14,8,5,4,12,8,10,20,17,8,10,13,17,11,18,12,14,10,14,12,13,19,12,10,6,12,12,19,25,116,12,11,41,36,14,19,70,29,73,6,18,11,18,14,39,13,14,84,23,16,41,22,84,6,19,14,61,43,55,74,36,17,58,29,46,49,83,24,5,50,26,51,20,42,27,34,27,29,63,32,17,22,41,35,8,18,41,11,20,12,55,40,47,40,22,25,6,35,25,11,19,33,62,6,20,68,60,43,42,26,31,61,62,38,27,6,23,18,24,28,28,30,32,9,10,7,11,29,40,49,7,46,27,55,13,18,18,20,57,6,22,19,19,20,8,8,9,28,21,24,28,6,16,27,30,11,38,12,25,45,23,18,42,31,32,8,34,8,47,23,27,14,19,18,35,21,17,19,10,39,22,60,12,21,39,20,13,24,36,9,18,21,29,15,15,11,6,12,13,7,17,10,16,11,6,11,24,12,12,16,11,11,17,14,36,23,12,33,4,8,25,16,12,11,27,20,9,12,11,16,9,14,14,12,17,9,9,11,19,16,10,39,20,19,15,21,17,24,26,12,23,23,18,43,9,12,18,18,28,38,13,12,11,13,15,5,24,24,15,7,8,15,14,9,3,14,6,19,27,15,14,15,19,11,14,10,19,19,17,17,19,13,15,16,17,17,18,5,15,12,9,8,15,13,20,24,18,14,33,25,29,22,18,26,5,13,10,6,18,24,37,40,34,31,21,13,30,26,20,13,32,15,19,20,28,28,16,19,11,22,10,11,11,34,15,19,8,19,20,13,8,16,9,14,18,14,5,5,14,20,26,18,27,21,11,12,24,35,15,12,19,17,15,14,11,27,13,22,10,18,6,36,22,18,20,25,22,22,18,20,11,10,35,5,5,16,32,12,21,18,26,14,13,13,15,34,5,18,17,12,16,11,14,19,19,20,21,18,18,31,28,15,13,7,16,9,33,18,21,27,28,11,22,20,22,28,28,35,14,17,26,11,10,16,13,32,19,18,32,34,13,25,23,18,9,10,23,20,5,69,28,16,62,33,26,27,25,19,22,96,16,35,48,9,120,55,80,51,38,48,15,29,46,17,25,56,22,21,47,32,65,52,20,45,25,8,31,7,52,21,66,26,14,31,24,32,13,39,49,58,39,22,7,13,11,9,34,46,13,13,57,51,2,49,33,36,34,38,43,4,33,23,13,47,31,15,19,27,47,32,29,55,31,17,63,12,18,57,36,21,10,11,43,26,65,18,49,10,62,14,29,113,46,85,44,23,54,31,30,72,23,61,40,22,51,6,19,28,93,17,19,33,68,33,47,28,35,28,19,31,21,125,50,11,48,62,40,29,32,28,43,37,31,19,52,42,29,14,21,13,16,27,31,18,65,10,6,43,39,30,16,51,8,4,35,26,51,42,17,68,11,18,19,14,21,5,46,51,34,42,12,22,61,58,41,34,41,64,35,81,44,104,42,20,25,42,64,85,22,44,43,27,18,85,33,76,26,33,62,14,41,47,36,7,34,32,60,71,6,90,61,19,68,45,111,69,104,33,88,32,69,43,9,39,37,81,12,50,94,28,60,18,27,7,6,29,48,52,96,37,27,23,51,76,45,36,42,25,55,23,52,39,21,74,18,11,11,30,13,25,54,30,11,69,14,25,19,18,7,13,6,24,21,21,13,119,26,27,66,20,20,90,17,65,60,35,56,29,68,70,70,32,54,42,33,30,62,19,62,7,67,8,33,35,54,25,129,68,6,13,75,22,64,124,64,55,49,83,77,105,100,148,33,60,31,53,36,16,13,16,18,29,24,6,17,27,6,34,23,26,11,48,12,42,35,14,35,45,66,23,27,50,29,28,18,36,28,19,6,16,18,20,34,13,46,70,58,55,14,88,63,28,33,22,10,12,35,33,36,18,22,51,20,64,34,64,21,32,44,18,39,50,32,55,21,48,22,21,45,47,28,113,52,60,60,5,43,35,43,48,29,22,15,27,5,30,8,72,18,39,46,35,29,24,57,9,18,27,58,35,42,57,52,68,59,12,27,19,15,38,80,23,43,59,54,28,21,76,48,28,49,36,49,25,35,17,51,27,33,29,39,33,13,19,40,24,13,18,32,34,8,67,31,14,36,16,12,45,25,19,49,24,28,51,67,36,4,25,18,14,11,9,14,54,11,13,17,12,39,49,47,30,13,33,50,25,54,47,41,19,19,20,10,22,42,31,38,46,23,92,46,4,16,53,47,22,31,58,63,28,29,10,25,36,23,44,42,15,69,23,26,29,16,41,42,27,11,18,15,12,27,14,6,7,17,25,109,67,45,60,30,87,37,33,33,27,35,105,29,25,90,36,79,27,46,71,51,90,43,15,68,34,43,6,33,11,22,19,33,40,29,36,24,32,14,38,11,36,6,10,50,10,86,77,50,57,60,46,40,19,145,15,46,14,37,29,20,47,62,14,17,19,56,37,13,55,96,26,66,29,70,51,92,19,31,23,6,30,15,32,49,40,61,68,25,33,12,50,50,73,28,42,49,19,47,15,63,39,27,34,34,61,37,12,91,24,22,14,98,18,30,37,13,5,54,11,23,21,13,24,65,33,79,7,61,37,18,21,47,19,11,68,27,6,31,12,16,54,77,25,18,40,19,52,19,29,16,83,30,97,8,35,73,17,15,11,43,53,68,18,23,18,26,18,16,23,28,11,46,18,22,13,16,25,23,12,18,5,17,34,33,13,16,19,32,14,14,30,49,35,13,18,19,13,12,23,21,25,18,19,24,18,23,21,34,10,13,13,20,25,23,24,28,19,14,12,23,17,22,17,19,8,10,23,23,22,24,34,23,24,23,30,13,15,18,17,18,20,17,25,7,11,12,14,16,14,8,7,24,22,31,16,10,12,15,15,13,26,12,4,26,24,18,11,14,32,14,28,22,27,25,11,17,27,25,14,20,11,22,34,10,9,23,22,5,13,24,22,33,19,42,29,31,19,25,28,24,25,14,23,22,20,21,12,11,9,45,18,20,28,13,5,10,15,20,24,14,32,18,16,18,13,20,20,6,13,24,18,29,15,30,15,37,15,20,15,12,19,4,22,31,13,14,11,10,21,26,27,11,11,19,10,22,17,24,14,12,19,22,17,20,13,18,32,14,9,5,21,24,13,11,10,11,19,17,9,19,22,14,14,21,17,19,21,25,13,31,32,24,15,22,15,5,5,14,20,17,15,28,17,15,14,12,24,22,26,23,24,31,14,24,20,17,21,22,19,40,29,33,29,36,27,13,14,13,8,12,14,25,17,29,22,24,18,17,17,26,15,13,18,21,24,34,11,14,25,24,15,12,11,11,8,14,11,9,16,9,22,9,9,26,10,15,8,9,46,19,22,21,26,11,15,12,20,29,20,18,30,30,32,21,16,17,16,21,22,27,30,20,13,31,33,20,12,14,5,10,9,36,6,17,25,18,16,22,34,24,26,12,13,18,17,8,34,32,34,15,12,12,10,24,12,26,18,5,11,9,12,9,15,24,17,15,15,22,11,25,19,22,31,12,14,13,29,16,4,24,24,21,12,25,23,18,8,11,17,26,18,28,16,14,14,28,15,4,19,18,35,17,27,17,22,22,39,16,35,17,26,17,27,19,20,20,31,28,21,21,20,25,8,9,10,20,31,12,14,27,10,12,23,14,28,31,19,16,15,15,19,22,27,18,15,30,22,15,20,17,17,22,23,11,18,10,8,5,8,11,10,14,13,14,11,12,35,102,50,70,56,50,65,31,32,68,44,63,53,16,32,21,21,34,39,14,27,26,54,41,62,14,21,68,48,34,66,23,20,32,43,46,57,68,42,27,54,56,48,58,39,68,71,67,76,55,51,113,35,32,30,39,37,40,43,31,26,33,16,61,69,38,60,50,66,10,36,33,43,46,28,79,22,29,55,101,50,14,48,21,57,61,30,69,44,34,58,45,50,48,27,44,23,5,11,9,58,13,36,49,18,67,33,46,38,53,41,27,58,47,16,41,41,66,52,62,19,27,27,38,27,12,31,46,34,42,3,30,42,32,53,42,14,8,24,23,45,50,20,6,16,57,55,14,22,20,67,33,28,19,32,45,43,31,28,10,11,24,5,92,45,52,51,15,46,27,42,41,19,27,47,39,18,64,32,85,27,35,47,53,50,33,35,52,12,17,44,53,27,43,29,60,35,24,25,17,27,34,17,36,34,9,8,19,61,27,47,18,20,42,20,34,22,29,53,4,26,28,20,21,38,33,21,35,20,43,25,64,19,60,2,18,32,32,18,22,16,60,28,26,9,16,16,58,21,51,30,47,30,33,15,31,42,42,15,22,86,18,22,25,30,32,39,11,12,33,24,26,13,12,20,45,15,29,33,35,45,40,58,11,86,22,18,46,70,37,29,10,63,18,54,22,70,44,62,56,28,29,34,19,48,52,38,6,27,18,34,23,67,6,22,16,19,21,52,23,23,18,14,10,30,31,46,23,21,37,17,54,16,33,39,31,55,11,15,28,35,2,21,19,14,44,51,19,21,11,21,20,19,14,12,42,32,18,14,29,25,13,26,37,25,5,7,48,15,17,29,11,12,42,32,49,44,19,21,48,52,12,12,41,29,17,52,44,12,12,31,31,23,24,29,18,50,17,22,30,15,18,28,12,7,20,20,67,40,54,14,43,34,21,22,23,25,29,9,25,15,32,19,21,12,35,56,10,13,35,29,33,46,49,36,37,25,63,60,35,35,27,43,47,13,55,15,34,11,64,44,39,42,92,30,26,30,49,41,18,51,64,70,46,56,23,20,54,46,35,19,44,81,42,32,18,36,23,39,25,38,29,8,33,28,29,12,93,64,60,19,35,57,68,17,27,20,51,13,42,49,13,43,21,41,18,40,24,22,3,46,40,33,49,62,11,62,5,56,19,27,17,79,33,38,24,16,43,34,22,29,44,15,13,30,22,17,10,22,18,57,39,53,21,37,31,16,30,17,13,83,42,21,29,50,29,57,7,44,7,59,29,42,62,40,32,6,76,31,10,37,14,11,17,53,18,59,33,67,22,49,26,31,27,22,76,42,57,53,35,44,78,10,27,37,99,44,63,27,21,44,29,31,36,19,22,40,24,62,75,61,33,32,38,22,49,63,30,20,17,17,26,6,30,46,63,11,41,33,35,14,37,41,9,48,20,64,44,25,22,32,33,35,32,9,13,40,28,63,33,27,47,62,44,18,38,30,24,3,29,49,13,39,22,44,41,6,24,17,6,8,22,47,47,14,59,23,39,24,21,17,22,19,31,65,41,44,23,32,47,35,98,27,46,10,31,10,12,64,35,33,85,19,35,17,39,19,34,25,68,5,37,31,17,32,47,17,27,11,59,22,39,11,60,30,29,88,40,8,16,51,32,9,35,19,23,27,25,28,38,28,52,26,24,37,18,12,10,19,15,20,30,8,15,35,35,32,4,32,18,43,43,22,27,22,17,21,9,6,5,34,10,25,38,31,4,11,22,19,24,31,30,13,21,18,24,28,25,28,26,36,22,49,62,32,26,24,26,8,47,38,32,9,47,31,52,28,25,26,21,27,23,33,39,30,80,31,47,72,47,37,23,26,71,24,6,37,20,20,29,56,6,38,57,21,20,42,51,19,48,51,25,13,40,54,10,16,67,67,66,31,50,53,32,32,75,55,9,29,27,25,28,18,67,22,52,78,42,40,31,50,24,13,17,42,50,40,29,25,21,30,46,26,23,52,14,34,21,27,40,42,40,28,50,29,55,28,18,37,46,17,31,20,11,16,26,28,23,37,35,20,21,20,12,42,39,47,74,13,36,18,15,27,37,51,25,50,30,45,39,28,60,30,26,61,60,30,31,42,21,50,14,36,48,43,16,35,24,36,50,32,31,32,24,23,25,32,27,22,20,44,56,38,6,10,32,89,78,21,23,38,72,49,26,58,57,43,18,31,20,29,28,50,12,22,32,6,46,42,71,35,78,17,30,21,49,40,70,31,14,37,24,66,17,17,13,17,11,20,40,29,44,46,21,26,32,33,37,27,13,20,44,35,20,45,57,34,33,22,41,7,12,38,13,34,57,20,50,41,21,63,12,57,19,32,21,33,20,35,12,12,33,72,49,54,27,46,35,41,35,28,107,18,17,43,66,34,34,33,46,14,68,25,43,20,33,77,22,23,11,46,17,44,28,18,21,23,22,29,37,27,20,24,54,34,36,51,6,51,11,22,22,9,10,24,41,41,25,22,10,19,21,57,77,39,23,38,17,30,20,25,46,28,65,15,31,26,28,22,46,44,52,9,18,15,45,12,13,15,49,17,5,5,10,13,33,29,24,23,25,64,16,23,19,40,61,30,71,57,12,31,48,37,40,46,12,19,35,45,19,12,20,30,49,49,11,16,17,16,16,16,11,32,58,75,40,27,50,59,20,63,10,6,5,32,10,19,16,21,31,33,30,63,2,16,19,30,85,42,9,14,20,24,25,48,29,16,17,18,25,29,14,33,20,28,11,31,12,15,10,52,18,25,22,19,11,28,16,44,19,27,11,11,20,39,29,21,21,25,44,63,53,25,50,24,32,59,25,31,27,28,19,30,36,11,21,21,90,12,26,58,28,84,87,20,46,11,104,10,51,27,36,33,29,72,41,33,72,42,56,56,38,65,38,35,66,33,136,79,58,47,18,34,13,35,55,58,61,60,19,48,28,24,46,46,39,37,46,37,25,30,23,25,50,54,17,52,29,63,76,27,11,15,82,15,6,63,44,49,34,23,41,85,40,51,18,27,43,38,34,63,59,17,35,16,25,35,43,36,51,9,18,6,26,18,14,31,44,27,71,61,9,35,68,24,15,59,49,32,42,9,42,29,13,37,40,35,24,27,55,29,11,22,35,18,32,39,26,39,56,44,9,55,79,53,21,41,8,26,20,25,52,30,40,61,24,39,21,28,62,44,19,22,45,9,13,21,10,10,42,23,21,44,37,3,7,32,18,36,7,32,29,32,19,18,24,24,24,11,12,23,12,12,9,53,38,17,18,14,12,6,28,37,30,31,28,19,50,18,18,33,36,34,51,33,17,11,14,18,33,15,34,33,23,34,35,18,22,30,19,33,28,27,33,14,15,22,29,25,34,47,54,22,30,43,31,50,31,33,45,38,62,24,21,35,44,44,32,8,14,6,57,46,21,60,27,43,29,49,57,28,9,15,36,54,12,78,29,38,9,31,32,26,38,73,18,19,37,8,47,36,39,9,14,46,39,32,41,46,24,21,23,28,55,45,41,66,54,6,24,45,26,57,12,11,10,22,37,13,36,20,27,50,23,28,9,21,25,18,28,11,20,46,30,33,21,34,35,15,73,28,25,19,31,61,35,31,48,25,48,17,33,67,35,15,38,79,42,39,16,53,29,52,25,10,43,49,19,10,24,33,31,45,57,14,24,24,31,32,3,18,9,25,38,33,32,43,29,71,29,49,27,16,35,30,30,41,45,18,41,39,32,35,58,20,35,72,20,21,65,19,69,25,77,91,40,45,25,47,32,34,58,28,17,27,10,14,24,15,13,15,42,34,36,13,16,30,25,72,21,42,28,31,41,23,42,26,70,29,15,31,44,9,6,59,29,33,40,24,26,51,23,31,38,75,18,15,59,14,15,29,71,21,56,10,12,25,22,29,30,30,38,39,41,9,26,27,45,20,43,5,61,32,21,12,24,52,21,30,16,16,27,27,30,47,18,65,32,46,32,32,29,23,39,36,33,29,21,24,20,44,33,51,16,16,31,21,15,70,44,52,23,36,38,23,33,38,41,26,46,48,55,40,33,35,30,23,38,38,50,26,46,37,17,46,27,26,21,39,17,35,54,47,36,23,15,7,48,43,31,68,34,45,30,39,22,30,30,21,15,16,32,32,38,45,38,68,59,55,37,61,68,27,26,85,43,35,66,46,76,12,36,39,31,55,29,20,39,24,22,17,43,14,14,15,60,35,34,58,20,30,32,53,40,35,19,43,56,8,55,18,25,30,22,34,28,51,19,22,32,50,21,13,29,11,11,39,37,23,46,63,26,18,34,54,52,35,24,27,21,35,36,31,11,14,30,47,29,26,42,29,30,48,38,23,19,10,11,17,27,24,15,65,30,56,36,24,23,77,25,29,27,41,28,26,88,62,64,68,17,9,68,37,30,51,39,55,43,37,68,32,36,24,35,24,44,25,13,39,13,20,19,18,28,34,30,12,56,18,38,30,32,28,37,38,31,39,7,13,22,6,7,7,19,12,8,9,8,18,33,29,19,18,19,18,19,25,23,23,24,20,22,51,17,10,29,25,63,10,9,90,29,28,8,48,38,25,38,38,67,47,15,67,38,18,61,17,58,17,52,35,45,36,16,10,23,25,24,48,3,14,46,12,36,57,28,21,19,17,21,60,22,30,18,32,23,32,50,40,32,31,41,40,51,56,51,21,15,19,21,17,51,32,2,38,63,19,51,18,37,12,33,25,6,47,35,17,23,20,11,18,19,25,30,15,32,46,26,26,35,44,46,52,13,75,23,23,54,47,24,25,10,31,24,31,22,20,18,13,13,17,14,23,29,20,13,20,18,7,17,48,26,46,25,40,12,23,28,18,51,17,22,21,28,9,11,29,24,47,19,11,26,44,24,35,46,30,46,29,40,51,27,36,39,13,12,19,45,21,20,45,20,29,61,12,36,26,28,17,59,70,41,47,79,26,18,40,25,3,6,22,46,36,6,33,13,17,47,7,14,36,27,32,31,21,39,11,41,9,33,24,18,14,62,50,4,24,31,18,18,23,40,10,5,25,70,28,46,34,26,34,28,42,13,9,25,17,28,26,22,20,20,27,33,11,25,38,60,45,10,22,39,46,57,25,54,28,15,30,21,31,26,45,14,45,38,29,50,19,33,70,45,20,16,49,27,45,7,47,22,23,20,11,36,22,48,34,46,26,68,15,39,21,17,15,38,28,30,30,24,54,22,31,29,41,100,55,15,19,22,29,64,20,18,19,33,26,23,35,20,17,33,5,19,20,14,17,27,39,43,37,43,50,37,42,38,67,102,26,44,51,50,65,37,63,26,24,49,37,52,50,21,43,66,47,27,76,51,62,50,77,18,29,10,11,26,34,14,15,15,15,69,15,13,17,9,16,21,64,28,89,15,21,46,25,11,15,45,23,41,45,23,23,16,27,19,42,11,27,32,37,34,29,50,28,39,36,13,32,16,62,15,8,64,72,34,45,36,20,65,44,40,29,59,13,24,35,59,40,41,10,20,19,31,23,23,15,21,35,63,22,28,34,11,41,12,11,37,35,40,41,62,9,26,48,24,18,17,34,20,21,34,49,47,28,54,35,39,51,25,38,29,90,29,53,42,12,40,32,54,45,67,42,18,32,31,55,8,18,17,18,28,41,18,19,18,27,9,21,27,27,45,6,5,5,22,17,17,31,34,30,17,45,12,25,7,24,10,18,52,44,18,14,16,37,36,68,37,46,20,16,18,24,38,38,9,44,28,34,6,19,44,22,21,10,24,11,31,68,17,22,69,66,19,12,16,83,41,6,42,26,26,27,20,22,14,27,13,31,31,42,22,10,12,54,7,30,25,27,42,38,33,11,9,11,15,36,33,31,47,22,12,23,30,54,32,16,17,36,15,17,14,15,20,73,52,36,22,18,45,17,26,11,16,29,23,39,45,31,26,18,28,31,28,11,15,37,18,33,43,34,34,28,36,34,17,40,12,35,39,41,12,24,14,38,21,36,37,25,44,44,38,26,42,26,22,63,37,49,35,51,22,34,6,13,29,10,18,53,8,11,9,8,25,45,22,11,24,27,32,30,19,43,17,53,48,12,44,6,45,18,66,9,50,5,23,25,11,25,15,23,25,22,12,16,39,17,20,46,32,19,90,51,30,22,38,18,20,43,21,20,16,15,21,21,25,22,30,30,19,20,44,11,56,28,49,33,51,9,24,18,23,32,21,40,16,13,39,74,38,38,47,36,24,41,14,15,36,25,8,31,45,41,50,26,23,24,18,67,55,20,13,38,20,50,27,17,14,49,43,12,14,49,37,33,26,10,26,64,62,45,32,74,73,36,16,8,49,26,31,26,14,14,18,15,19,11,24,30,43,10,21,23,34,31,16,61,45,20,15,16,39,24,45,37,43,8,13,36,43,18,15,14,7,36,21,57,6,5,21,24,28,15,42,16,27,27,16,24,14,41,10,21,24,18,47,25,12,50,3,34,28,59,20,29,27,48,12,54,15,41,62,40,29,34,31,52,36,31,27,21,57,50,32,39,24,23,33,61,32,49,40,18,7,19,54,38,36,19,5,45,25,44,34,28,14,34,29,43,82,8,16,20,23,27,27,27,61,18,16,7,34,40,6,6,10,12,15,23,10,17,80,7,35,11,14,10,40,22,60,45,9,10,34,49,9,10,23,52,44,15,21,17,14,28,43,27,54,24,25,38,37,15,20,18,34,16,48,15,17,38,32,37,31,13,11,59,50,7,66,28,22,24,16,38,21,6,10,14,17,13,22,9,18,36,18,32,31,9,35,37,38,29,22,36,35,15,36,41,27,30,18,24,19,38,43,37,24,26,25,25,18,34,30,13,10,30,9,25,26,23,19,32,31,25,16,45,46,6,30,20,14,16,45,20,34,16,14,12,32,59,22,29,20,32,32,31,23,6,18,20,27,20,18,52,36,15,17,16,44,23,39,16,67,31,16,12,12,56,46,52,54,13,13,54,42,29,24,39,26,34,29,21,21,22,33,50,20,45,19,17,18,32,29,24,24,42,18,36,42,31,47,52,21,41,27,47,20,48,45,24,60,30,17,40,38,15,20,12,31,30,32,37,59,32,26,26,49,30,95,12,18,15,32,15,17,39,36,31,12,32,12,21,37,29,25,28,41,25,5,48,58,26,13,35,17,36,15,29,17,57,20,26,49,42,22,31,18,41,21,30,55,14,17,50,27,17,9,27,17,34,27,14,34,27,44,59,30,5,10,30,21,18,37,29,29,6,36,25,22,32,18,47,10,19,14,27,62,38,13,42,37,30,33,41,29,40,48,28,35,20,13,21,64,28,8,25,27,38,34,46,36,47,20,14,46,6,10,6,10,27,48,31,16,8,69,50,37,2,34,21,24,30,22,35,38,54,27,22,27,25,25,25,37,47,12,31,37,40,63,48,30,28,41,31,47,30,29,18,61,54,48,19,12,34,36,17,30,23,17,23,28,35,13,32,48,28,31,33,19,9,9,25,65,40,26,33,39,90,67,23,27,27,47,10,37,49,25,25,64,11,15,13,12,26,18,43,4,5,49,8,21,51,19,6,16,15,68,47,30,24,51,22,10,31,52,48,34,5,23,13,26,26,25,37,41,30,44,23,37,23,22,26,10,51,12,18,64,33,23,22,20,39,18,48,47,40,17,27,12,53,38,26,10,15,16,9,19,18,35,27,29,15,13,54,15,36,10,42,51,37,50,49,40,28,36,19,35,43,29,18,39,27,23,20,15,21,25,8,11,11,12,25,33,26,26,49,48,20,16,10,37,8,18,17,12,25,17,36,46,38,35,30,25,25,22,38,23,29,40,17,31,20,12,10,18,40,21,34,26,17,25,21,23,35,19,5,11,17,12,5,41,38,44,21,27,24,18,19,29,15,66,7,26,19,28,41,72,40,37,31,43,44,24,17,13,28,17,35,11,6,42,40,42,29,12,14,35,35,40,40,34,47,30,20,24,24,19,11,12,22,18,22,52,10,11,18,7,40,44,59,43,27,23,34,24,6,23,18,32,23,32,35,29,16,54,6,6,13,10,20,28,14,17,40,16,20,32,26,22,19,18,18,46,6,52,67,57,19,7,46,34,34,22,26,35,70,34,19,41,23,69,33,34,30,21,64,68,21,24,33,27,26,11,34,22,16,43,63,48,24,26,19,49,49,84,25,2,23,33,51,22,32,18,61,43,16,26,13,25,34,33,34,30,38,29,40,49,20,38,7,25,60,20,36,34,82,16,28,24,6,28,21,14,11,16,13,10,16,31,47,19,27,22,35,34,11,20,34,21,35,17,11,9,26,27,24,22,19,15,25,43,11,28,32,40,46,43,5,27,37,10,11,16,13,25,30,29,13,7,70,40,28,39,29,29,23,48,11,17,23,21,34,20,32,28,8,18,34,12,2,20,16,13,12,6,84,43,62,36,31,24,31,27,31,29,70,19,35,24,27,33,19,55,15,49,25,34,17,15,32,38,5,16,33,33,37,25,8,17,36,28,17,16,21,15,27,33,33,16,47,5,25,40,53,13,11,16,12,33,15,6,21,54,33,26,42,59,58,7,13,37,44,26,32,15,32,17,38,5,31,16,4,44,67,40,29,32,7,27,57,52,46,9,53,22,13,44,33,60,39,21,13,30,32,21,31,44,11,17,8,48,13,59,4,30,33,30,62,21,71,45,83,8,15,4,18,40,38,31,27,24,35,39,9,24,9,33,31,15,12,23,50,26,12,37,57,16,18,44,24,41,28,29,25,43,18,12,38,19,22,21,6,31,15,24,28,43,38,31,42,26,39,52,32,43,38,20,44,45,44,70,6,12,48,10,9,22,8,74,60,21,49,46,47,21,30,79,14,33,12,65,36,57,33,61,9,39,63,26,33,61,12,22,42,55,35,89,29,28,93,33,68,133,21,29,21,51,67,22,5,8,14,10,43,33,12,40,31,42,20,32,35,40,29,25,35,39,24,41,25,36,12,2,16,23,27,67,17,113,39,14,18,42,31,6,55,35,23,21,49,75,74,60,56,15,31,39,40,31,10,25,43,45,14,18,17,35,24,27,54,29,44,26,30,8,12,34,42,17,17,20,21,33,9,9,11,15,15,12,13,15,11,12,23,23,20,20,22,19,19,21,6,6,8,21,6,7,15,12,11,11,10,9,17,17,28,21,29,18,22,27,16,16,20,26,10,17,31,15,20,16,28,14,12,6,20,10,7,14,8,9,11,10,12,16,17,15,21,15,15,10,9,13,10,10,9,11,11,11,11,12,12,9,8,9,11,16,14,11,15,24,17,24,14,18,19,8,9,17,12,19,22,13,22,24,14,14,19,6,15,15,8,8,12,10,11,10,21,11,12,12,24,12,14,15,14,13,9,8,13,18,17,18,16,19,16,19,26,22,17,28,22,22,18,22,19,17,22,19,19,7,15,28,10,24,17,32,17,21,19,20,30,19,17,15,19,17,24,20,23,18,15,18,21,22,18,20,27,23,36,17,21,24,10,12,12,11,11,16,14,12,28,41,32,22,14,11,15,13,15,22,23,41,21,26,19,23,19,24,21,21,16,7,11,26,15,30,19,17,29,8,16,38,23,23,13,17,9,32,48,42,33,34,17,46,14,26,21,11,10,14,8,20,45,23,27,35,16,33,12,14,19,34,15,25,19,49,10,32,13,20,29,23,27,42,45,43,30,21,36,48,43,32,36,10,42,42,21,11,15,29,56,58,25,12,31,45,35,20,20,34,50,35,36,21,22,19,13,14,30,27,27,19,31,38,33,26,24,13,40,29,59,35,30,16,79,35,78,14,32,36,31,21,17,32,33,21,40,30,36,18,50,37,41,22,28,9,34,19,44,10,28,33,45,23,12,19,39,37,15,12,20,25,45,38,20,22,22,34,37,36,8,9,8,19,35,32,27,24,33,24,42,45,15,50,28,21,49,9,19,17,18,13,36,11,12,15,28,19,31,19,11,21,11,11,16,20,16,17,17,18,13,16,15,15,14,12,19,11,13,18,11,18,23,14,16,16,18,15,17,16,19,18,21,18,18,19,16,15,16,17,23,13,24,14,20,29,14,14,12,32,17,12,17,19,23,24,22,25,19,17,16,15,10,9,10,10,11,10,9,11,16,15,11,17,21,22,9,13,14,14,10,9,10,9,11,10,14,20,18,18,17,13,20,21,21,15,14,16,16,26,18,32,16,19,22,18,16,16,20,21,11,10,12,16,21,13,20,12,16,17,15,18,18,17,19,20,15,19,21,20,14,15,18,18,18,16,10,15,20,13,9,10,8,14,13,18,27,15,12,12,14,17,10,12,19,15,12,10,9,18,16,16,16,13,13,14,15,13,18,12,14,19,23,22,26,16,19,13,18,16,16,16,15,27,11,11,17,17,11,14,21,15,15,21,10,11,13,13,14,11,10,10,10,21,12,11,10,13,14,14,27,14,10,14,14,19,18,10,10,11,11,11,10,10,10,12,11,9,13,10,10,10,10,12,11,11,10,10,17,10,14,8,9,16,15,19,13,12,22,12,21,16,10,11,12,16,18,12,11,11,13,13,22,17,25,21,12,12,12,11,17,17,18,12,23,10,19,21,25,26,23,19,15,20,20,15,16,16,20,14,15,14,24,21,15,9,15,10,27,16,17,11,12,18,16,16,16,15,12,18,18,17,25,13,21,16,10,11,17,15,10,18,10,17,12,16,12,18,12,19,9,13,22,18,26,22,10,9,17,11,10,10,10,19,7,9,8,9,12,17,17,9,12,20,14,15,21,16,11,11,20,17,11,25,13,12,25,16,18,15,15,14,17,17,9,12,14,15,19,22,23,18,20,12,21,21,16,8,21,18,16,20,17,16,27,18,27,29,19,16,21,14,12,12,16,16,21,18,13,15,13,17,11,11,13,10,14,15,20,11,13,17,17,21,16,21,12,20,10,14,14,7,13,14,10,19,13,14,15,22,28,19,31,23,10,9,11,8,9,23,17,18,18,9,9,10,16,16,21,25,6,13,11,9,6,11,12,20,10,10,11,19,19,17,11,12,11,8,9,22,11,12,16,16,9,13,6,8,9,11,11,24,15,12,16,17,22,24,23,20,11,14,13,11,16,15,12,13,11,12,14,10,10,15,14,14,14,11,18,14,6,9,13,22,18,18,13,17,8,14,19,10,11,21,16,20,18,18,15,11,12,9,11,15,20,9,13,17,13,15,13,22,9,18,8,6,11,8,8,14,16,18,11,11,16,10,16,14,14,14,21,15,13,13,17,14,13,12,12,12,13,16,17,10,22,11,13,16,16,19,17,26,9,12,10,25,13,14,10,10,10,15,18,18,13,14,13,19,16,14,11,11,11,15,19,15,10,16,9,19,25,17,17,14,20,24,16,11,16,16,14,17,20,17,12,12,14,15,10,16,18,13,12,10,11,12,16,33,39,16,17,18,22,21,21,16,14,18,18,17,19,19,11,29,20,22,20,17,12,9,13,9,11,12,20,33,29,18,20,8,7,24,24,16,14,14,15,8,13,23,10,22,22,18,11,15,14,11,13,11,12,20,12,22,15,12,12,17,24,12,24,15,17,16,13,11,14,10,16,11,20,23,14,14,16,21,12,15,24,26,25,19,20,23,14,16,13,15,19,17,19,17,9,10,10,11,18,14,12,10,18,21,21,9,8,16,15,23,26,20,8,14,8,14,10,12,19,13,13,19,19,17,17,12,19,14,13,19,10,24,20,15,12,16,21,19,26,13,22,17,13,14,10,20,17,10,17,22,11,18,12,11,16,14,21,15,23,11,18,8,17,23,15,18,18,18,13,21,14,10,16,23,19,13,17,15,18,14,9,11,17,7,17,10,18,11,17,19,13,11,11,20,16,16,12,9,9,7,11,16,15,13,15,20,18,23,10,18,7,15,14,10,13,17,11,13,19,17,11,14,17,13,16,13,16,7,25,21,15,9,11,11,12,10,6,14,10,24,16,9,19,14,10,10,11,10,12,11,13,11,9,13,11,13,15,10,22,14,13,7,11,13,20,16,12,11,15,16,13,20,10,8,7,16,12,19,12,10,11,12,12,15,17,20,15,14,14,17,14,13,9,7,9,18,17,10,23,13,17,14,22,22,12,13,17,13,16,19,24,12,10,13,14,11,15,15,7,14,11,10,15,14,11,11,17,14,9,19,13,18,20,22,13,10,14,14,11,15,11,9,11,7,16,11,15,11,13,15,11,14,18,8,9,17,11,16,11,11,14,15,6,13,16,23,12,18,11,14,15,23,14,12,14,8,12,13,12,17,14,19,18,19,22,19,13,13,19,18,14,12,14,14,15,14,12,15,13,20,12,15,23,15,11,17,15,10,19,29,15,13,21,11,10,13,14,16,5,17,12,10,19,12,18,26,19,21,32,27,22,17,11,7,15,16,19,16,11,14,25,14,18,11,12,12,10,12,12,20,12,16,19,18,9,13,17,10,16,11,11,11,17,17,17,10,16,18,9,13,12,14,11,12,12,11,17,23,13,9,10,13,14,14,11,14,11,10,17,28,15,12,15,15,15,12,9,19,18,10,23,24,19,22,24,33,21,23,10,13,13,15,14,12,13,19,12,12,13,15,17,13,11,16,23,19,13,26,19,18,15,26,18,32,19,10,6,9,17,16,16,14,14,16,15,12,12,12,15,13,14,12,18,19,17,15,15,12,26,11,13,22,29,13,15,15,16,16,22,19,17,19,16,14,14,15,16,10,10,14,25,19,23,25,23,19,10,17,19,17,24,15,25,18,12,12,11,9,10,18,23,11,16,27,10,18,20,14,17,9,13,17,10,12,20,15,9,12,16,15,21,14,8,11,14,16,16,27,21,7,17,30,32,27,25,6,11,17,35,19,15,14,37,8,18,7,13,19,24,20,18,22,18,16,22,11,10,10,21,30,38,23,18,11,14,13,21,30,18,27,13,20,19,16,11,21,23,20,15,18,29,23,26,36,21,22,19,15,24,7,9,8,11,16,23,15,19,26,19,20,25,20,17,16,10,18,18,41,41,18,21,17,32,21,19,16,30,15,8,14,22,29,14,11,19,21,19,25,19,14,20,22,19,29,30,22,11,18,18,21,15,11,16,14,10,12,17,20,10,15,18,18,13,16,18,14,15,25,9,13,17,13,13,18,14,12,22,19,15,26,26,21,29,18,23,14,28,27,22,29,13,30,12,10,10,10,14,15,23,20,12,12,12,18,32,23,15,14,15,14,20,19,24,24,12,17,13,21,17,17,18,11,13,15,26,11,13,20,17,11,16,22,11,10,11,11,23,11,18,25,16,14,16,10,15,23,18,21,27,17,17,22,10,16,24,14,22,28,21,19,28,20,12,20,16,10,22,22,21,18,20,27,15,12,19,35,22,12,13,18,32,15,14,11,21,21,9,14,10,15,21,14,16,20,23,17,9,8,11,11,15,13,18,10,23,25,24,9,17,25,14,13,6,14,13,18,9,23,13,26,15,9,5,13,10,14,16,23,24,13,22,11,15,20,19,7,21,22,14,12,17,16,8,19,12,14,19,14,18,10,8,22,11,16,8,25,5,8,22,9,12,13,14,12,18,24,12,13,13,20,12,6,14,8,10,14,19,15,22,25,14,16,13,20,19,12,13,12,28,15,13,19,23,22,13,17,14,27,13,10,13,17,22,20,14,30,19,17,8,18,19,16,5,11,16,12,11,12,4,15,7,3,9,29,38,18,46,26,39,41,22,27,22,16,31,32,12,38,30,22,31,23,29,21,25,25,22,19,22,11,21,17,31,17,25,23,23,25,35,27,35,18,56,26,25,30,27,26,32,29,26,17,12,19,20,14,15,24,19,25,18,17,19,27,25,30,21,12,27,7,41,17,18,22,15,18,15,12,25,10,17,16,14,21,23,15,20,18,21,21,23,13,14,14,17,17,26,17,28,21,32,32,17,25,10,19,19,24,29,22,16,18,28,16,14,16,16,20,17,22,25,23,21,29,34,29,29,12,12,25,15,15,19,20,16,22,19,21,19,16,13,22,31,23,11,15,18,21,13,22,32,35,10,20,22,6,20,18,19,21,29,30,28,23,20,21,33,20,19,21,14,23,23,26,46,41,25,25,12,26,18,24,26,25,20,15,22,13,28,15,22,27,29,20,26,16,36,22,24,23,25,18,24,25,23,29,19,25,27,26,15,36,19,21,19,43,20,21,25,17,30,28,29,28,15,29,24,26,22,22,6,18,27,16,23,14,15,12,24,30,24,16,15,4,5,10,10,16,29,20,17,8,8,18,15,15,10,24,15,16,11,10,15,18,10,15,15,18,17,25,19,11,21,24,24,28,15,13,12,16,15,16,12,30,11,10,14,27,15,30,17,13,13,20,25,25,29,22,25,26,15,32,31,38,18,29,33,24,24,34,25,9,43,30,24,20,26,20,17,23,15,18,29,29,21,12,27,23,25,9,22,28,24,25,18,24,24,29,25,23,29,30,13,16,15,14,14,28,33,23,24,18,21,23,22,35,32,29,27,30,22,26,13,25,23,35,37,17,16,23,26,17,19,21,17,21,29,21,21,19,11,13,22,19,29,34,15,25,28,27,21,27,25,23,18,30,41,34,22,16,19,18,20,13,24,25,22,25,15,38,31,24,25,40,26,29,30,28,27,31,20,20,22,28,17,13,17,14,18,16,26,19,15,26,19,29,20,15,9,26,12,29,32,13,14,33,10,15,28,28,28,18,14,12,24,30,16,25,28,16,18,30,18,8,26,19,27,30,7,12,19,21,16,17,25,23,14,18,25,20,14,19,11,31,27,25,32,26,25,22,26,26,22,21,25,29,25,22,25,25,30,26,23,30,23,20,17,15,15,17,17,20,21,19,20,17,12,21,19,12,32,17,15,27,22,13,19,19,20,13,19,29,27,24,23,26,27,23,29,16,16,23,12,31,20,21,17,14,18,16,21,23,22,20,34,25,27,30,26,13,31,29,36,34,12,36,19,29,37,32,11,10,11,21,16,11,22,23,24,22,17,28,29,22,30,15,17,28,22,34,16,12,13,12,13,26,15,25,20,24,20,19,23,14,13,19,13,23,13,12,16,12,12,12,29,19,14,5,15,11,16,15,16,12,19,10,11,12,11,22,18,12,14,23,11,13,29,7,18,10,10,10,12,8,11,10,6,24,25,21,4,11,16,9,10,11,9,24,5,19,16,12,9,21,13,17,16,8,27,10,9,9,13,10,12,9,21,22,21,13,16,19,19,20,20,18,15,20,14,11,7,12,27,35,16,23,13,14,11,17,18,31,21,22,24,12,19,18,20,20,11,13,18,23,26,13,17,10,13,7,12,23,27,23,13,12,21,20,18,18,17,24,16,19,12,21,16,18,17,23,18,21,26,24,17,20,27,21,23,20,25,31,30,17,23,25,18,17,18,14,12,11,11,15,10,29,21,15,13,11,21,10,10,20,21,28,27,23,24,20,15,17,5,11,18,20,10,24,10,9,21,14,16,39,22,18,17,10,40,23,26,15,13,21,24,12,14,15,13,16,8,6,10,15,8,14,7,12,38,11,11,19,4,6,12,18,25,9,12,17,24,16,18,22,27,25,19,27,9,10,16,22,18,30,20,10,31,29,19,15,19,14,29,15,8,17,20,20,21,20,23,16,17,20,21,33,29,21,9,23,40,31,29,33,16,13,17,29,26,36,10,26,29,12,22,12,12,20,11,19,14,28,12,18,12,15,24,29,40,28,16,33,19,17,10,30,27,16,17,18,24,21,12,24,27,29,11,53,14,18,12,20,13,25,14,20,23,5,20,22,16,14,14,16,23,13,8,15,15,19,18,28,20,22,11,23,12,18,10,20,9,12,14,21,7,9,12,9,9,15,17,12,21,20,35,24,19,27,22,19,19,53,24,15,14,18,15,14,15,19,17,23,29,29,27,12,20,17,26,14,20,15,23,11,8,34,18,14,20,25,11,14,14,12,23,27,21,11,24,18,15,20,21,11,13,29,10,22,20,15,22,19,27,10,18,13,11,21,11,15,17,40,10,25,26,24,14,21,4,22,13,14,12,8,22,41,18,13,10,16,23,19,7,9,22,26,5,6,16,35,12,33,40,21,14,22,27,36,32,8,15,11,16,9,22,15,16,27,33,21,23,12,12,18,11,26,14,12,11,7,19,29,19,13,25,24,21,29,27,16,11,20,21,12,14,29,13,14,16,11,13,18,15,20,20,18,24,23,12,18,29,28,14,23,15,22,16,25,19,6,16,26,22,13,35,28,24,34,27,24,14,12,28,18,13,16,19,28,20,14,30,12,20,23,20,21,23,20,17,21,17,15,23,21,21,11,21,11,15,11,22,22,15,22,21,22,9,25,26,33,34,11,8,7,10,35,24,25,13,24,24,17,13,12,33,39,26,15,15,28,24,16,20,20,40,33,14,19,26,26,22,12,16,15,28,27,18,31,15,20,16,23,24,27,22,16,28,25,35,19,22,29,19,20,15,11,13,18,16,21,23,9,34,23,23,15,14,21,40,11,16,17,13,20,9,28,25,20,18,14,31,18,17,18,18,25,19,18,23,29,20,12,13,13,15,18,20,19,10,17,12,13,15,17,20,18,15,18,11,11,15,32,13,17,19,13,32,23,22,14,22,13,14,6,26,17,11,15,22,20,12,15,8,13,26,18,16,22,9,16,17,17,24,28,14,23,26,24,20,12,24,23,13,22,22,16,3,3,5,5,5,5,6,6,7,7,5,5,4,4,4,4,5,4,5,4,5,5,5,5,6,6,6,6,7,7,8,5,6,6,6,3,4,3,3,4,3,3,3,3,3,4,4,4,4,5,5,6,6,5,5,6,6,4,4,6,5,7,6,5,6,7,6,8,8,9,8,8,7,8,5,5,4,4,4,4,4,5,5,5,5,5,6,7,6,7,5,5,5,5,4,5,6,5,6,3,3,4,4,5,6,6,5,7,7,8,9,11,7,7,9,8,9,7,9,8,9,9,12,10,11,8,6,8,9,3,3,6,7,8,8,8,7,1,3,4,5,3,6,5,2,3,2,4,5,5,5,4,6,4,4,5,5,5,6,5,6,5,6,6,6,6,7,6,7,6,7,7,7,6,5,4,4,5,4,4,5,4,4,4,5,6,5,6,4,5,4,4,6,6,3,5,4,3,6,7,8,7,5,5,6,6,5,7,6,5,7,6,8,9,10,5,6,6,4,4,5,5,5,4,3,6,5,6,5,5,5,5,6,7,6,9,10,6,4,5,5,6,6,8,7,8,9,5,4,5,6,13,5,8,4,5,5,4,9,5,5,6,5,14,13,5,6,6,6,6,5,6,7,5,4,5,4,10,11,12,11,13,12,14,14,5,5,4,4,9,9,8,6,6,8,9,9,6,6,5,6,6,6,7,8,7,14,13,9,7,10,9,10,10,11,4,5,5,5,3,3,5,5,8,7,10,9,11,10,10,10,10,9,9,10,10,9,8,13,14,14,8,10,9,9,11,10,10,12,11,11,11,12,18,17,20,5,6,7,8,8,10,9,11,13,11,8,6,7,7,5,5,5,7,8,14,13,12,11,10,12,8,9,7,13,5,8,9,10,11,11,9,10,9,8,8,13,11,9,8,8,9,6,8,8,16,15,5,6,7,7,8,9,10,10,4,5,7,10,9,10,9,9,10,10,8,14,13,8,9,9,10,11,11,13,14,10,11,14,16,13,13,10,10,14,16,12,13,11,13,14,9,10,10,11,10,12,13,13,10,11,16,16,11,13,14,8,9,9,9,11,11,11,9,8,10,9,10,12,13,11,13,15,15,12,13,12,13,9,10,10,11,12,15,16,19,17,18,10,10,13,14,14,12,10,11,11,10,9,9,8,12,11,10,9,10,9,13,14,11,11,10,11,3,4,3,13,1,2,2,4,4,4,4,3,5,4,14,11,12,11,5,5,16,11,13,8,5,13,11,10,9,15,11,9,9,11,11,8,11,7,7,16,15,10,13,9,6,13,9,15,18,11,24,14,10,16,17,14,14,9,17,16,19,5,6,5,6,6,4,4,4,4,5,6,6,5,4,4,4,4,5,5,5,6,6,8,9,8,9,10,10,6,6,4,5,5,5,3,3,4,4,4,4,5,4,5,5,6,6,6,6,7,7,4,5,5,5,3,4,4,5,3,4,5,5,6,7,7,8,7,6,7,8,4,5,5,3,5,6,8,6,9,7,6,8,8,9,10,10,9,10,10,10,9,9,11,11,10,10,10,9,11,11,11,10,12,10,10,9,11,10,10,9,11,11,11,10,12,12,12,11,12,11,11,10,12,11,11,10,11,11,10,3,4,4,5,5,4,8,9,9,8,4,5,6,6,7,6,5,5,8,7,7,5,4,5,6,5,4,5,10,8,11,11,11,9,10,9,7,6,2,3,3,4,4,4,4,5,6,8,7,4,5,5,6,4,8,9,9,6,8,9,7,9,10,9,9,10,11,10,6,7,7,6,7,7,7,7,5,6,6,7,6,7,7,8,3,4,4,5,6,6,4,6,6,6,5,7,6,4,5,5,13,13,18,18,7,5,6,7,7,8,8,8,4,5,12,13,14,14,6,7,7,9,12,5,6,6,4,5,4,5,14,13,13,12,6,5,6,6,8,5,5,6,6,6,5,6,6,3,5,6,6,7,5,6,6,7,6,9,7,8,8,6,5,6,8,8,7,7,8,8,5,6,6,8,9,9,10,4,5,6,4,6,7,6,7,4,5,6,7,7,11,14,15,13,7,6,5,9,5,6,6,9,12,4,5,5,4,6,7,6,5,4,5,7,6,2,12,6,5,5,6,6,7,5,7,4,3,6,6,9,4,9,7,5,6,4,8,7,5,6,5,5,14,15,13,12,12,12,12,11,14,15,7,8,8,8,8,15,13,14,16,8,9,31,23,15,16,9,10,20,14,15,15,20,10,12,15,19,14,13,13,14,16,21,9,25,19,14,15,15,18,11,17,16,12,26,14,16,17,14,41,8,9,12,10,13,22,20,26,25,12,16,21,27,28,34,35,25,16,33,36,38,22,15,23,24,21,21,17,17,21,11,24,27,22,29,16,20,13,19,18,17,21,8,9,18,13,13,14,14,20,19,13,8,7,13,10,11,12,15,20,22,13,16,18,19,22,16,18,20,32,18,28,29,28,21,35,21,20,24,21,28,28,31,9,25,25,26,37,30,42,26,24,11,23,24,21,14,15,11,11,25,12,12,35,29,22,5,34,28,12,11,10,27,28,31,21,16,21,18,25,27,24,15,24,22,33,10,10,11,16,14,30,35,18,8,12,7,14,13,13,11,8,3,5,12,31,19,21,7,10,10,19,10,9,11,11,7,26,23,13,11,12,22,22,11,18,15,14,25,17,10,16,21,26,15,5,12,27,10,19,21,43,27,30,21,19,18,7,26,32,11,25,21,27,19,10,7,13,29,24,25,31,26,27,18,33,32,20,24,48,24,12,37,14,21,41,22,40,21,14,13,25,25,19,18,34,15,24,13,30,10,32,19,30,20,14,11,32,30,14,11,23,7,30,37,14,12,24,23,23,14,23,35,19,14,18,17,28,7,15,9,27,32,24,24,20,20,9,10,16,21,15,23,16,11,24,12,16,13,26,27,33,22,29,18,40,41,16,16,17,10,25,14,15,20,22,15,33,18,33,16,20,27,20,38,32,46,12,13,29,11,22,20,29,19,12,15,14,14,23,13,20,13,7,18,20,25,11,15,19,42,22,22,14,21,17,19,18,33,32,28,14,19,22,23,14,9,18,31,19,6,26,18,24,21,19,15,24,14,13,19,32,12,16,17,16,11,15,26,25,28,13,27,17,15,12,24,9,29,16,15,16,13,24,18,35,23,18,38,17,18,29,14,23,17,30,24,50,12,30,16,18,11,11,8,24,18,23,35,19,20,19,27,28,31,27,27,17,14,32,28,16,20,20,16,33,31,23,8,12,10,3,14,13,20,40,13,34,19,18,30,27,28,9,35,25,32,41,57,27,20,44,26,38,33,14,32,27,17,25,15,14,7,21,9,36,21,20,9,26,31,22,29,13,23,14,37,18,28,24,28,24,25,13,17,20,13,18,18,22,25,16,18,18,17,24,12,21,29,15,21,22,24,26,36,25,15,15,33,24,19,27,28,24,32,21,28,34,15,20,21,11,26,9,32,23,24,28,41,34,15,29,28,11,16,33,25,9,14,8,15,10,14,29,19,16,11,11,8,30,18,26,16,50,50,55,10,40,17,19,20,22,26,16,36,29,18,52,15,20,38,40,31,18,29,35,36,28,34,21,28,54,48,25,53,27,31,43,34,32,34,30,27,41,49,44,36,31,41,24,20,27,32,29,35,34,28,37,26,41,22,27,33,18,31,24,52,11,23,26,17,23,39,42,13,22,11,16,14,37,30,9,16,14,17,26,14,37,27,28,29,29,34,12,31,22,27,19,12,25,25,25,26,28,33,23,17,32,41,21,18,25,35,41,33,24,41,27,26,25,29,37,24,25,33,42,14,45,25,37,16,26,33,26,19,24,38,22,29,24,27,21,34,46,34,25,23,35,46,16,11,24,34,28,27,31,25,36,16,22,41,25,43,39,18,18,16,16,22,29,17,26,35,17,56,14,18,19,41,34,35,27,26,19,35,22,30,12,13,30,34,36,34,27,27,25,35,42,19,38,15,15,29,27,13,27,29,18,35,40,32,14,10,30,31,28,24,29,29,36,24,14,17,21,10,20,32,33,28,27,36,16,29,32,13,19,13,14,25,25,23,17,16,23,14,20,8,16,27,28,12,33,42,12,23,29,26,34,17,24,21,21,20,19,27,27,23,25,42,26,37,29,16,18,29,27,17,19,28,29,26,33,28,29,25,38,18,28,29,21,37,34,21,18,26,21,36,26,31,40,37,46,26,23,26,26,32,36,17,28,49,21,36,45,74,29,57,40,51,47,35,48,40,48,50,43,52,25,31,41,64,47,36,28,32,56,65,43,29,43,44,48,34,54,21,30,37,39,44,28,24,34,30,45,24,25,38,40,31,38,31,44,34,34,28,58,15,36,18,20,20,35,30,48,31,41,62,35,33,54,42,69,37,37,83,53,54,43,41,35,39,21,36,37,73,33,45,39,37,37,57,38,65,25,43,45,70,41,24,33,30,18,20,19,30,40,19,41,28,48,22,24,42,22,38,22,31,38,23,22,30,25,31,29,23,50,32,42,26,32,31,16,32,45,21,43,29,25,23,23,39,20,21,16,20,32,43,25,31,29,31,26,41,39,26,26,41,24,23,31,35,37,23,33,51,23,42,41,43,38,24,28,36,24,44,42,24,37,40,26,21,37,18,35,34,43,27,31,22,30,23,34,36,27,22,29,40,30,38,34,31,37,59,37,37,27,16,23,20,12,20,37,23,34,19,22,31,24,21,19,31,17,15,21,24,15,28,22,25,21,34,9,15,26,21,31,46,22,16,21,16,20,34,20,16,11,17,36,18,32,32,21,33,21,24,20,27,18,31,27,20,34,18,25,26,15,33,19,13,14,15,16,8,19,28,22,17,18,15,47,27,45,48,52,40,35,35,63,46,43,42,39,35,46,57,51,39,33,51,44,45,43,55,56,30,53,43,50,44,40,65,62,46,43,26,56,64,46,35,32,39,38,27,32,27,43,27,44,48,40,41,38,58,44,49,39,36,30,55,52,22,43,25,42,63,49,46,21,40,28,29,55,27,47,58,51,37,36,52,25,61,52,59,63,74,81,71,71,77,56,55,27,55,76,74,60,51,47,53,37,43,54,42,56,52,45,65,40,61,59,52,53,64,45,57,61,67,44,57,47,60,59,50,63,59,39,50,64,68,54,65,71,68,55,65,54,66,45,62,67,36,49,44,86,31,63,48,81,37,49,73,45,54,77,67,74,63,60,48,53,40,71,80,57,42,59,54,65,49,66,23,28,25,30,34,34,41,30,50,33,71,31,54,32,23,33,34,39,36,32,28,43,37,28,36,34,37,21,43,39,41,41,38,65,27,35,36,32,33,36,30,36,28,54,24,35,47,27,57,45,31,32,34,29,44,25,44,46,44,30,36,17,16,11,31,24,30,35,21,47,32,28,23,53,57,29,42,37,33,44,31,34,33,19,26,16,18,35,42,44,33,39,41,25,37,33,25,28,43,24,65,25,59,102,43,83,67,61,55,58,96,39,61,76,63,23,23,39,23,49,31,27,45,40,16,20,25,28,16,28,21,14,23,8,30,20,22,22,26,30,30,20,15,27,25,48,30,21,23,34,28,26,34,33,26,14,39,34,23,40,23,29,35,52,44,27,23,31,19,28,22,24,33,22,37,33,28,30,29,32,25,28,38,36,23,15,34,24,19,17,21,32,28,32,29,41,34,8,39,24,34,45,20,24,18,27,29,67,51,49,51,62,51,44,50,56,34,74,39,26,44,57,62,40,47,58,57,51,57,55,75,51,62,70,61,49,58,55,66,35,39,17,59,51,27,57,41,27,28,44,22,72,42,51,52,51,63,57,41,49,55,26,68,52,61,26,29,70,41,66,57,49,50,42,45,61,43,52,58,61,49,50,94,59,28,47,72,86,29,61,51,79,53,38,51,46,65,65,41,52,81,48,56,55,65,44,45,69,30,56,78,44,21,21,42,45,26,26,67,22,37,51,34,74,50,24,67,43,27,16,39,25,38,44,23,27,21,37,65,54,28,28,18,47,20,36,50,42,28,45,22,49,36,60,31,48,33,49,36,43,64,53,19,42,83,34,25,16,48,54,53,38,29,53,39,19,58,42,30,28,29,45,46,24,69,28,54,29,14,43,59,60,21,49,71,47,66,33,39,64,12,28,43,59,42,67,37,24,24,48,12,26,31,31],\"xaxis\":\"x\",\"yaxis\":\"y\",\"type\":\"histogram\"}],                        {\"template\":{\"data\":{\"histogram2dcontour\":[{\"type\":\"histogram2dcontour\",\"colorbar\":{\"outlinewidth\":0,\"ticks\":\"\"},\"colorscale\":[[0.0,\"#0d0887\"],[0.1111111111111111,\"#46039f\"],[0.2222222222222222,\"#7201a8\"],[0.3333333333333333,\"#9c179e\"],[0.4444444444444444,\"#bd3786\"],[0.5555555555555556,\"#d8576b\"],[0.6666666666666666,\"#ed7953\"],[0.7777777777777778,\"#fb9f3a\"],[0.8888888888888888,\"#fdca26\"],[1.0,\"#f0f921\"]]}],\"choropleth\":[{\"type\":\"choropleth\",\"colorbar\":{\"outlinewidth\":0,\"ticks\":\"\"}}],\"histogram2d\":[{\"type\":\"histogram2d\",\"colorbar\":{\"outlinewidth\":0,\"ticks\":\"\"},\"colorscale\":[[0.0,\"#0d0887\"],[0.1111111111111111,\"#46039f\"],[0.2222222222222222,\"#7201a8\"],[0.3333333333333333,\"#9c179e\"],[0.4444444444444444,\"#bd3786\"],[0.5555555555555556,\"#d8576b\"],[0.6666666666666666,\"#ed7953\"],[0.7777777777777778,\"#fb9f3a\"],[0.8888888888888888,\"#fdca26\"],[1.0,\"#f0f921\"]]}],\"heatmap\":[{\"type\":\"heatmap\",\"colorbar\":{\"outlinewidth\":0,\"ticks\":\"\"},\"colorscale\":[[0.0,\"#0d0887\"],[0.1111111111111111,\"#46039f\"],[0.2222222222222222,\"#7201a8\"],[0.3333333333333333,\"#9c179e\"],[0.4444444444444444,\"#bd3786\"],[0.5555555555555556,\"#d8576b\"],[0.6666666666666666,\"#ed7953\"],[0.7777777777777778,\"#fb9f3a\"],[0.8888888888888888,\"#fdca26\"],[1.0,\"#f0f921\"]]}],\"heatmapgl\":[{\"type\":\"heatmapgl\",\"colorbar\":{\"outlinewidth\":0,\"ticks\":\"\"},\"colorscale\":[[0.0,\"#0d0887\"],[0.1111111111111111,\"#46039f\"],[0.2222222222222222,\"#7201a8\"],[0.3333333333333333,\"#9c179e\"],[0.4444444444444444,\"#bd3786\"],[0.5555555555555556,\"#d8576b\"],[0.6666666666666666,\"#ed7953\"],[0.7777777777777778,\"#fb9f3a\"],[0.8888888888888888,\"#fdca26\"],[1.0,\"#f0f921\"]]}],\"contourcarpet\":[{\"type\":\"contourcarpet\",\"colorbar\":{\"outlinewidth\":0,\"ticks\":\"\"}}],\"contour\":[{\"type\":\"contour\",\"colorbar\":{\"outlinewidth\":0,\"ticks\":\"\"},\"colorscale\":[[0.0,\"#0d0887\"],[0.1111111111111111,\"#46039f\"],[0.2222222222222222,\"#7201a8\"],[0.3333333333333333,\"#9c179e\"],[0.4444444444444444,\"#bd3786\"],[0.5555555555555556,\"#d8576b\"],[0.6666666666666666,\"#ed7953\"],[0.7777777777777778,\"#fb9f3a\"],[0.8888888888888888,\"#fdca26\"],[1.0,\"#f0f921\"]]}],\"surface\":[{\"type\":\"surface\",\"colorbar\":{\"outlinewidth\":0,\"ticks\":\"\"},\"colorscale\":[[0.0,\"#0d0887\"],[0.1111111111111111,\"#46039f\"],[0.2222222222222222,\"#7201a8\"],[0.3333333333333333,\"#9c179e\"],[0.4444444444444444,\"#bd3786\"],[0.5555555555555556,\"#d8576b\"],[0.6666666666666666,\"#ed7953\"],[0.7777777777777778,\"#fb9f3a\"],[0.8888888888888888,\"#fdca26\"],[1.0,\"#f0f921\"]]}],\"mesh3d\":[{\"type\":\"mesh3d\",\"colorbar\":{\"outlinewidth\":0,\"ticks\":\"\"}}],\"scatter\":[{\"fillpattern\":{\"fillmode\":\"overlay\",\"size\":10,\"solidity\":0.2},\"type\":\"scatter\"}],\"parcoords\":[{\"type\":\"parcoords\",\"line\":{\"colorbar\":{\"outlinewidth\":0,\"ticks\":\"\"}}}],\"scatterpolargl\":[{\"type\":\"scatterpolargl\",\"marker\":{\"colorbar\":{\"outlinewidth\":0,\"ticks\":\"\"}}}],\"bar\":[{\"error_x\":{\"color\":\"#2a3f5f\"},\"error_y\":{\"color\":\"#2a3f5f\"},\"marker\":{\"line\":{\"color\":\"#E5ECF6\",\"width\":0.5},\"pattern\":{\"fillmode\":\"overlay\",\"size\":10,\"solidity\":0.2}},\"type\":\"bar\"}],\"scattergeo\":[{\"type\":\"scattergeo\",\"marker\":{\"colorbar\":{\"outlinewidth\":0,\"ticks\":\"\"}}}],\"scatterpolar\":[{\"type\":\"scatterpolar\",\"marker\":{\"colorbar\":{\"outlinewidth\":0,\"ticks\":\"\"}}}],\"histogram\":[{\"marker\":{\"pattern\":{\"fillmode\":\"overlay\",\"size\":10,\"solidity\":0.2}},\"type\":\"histogram\"}],\"scattergl\":[{\"type\":\"scattergl\",\"marker\":{\"colorbar\":{\"outlinewidth\":0,\"ticks\":\"\"}}}],\"scatter3d\":[{\"type\":\"scatter3d\",\"line\":{\"colorbar\":{\"outlinewidth\":0,\"ticks\":\"\"}},\"marker\":{\"colorbar\":{\"outlinewidth\":0,\"ticks\":\"\"}}}],\"scattermapbox\":[{\"type\":\"scattermapbox\",\"marker\":{\"colorbar\":{\"outlinewidth\":0,\"ticks\":\"\"}}}],\"scatterternary\":[{\"type\":\"scatterternary\",\"marker\":{\"colorbar\":{\"outlinewidth\":0,\"ticks\":\"\"}}}],\"scattercarpet\":[{\"type\":\"scattercarpet\",\"marker\":{\"colorbar\":{\"outlinewidth\":0,\"ticks\":\"\"}}}],\"carpet\":[{\"aaxis\":{\"endlinecolor\":\"#2a3f5f\",\"gridcolor\":\"white\",\"linecolor\":\"white\",\"minorgridcolor\":\"white\",\"startlinecolor\":\"#2a3f5f\"},\"baxis\":{\"endlinecolor\":\"#2a3f5f\",\"gridcolor\":\"white\",\"linecolor\":\"white\",\"minorgridcolor\":\"white\",\"startlinecolor\":\"#2a3f5f\"},\"type\":\"carpet\"}],\"table\":[{\"cells\":{\"fill\":{\"color\":\"#EBF0F8\"},\"line\":{\"color\":\"white\"}},\"header\":{\"fill\":{\"color\":\"#C8D4E3\"},\"line\":{\"color\":\"white\"}},\"type\":\"table\"}],\"barpolar\":[{\"marker\":{\"line\":{\"color\":\"#E5ECF6\",\"width\":0.5},\"pattern\":{\"fillmode\":\"overlay\",\"size\":10,\"solidity\":0.2}},\"type\":\"barpolar\"}],\"pie\":[{\"automargin\":true,\"type\":\"pie\"}]},\"layout\":{\"autotypenumbers\":\"strict\",\"colorway\":[\"#636efa\",\"#EF553B\",\"#00cc96\",\"#ab63fa\",\"#FFA15A\",\"#19d3f3\",\"#FF6692\",\"#B6E880\",\"#FF97FF\",\"#FECB52\"],\"font\":{\"color\":\"#2a3f5f\"},\"hovermode\":\"closest\",\"hoverlabel\":{\"align\":\"left\"},\"paper_bgcolor\":\"white\",\"plot_bgcolor\":\"#E5ECF6\",\"polar\":{\"bgcolor\":\"#E5ECF6\",\"angularaxis\":{\"gridcolor\":\"white\",\"linecolor\":\"white\",\"ticks\":\"\"},\"radialaxis\":{\"gridcolor\":\"white\",\"linecolor\":\"white\",\"ticks\":\"\"}},\"ternary\":{\"bgcolor\":\"#E5ECF6\",\"aaxis\":{\"gridcolor\":\"white\",\"linecolor\":\"white\",\"ticks\":\"\"},\"baxis\":{\"gridcolor\":\"white\",\"linecolor\":\"white\",\"ticks\":\"\"},\"caxis\":{\"gridcolor\":\"white\",\"linecolor\":\"white\",\"ticks\":\"\"}},\"coloraxis\":{\"colorbar\":{\"outlinewidth\":0,\"ticks\":\"\"}},\"colorscale\":{\"sequential\":[[0.0,\"#0d0887\"],[0.1111111111111111,\"#46039f\"],[0.2222222222222222,\"#7201a8\"],[0.3333333333333333,\"#9c179e\"],[0.4444444444444444,\"#bd3786\"],[0.5555555555555556,\"#d8576b\"],[0.6666666666666666,\"#ed7953\"],[0.7777777777777778,\"#fb9f3a\"],[0.8888888888888888,\"#fdca26\"],[1.0,\"#f0f921\"]],\"sequentialminus\":[[0.0,\"#0d0887\"],[0.1111111111111111,\"#46039f\"],[0.2222222222222222,\"#7201a8\"],[0.3333333333333333,\"#9c179e\"],[0.4444444444444444,\"#bd3786\"],[0.5555555555555556,\"#d8576b\"],[0.6666666666666666,\"#ed7953\"],[0.7777777777777778,\"#fb9f3a\"],[0.8888888888888888,\"#fdca26\"],[1.0,\"#f0f921\"]],\"diverging\":[[0,\"#8e0152\"],[0.1,\"#c51b7d\"],[0.2,\"#de77ae\"],[0.3,\"#f1b6da\"],[0.4,\"#fde0ef\"],[0.5,\"#f7f7f7\"],[0.6,\"#e6f5d0\"],[0.7,\"#b8e186\"],[0.8,\"#7fbc41\"],[0.9,\"#4d9221\"],[1,\"#276419\"]]},\"xaxis\":{\"gridcolor\":\"white\",\"linecolor\":\"white\",\"ticks\":\"\",\"title\":{\"standoff\":15},\"zerolinecolor\":\"white\",\"automargin\":true,\"zerolinewidth\":2},\"yaxis\":{\"gridcolor\":\"white\",\"linecolor\":\"white\",\"ticks\":\"\",\"title\":{\"standoff\":15},\"zerolinecolor\":\"white\",\"automargin\":true,\"zerolinewidth\":2},\"scene\":{\"xaxis\":{\"backgroundcolor\":\"#E5ECF6\",\"gridcolor\":\"white\",\"linecolor\":\"white\",\"showbackground\":true,\"ticks\":\"\",\"zerolinecolor\":\"white\",\"gridwidth\":2},\"yaxis\":{\"backgroundcolor\":\"#E5ECF6\",\"gridcolor\":\"white\",\"linecolor\":\"white\",\"showbackground\":true,\"ticks\":\"\",\"zerolinecolor\":\"white\",\"gridwidth\":2},\"zaxis\":{\"backgroundcolor\":\"#E5ECF6\",\"gridcolor\":\"white\",\"linecolor\":\"white\",\"showbackground\":true,\"ticks\":\"\",\"zerolinecolor\":\"white\",\"gridwidth\":2}},\"shapedefaults\":{\"line\":{\"color\":\"#2a3f5f\"}},\"annotationdefaults\":{\"arrowcolor\":\"#2a3f5f\",\"arrowhead\":0,\"arrowwidth\":1},\"geo\":{\"bgcolor\":\"white\",\"landcolor\":\"#E5ECF6\",\"subunitcolor\":\"white\",\"showland\":true,\"showlakes\":true,\"lakecolor\":\"white\"},\"title\":{\"x\":0.05},\"mapbox\":{\"style\":\"light\"}}},\"xaxis\":{\"anchor\":\"y\",\"domain\":[0.0,1.0],\"title\":{\"text\":\"Darija sentence length\"}},\"yaxis\":{\"anchor\":\"x\",\"domain\":[0.0,1.0],\"title\":{\"text\":\"Count\"}},\"legend\":{\"tracegroupgap\":0},\"title\":{\"text\":\"Distribution of darija sentence lengths\"},\"barmode\":\"relative\"},                        {\"responsive\": true}                    ).then(function(){\n",
              "                            \n",
              "var gd = document.getElementById('d4581aa4-2c95-4cbb-9232-75ce4eb7fc7c');\n",
              "var x = new MutationObserver(function (mutations, observer) {{\n",
              "        var display = window.getComputedStyle(gd).display;\n",
              "        if (!display || display === 'none') {{\n",
              "            console.log([gd, 'removed!']);\n",
              "            Plotly.purge(gd);\n",
              "            observer.disconnect();\n",
              "        }}\n",
              "}});\n",
              "\n",
              "// Listen for the removal of the full notebook cells\n",
              "var notebookContainer = gd.closest('#notebook-container');\n",
              "if (notebookContainer) {{\n",
              "    x.observe(notebookContainer, {childList: true});\n",
              "}}\n",
              "\n",
              "// Listen for the clearing of the current output cell\n",
              "var outputEl = gd.closest('.output');\n",
              "if (outputEl) {{\n",
              "    x.observe(outputEl, {childList: true});\n",
              "}}\n",
              "\n",
              "                        })                };                            </script>        </div>\n",
              "</body>\n",
              "</html>"
            ]
          },
          "metadata": {}
        },
        {
          "output_type": "display_data",
          "data": {
            "text/html": [
              "<html>\n",
              "<head><meta charset=\"utf-8\" /></head>\n",
              "<body>\n",
              "    <div>            <script src=\"https://cdnjs.cloudflare.com/ajax/libs/mathjax/2.7.5/MathJax.js?config=TeX-AMS-MML_SVG\"></script><script type=\"text/javascript\">if (window.MathJax && window.MathJax.Hub && window.MathJax.Hub.Config) {window.MathJax.Hub.Config({SVG: {font: \"STIX-Web\"}});}</script>                <script type=\"text/javascript\">window.PlotlyConfig = {MathJaxConfig: 'local'};</script>\n",
              "        <script charset=\"utf-8\" src=\"https://cdn.plot.ly/plotly-2.35.2.min.js\"></script>                <div id=\"593697c4-ec2c-41cc-8a7e-9e195b194211\" class=\"plotly-graph-div\" style=\"height:525px; width:100%;\"></div>            <script type=\"text/javascript\">                                    window.PLOTLYENV=window.PLOTLYENV || {};                                    if (document.getElementById(\"593697c4-ec2c-41cc-8a7e-9e195b194211\")) {                    Plotly.newPlot(                        \"593697c4-ec2c-41cc-8a7e-9e195b194211\",                        [{\"alignmentgroup\":\"True\",\"bingroup\":\"x\",\"hovertemplate\":\"darija_ar_length=%{x}\\u003cbr\\u003ecount=%{y}\\u003cextra\\u003e\\u003c\\u002fextra\\u003e\",\"legendgroup\":\"\",\"marker\":{\"color\":\"#63fabb\",\"pattern\":{\"shape\":\"\"}},\"name\":\"\",\"nbinsx\":30,\"offsetgroup\":\"\",\"orientation\":\"v\",\"showlegend\":false,\"x\":[33,34,37,31,18,17,16,7,33,37,41,27,34,20,50,39,46,15,16,28,17,27,6,47,11,7,24,36,29,13,35,15,27,29,26,16,20,14,25,31,15,28,18,29,7,31,25,33,6,9,26,29,48,20,31,27,40,19,18,63,25,25,37,31,24,20,20,26,13,26,40,31,12,36,31,39,8,23,44,41,9,23,9,18,18,6,40,27,11,44,30,43,69,5,66,25,10,49,27,37,26,51,10,32,50,12,11,30,53,15,44,52,24,59,14,19,11,38,52,20,52,43,57,36,10,22,10,62,27,10,33,52,52,12,22,27,29,27,15,22,64,72,45,18,33,6,32,6,31,7,5,9,35,60,9,28,55,17,68,20,25,9,33,22,23,53,26,20,19,50,65,30,30,15,19,40,34,22,10,37,11,48,13,49,59,47,10,14,29,14,17,17,5,14,17,19,39,10,29,22,25,12,23,27,10,39,41,18,25,37,38,12,21,36,58,46,12,19,7,15,66,46,66,36,18,16,24,11,39,43,31,13,51,38,35,4,36,45,16,32,68,18,17,39,29,25,37,23,17,57,45,72,37,27,13,31,50,11,22,14,17,55,32,24,31,32,20,37,16,32,35,27,8,31,17,40,20,17,31,20,3,63,19,33,4,34,61,45,33,12,23,29,10,45,36,28,22,39,38,16,12,29,31,37,39,39,14,40,11,50,54,13,30,46,33,22,23,33,16,53,17,6,7,24,31,10,32,11,33,6,42,10,13,61,27,37,60,19,23,41,35,30,19,45,43,23,11,12,33,7,49,25,15,19,36,50,35,34,56,14,14,24,4,18,23,16,25,33,16,23,54,30,6,28,32,23,6,27,34,13,24,63,14,57,35,19,56,33,17,10,41,36,17,11,8,7,12,81,7,29,28,12,11,20,21,76,3,68,41,6,34,28,26,24,38,62,58,12,84,28,15,50,22,13,27,28,18,21,29,24,22,31,41,25,17,56,43,22,22,57,6,44,9,37,21,22,39,25,27,29,26,36,48,29,24,14,7,12,10,10,13,15,49,28,9,22,20,34,12,20,36,28,26,43,39,14,14,10,51,44,39,23,52,31,33,37,48,26,38,4,25,34,40,37,14,12,9,14,45,13,53,65,27,32,9,6,21,42,43,37,23,4,20,25,54,11,14,25,13,39,35,41,36,56,84,10,15,43,9,104,50,13,21,19,4,17,27,23,11,12,36,22,47,23,8,73,40,32,86,24,50,33,7,23,77,103,28,32,65,14,60,7,21,14,30,14,42,12,75,28,30,12,35,40,14,18,15,45,9,33,59,28,8,7,37,33,14,13,7,7,29,18,28,36,19,51,22,55,19,54,18,7,79,57,12,29,23,7,14,6,29,22,14,41,57,35,17,4,39,39,47,34,10,35,41,26,17,30,45,55,70,60,17,46,24,21,36,34,22,45,41,44,23,4,18,20,14,21,11,30,15,6,13,7,23,19,13,7,15,47,37,18,32,11,18,48,43,19,28,117,16,31,36,15,49,26,37,8,5,12,36,69,20,68,91,47,15,64,14,92,11,19,24,11,7,52,59,30,24,15,34,22,15,48,45,34,35,7,12,6,30,16,31,13,19,20,22,34,52,14,8,41,10,29,4,36,23,30,6,18,40,12,21,16,12,61,23,35,28,5,29,47,23,8,43,48,47,20,46,31,12,27,71,47,16,25,11,10,42,55,29,15,20,18,24,46,47,21,26,25,62,29,20,8,34,23,53,18,39,11,12,24,32,5,25,40,6,54,36,57,16,11,20,40,44,41,4,31,7,25,27,8,27,41,8,20,27,33,33,13,17,23,21,32,13,6,15,7,24,16,46,29,17,13,10,26,60,27,55,23,61,37,24,17,32,31,6,30,28,22,22,19,8,23,124,23,54,18,23,17,17,13,30,44,10,28,16,19,4,9,17,38,14,40,12,34,45,26,75,7,8,7,9,20,10,10,6,8,5,15,16,8,10,7,5,14,10,14,11,9,9,13,8,5,6,8,8,6,9,20,14,14,9,9,11,9,9,8,11,12,8,5,12,7,5,4,10,8,9,18,16,9,8,12,17,11,18,12,13,9,13,10,13,17,12,10,6,12,12,19,25,106,12,11,41,35,13,17,62,25,69,6,16,11,17,14,38,12,13,79,22,15,37,22,81,6,19,14,60,40,53,70,34,16,58,25,45,49,83,22,5,46,25,52,19,41,27,31,26,27,60,31,16,21,39,34,7,16,39,10,18,11,56,38,43,40,21,24,6,35,24,12,18,34,60,7,21,64,54,41,40,23,30,58,59,35,27,6,21,18,24,27,28,28,29,9,10,6,11,28,39,43,7,41,26,51,13,16,16,17,57,6,21,18,19,19,8,7,8,24,21,22,30,6,14,25,30,11,34,11,24,39,21,16,39,33,31,7,34,7,43,20,27,14,19,16,36,18,17,17,8,38,21,55,9,19,36,17,12,23,32,8,18,20,27,12,14,10,6,12,13,7,17,9,16,9,6,10,21,10,11,15,8,9,14,13,35,21,11,34,4,8,21,16,10,11,28,20,7,12,10,16,9,14,12,10,17,9,9,10,19,13,8,34,18,18,14,19,15,23,25,11,22,23,16,38,8,11,17,18,28,37,12,13,10,13,13,5,24,25,14,7,8,11,12,9,3,13,6,17,26,14,13,14,18,10,13,10,17,16,15,16,20,13,15,13,14,16,17,5,13,12,9,8,15,13,20,21,16,13,33,23,26,20,16,23,5,13,9,6,18,22,33,40,31,27,21,13,27,22,18,13,32,13,18,19,26,26,15,21,11,21,10,10,10,32,14,18,8,18,19,12,8,16,9,13,16,14,4,4,13,18,23,13,27,19,10,11,21,32,14,12,17,12,14,12,11,26,12,20,10,19,5,32,19,16,20,25,21,20,17,19,11,9,32,5,5,15,30,11,19,15,25,14,12,12,13,32,5,16,16,12,16,11,14,19,19,20,21,18,18,30,28,14,12,7,14,8,31,16,19,25,27,11,20,17,20,26,26,37,13,17,26,11,9,15,14,31,17,17,31,31,11,23,22,18,8,9,21,20,5,65,26,16,58,29,24,23,23,16,18,88,13,36,46,9,115,49,78,50,35,43,15,24,39,17,22,45,20,20,42,30,58,49,16,46,22,5,28,6,50,20,61,23,13,29,23,29,12,37,48,52,39,19,6,11,9,7,31,43,12,10,53,50,2,47,30,33,32,35,41,4,28,22,12,44,30,14,16,24,47,28,27,54,30,15,58,10,16,52,32,20,9,11,40,24,59,15,46,10,58,15,25,109,41,82,40,21,53,30,29,66,23,56,38,17,50,7,19,26,87,15,18,32,61,32,41,26,31,27,18,30,21,113,47,10,47,57,38,25,30,24,41,36,30,18,47,37,28,14,20,11,13,26,29,17,65,11,5,39,34,27,11,44,7,4,33,23,47,36,15,64,11,18,17,15,18,5,43,51,34,38,13,20,60,57,38,32,37,60,31,78,44,102,39,16,23,42,60,80,19,42,38,23,15,83,33,73,25,31,54,14,37,45,32,6,31,26,55,63,5,86,57,20,59,45,107,64,97,31,83,29,59,38,10,35,33,75,11,46,83,24,53,14,24,7,6,27,49,50,88,31,24,25,47,70,45,32,40,21,53,21,50,37,21,69,17,11,12,29,13,23,49,29,11,66,12,22,14,17,7,12,6,24,19,22,11,112,24,25,64,20,18,87,16,59,54,31,52,28,57,68,62,28,51,38,29,28,60,17,58,7,66,7,31,33,53,23,121,58,7,12,71,20,62,107,58,52,44,79,70,95,92,135,27,55,29,48,33,13,9,14,16,26,19,5,14,28,5,31,21,24,11,44,10,39,34,13,34,41,60,21,25,47,27,28,16,36,27,18,5,14,17,17,31,13,42,65,54,52,12,82,57,25,32,21,9,10,32,29,32,16,20,49,17,62,33,60,18,31,44,18,38,47,32,53,21,44,20,21,43,45,28,104,49,57,62,4,42,35,43,43,28,20,15,23,5,30,9,64,17,36,39,35,26,22,55,9,15,26,56,34,38,52,49,69,52,12,24,16,12,36,80,22,41,55,49,28,19,72,43,28,44,34,47,21,32,15,48,23,30,25,35,30,11,14,40,23,11,15,32,32,8,63,29,12,34,16,11,42,24,16,47,22,26,48,61,31,4,23,18,14,11,9,14,52,10,10,16,13,36,48,40,28,13,31,43,21,49,45,37,19,19,17,9,19,40,28,32,42,21,84,42,5,14,50,46,21,30,54,59,26,28,9,22,34,23,40,43,13,63,21,24,28,15,37,39,26,10,16,13,11,25,14,6,7,16,25,104,62,42,58,28,79,36,31,30,24,33,98,28,24,85,34,72,27,45,64,45,84,41,14,66,35,44,7,31,10,20,16,33,36,29,35,22,30,13,36,11,33,5,10,49,11,78,75,46,55,54,42,36,19,136,13,44,11,32,27,18,44,60,14,15,18,52,32,11,51,93,23,63,29,68,44,89,18,26,21,5,26,14,33,46,37,53,62,24,32,11,49,45,70,27,41,44,19,42,15,60,36,23,32,30,57,34,12,80,21,18,12,90,17,24,34,11,4,50,11,20,18,11,22,59,30,68,6,58,34,17,20,45,20,9,65,24,5,30,10,14,52,74,24,17,36,18,48,17,28,14,79,28,92,8,33,66,16,16,10,42,48,63,17,22,16,25,15,14,21,26,10,45,17,21,13,16,21,21,10,16,5,16,32,31,13,15,18,28,12,13,30,46,31,12,14,17,12,10,22,21,21,16,16,21,17,20,21,32,10,11,12,20,23,22,21,25,17,14,11,21,16,21,16,17,8,9,20,22,19,22,32,20,23,20,27,11,13,17,15,18,18,16,24,7,10,11,13,17,12,8,6,22,21,27,14,9,12,14,15,13,25,11,4,25,26,18,10,12,30,14,27,23,27,24,10,16,23,24,12,21,10,22,30,9,9,23,19,4,13,23,21,31,18,44,26,30,18,23,24,20,25,13,21,19,17,19,11,10,7,42,16,17,25,13,4,9,13,18,22,13,28,17,14,15,10,19,19,5,13,22,17,29,13,29,13,35,14,17,14,11,18,4,19,30,11,13,10,8,18,25,27,11,10,19,9,21,15,23,12,11,17,21,17,17,11,16,30,13,9,5,20,22,13,9,10,11,19,17,10,18,22,13,14,21,17,19,20,24,13,31,32,22,14,22,15,6,6,12,19,16,13,26,15,14,13,12,21,21,25,22,23,27,12,23,19,16,19,19,17,36,26,30,28,35,23,11,14,12,8,11,13,25,17,26,20,23,17,14,15,22,13,11,19,21,22,34,10,12,24,25,14,11,10,10,7,13,9,7,14,8,21,8,9,25,10,14,8,9,43,16,20,20,23,10,14,11,19,30,17,16,28,29,30,20,14,18,16,19,20,27,27,18,11,28,31,18,12,13,5,10,9,34,5,15,23,16,14,20,31,21,22,12,12,19,15,8,32,28,29,14,10,11,9,24,12,23,17,5,10,8,12,9,15,22,17,15,16,21,9,23,19,21,30,12,14,13,26,15,4,24,21,20,13,25,19,17,7,10,15,26,15,27,15,15,14,27,12,4,17,15,33,15,24,17,20,21,37,15,31,19,27,17,25,18,18,17,31,26,19,19,21,26,8,8,10,19,31,12,13,24,8,10,22,14,26,32,19,16,13,15,18,21,28,18,15,31,20,15,19,16,17,22,20,10,18,10,8,5,8,11,10,14,12,13,11,9,33,96,48,65,53,45,65,26,30,62,43,57,50,15,29,19,20,32,37,14,25,26,50,40,57,13,21,64,42,30,64,21,19,30,38,43,54,63,39,24,53,51,45,55,37,65,66,65,76,54,49,111,31,31,29,38,33,36,40,31,24,30,15,62,67,35,59,49,62,10,34,32,42,45,28,78,21,29,53,97,48,14,45,19,54,60,27,64,42,32,56,45,49,46,26,43,21,5,11,9,55,13,36,48,17,66,31,44,37,53,41,26,55,47,16,40,42,66,50,57,19,28,27,36,27,12,30,45,33,41,4,31,40,30,51,40,13,8,23,19,45,46,17,5,15,56,50,13,20,20,65,29,26,18,31,40,40,29,27,10,11,23,5,90,43,51,50,14,45,24,40,39,18,26,48,39,16,61,32,84,27,34,46,56,49,33,35,50,11,16,41,48,27,40,30,60,34,23,25,16,26,32,17,33,32,9,8,18,59,25,46,18,18,42,18,33,21,27,50,3,25,27,21,19,36,31,19,32,20,44,24,60,17,59,2,17,30,30,17,21,16,57,27,26,9,15,15,56,21,50,30,44,27,32,14,29,40,41,13,21,86,16,21,24,29,30,40,10,10,31,21,25,12,12,18,42,16,27,33,35,42,38,55,11,80,21,18,46,65,37,29,9,61,16,53,20,69,43,58,53,26,27,33,16,45,50,36,6,25,17,31,23,65,6,21,14,18,20,52,23,22,13,13,10,30,29,43,22,18,35,16,51,14,30,38,30,52,11,16,27,32,2,20,17,12,44,47,18,19,10,19,19,17,14,12,39,31,17,14,29,23,12,25,35,24,5,7,47,15,17,29,10,10,38,30,48,41,18,21,46,51,10,10,41,28,16,50,40,12,10,28,28,22,23,28,15,49,16,22,29,15,14,28,12,7,18,18,63,37,54,14,41,31,18,20,22,24,28,10,24,13,29,18,21,10,37,54,10,12,34,28,33,44,48,36,38,22,60,59,35,34,26,40,42,12,54,14,31,10,62,41,37,39,87,29,25,28,49,41,18,51,62,66,45,56,21,18,53,44,32,18,41,80,41,29,15,36,21,41,27,36,27,8,32,27,26,11,88,63,58,18,33,56,67,15,26,18,46,12,39,47,11,38,20,40,16,40,22,20,3,45,36,30,44,62,10,62,5,53,17,27,16,79,32,37,24,16,43,34,22,26,42,15,12,26,22,16,10,20,17,53,36,53,22,35,29,17,28,16,12,83,41,18,26,47,29,55,6,41,7,59,26,40,60,39,32,6,76,31,10,36,14,11,16,49,18,59,31,65,20,47,25,30,28,21,73,40,55,52,33,40,77,10,25,36,94,45,59,26,22,41,28,30,35,18,22,41,23,60,75,59,34,33,39,20,47,62,30,20,14,15,25,6,29,46,59,12,38,32,34,13,37,39,10,47,19,65,43,22,22,31,31,35,30,9,13,39,26,62,32,26,44,63,38,18,36,27,21,3,26,48,11,37,22,43,39,5,24,17,6,8,21,44,47,14,56,22,36,23,19,16,21,18,31,60,39,42,23,29,48,33,91,26,44,10,29,9,10,65,33,32,78,19,34,16,39,18,32,25,66,5,34,29,16,30,46,15,27,10,57,22,36,11,57,27,28,85,38,9,15,50,30,9,32,17,23,25,25,27,33,28,52,24,23,35,16,11,10,17,13,19,30,9,14,32,36,30,4,31,15,39,41,22,26,20,16,19,9,6,5,33,10,25,35,29,3,11,21,19,22,28,29,12,19,17,23,26,26,28,26,35,21,47,60,29,24,20,25,7,43,37,31,8,43,28,51,25,25,24,21,26,21,33,36,30,75,30,45,66,44,37,20,26,66,24,6,38,17,20,27,53,6,37,57,21,16,40,48,18,45,49,23,12,37,51,10,16,63,64,63,30,49,53,31,30,77,50,9,29,27,25,27,17,63,21,51,76,43,37,27,47,24,13,17,41,48,36,27,23,19,30,44,26,22,50,12,31,21,26,37,42,36,26,47,30,54,27,16,35,45,16,30,17,10,15,24,28,22,36,31,19,21,19,13,42,38,47,72,13,36,16,14,26,35,49,24,47,29,41,38,28,58,29,24,57,60,31,30,42,19,46,14,36,44,42,17,35,24,35,46,32,29,32,23,21,24,30,27,21,19,42,49,35,6,9,31,86,78,20,22,37,69,49,24,56,55,41,17,30,18,27,26,48,12,21,30,6,44,42,69,31,72,16,27,21,47,38,63,29,13,35,21,65,14,15,12,15,10,20,39,28,42,44,19,24,30,30,37,27,13,19,42,34,18,42,56,31,31,20,41,7,12,36,13,33,56,19,45,38,18,59,13,56,19,31,19,32,18,34,12,11,32,68,45,52,25,44,35,40,35,26,100,16,14,44,62,33,33,33,44,15,66,25,42,19,32,72,21,22,11,44,16,45,26,15,18,21,21,27,36,23,18,23,50,32,35,47,6,50,10,23,22,9,10,22,40,40,24,21,9,19,19,54,77,37,21,38,15,28,19,23,46,25,65,14,31,24,27,21,43,42,51,8,16,13,45,12,11,15,48,16,5,5,10,12,32,28,23,22,24,61,16,20,17,38,62,28,66,56,12,29,46,36,39,42,10,17,32,45,18,11,19,29,48,44,10,16,17,16,16,16,11,32,54,74,40,27,47,57,20,62,9,5,5,30,10,19,16,21,31,29,28,60,2,15,18,29,83,40,10,13,19,23,24,46,27,16,16,18,23,26,14,30,18,26,12,30,12,14,10,48,17,23,22,18,11,27,16,42,18,26,11,10,20,39,29,19,19,23,43,63,54,24,49,24,30,57,25,30,28,27,19,30,35,10,21,21,85,11,26,58,26,81,82,22,47,10,101,8,48,26,35,33,29,74,41,31,71,42,55,55,35,59,33,32,61,31,133,78,58,46,17,35,12,34,53,57,61,58,19,46,28,22,44,46,36,35,47,35,22,30,22,23,46,51,17,52,27,63,75,27,10,15,80,15,6,61,43,46,32,22,41,82,38,50,16,25,42,36,33,62,58,15,34,16,25,32,42,35,47,9,15,6,24,16,13,29,42,25,70,60,9,33,66,22,15,57,47,31,40,9,41,27,12,34,39,34,22,28,51,26,10,21,32,17,31,39,23,39,50,42,9,53,76,51,22,40,7,24,19,25,50,29,37,59,23,39,20,26,62,42,17,20,44,9,12,19,9,9,41,21,19,42,34,4,7,30,16,34,7,31,27,31,18,17,23,23,21,11,12,21,10,11,8,49,37,16,16,14,12,5,26,37,28,30,26,17,48,17,17,33,36,32,49,31,16,11,13,17,32,15,33,32,21,32,31,16,23,28,16,32,26,25,32,14,13,19,29,23,33,45,51,21,30,41,29,50,31,29,44,37,61,24,19,33,40,43,30,8,14,6,56,46,20,57,25,40,28,47,55,28,9,14,34,51,12,73,26,39,9,28,31,27,39,72,17,18,36,9,45,33,38,9,13,43,37,30,39,42,24,21,23,27,55,45,41,66,54,6,23,40,23,52,11,10,10,20,34,12,35,19,24,50,23,27,9,18,23,18,26,12,18,44,29,31,19,32,33,15,71,29,23,18,29,61,35,30,47,23,48,17,32,65,33,14,35,76,41,36,15,50,28,50,24,9,40,46,18,10,23,34,32,45,55,13,23,24,29,30,3,16,8,23,37,33,32,44,29,69,28,45,28,15,34,29,28,40,44,17,41,38,32,36,56,19,35,71,20,21,62,18,69,24,75,88,39,44,24,46,32,34,57,28,18,22,10,14,24,15,13,14,42,35,35,12,15,29,23,68,20,42,27,29,38,21,39,26,69,27,14,30,43,10,5,57,27,33,38,24,25,49,23,31,36,74,18,14,58,13,14,27,68,20,54,8,10,23,21,27,28,28,34,35,38,10,26,27,44,19,41,3,58,28,21,11,23,49,20,28,15,15,27,25,30,43,18,59,33,44,27,26,28,23,36,32,30,25,19,23,18,42,31,49,14,15,28,21,14,67,44,51,21,34,37,22,32,39,39,25,44,43,51,39,32,35,29,22,37,35,49,25,47,36,16,43,26,27,19,38,16,33,53,46,37,20,14,7,47,40,30,64,32,42,27,37,22,28,30,20,14,16,31,31,35,44,35,65,55,54,36,60,66,25,25,81,42,31,63,44,72,12,34,39,31,52,29,19,38,23,21,16,41,14,13,15,60,34,34,59,20,30,31,52,38,31,19,42,53,8,52,18,23,30,21,33,28,48,20,20,32,51,19,13,28,10,12,39,37,19,47,62,25,18,34,49,51,33,20,27,20,34,34,27,9,13,29,44,27,26,40,27,28,46,36,22,18,10,10,17,26,22,14,63,29,53,36,23,22,77,23,30,27,40,27,24,83,59,62,65,16,8,65,34,29,49,36,51,40,35,66,31,33,21,32,22,41,23,13,38,11,18,19,18,26,32,29,11,52,17,36,27,31,26,35,36,32,39,7,13,22,6,7,7,17,11,8,8,7,16,30,26,18,17,18,16,18,22,22,23,23,18,20,45,15,11,29,24,65,10,9,84,28,27,7,46,37,22,38,33,63,45,15,66,36,17,58,18,56,17,49,33,47,36,15,10,22,25,22,45,4,13,43,12,35,57,29,21,20,16,21,59,21,29,17,30,23,30,49,41,31,32,40,39,49,51,50,21,15,18,20,17,51,30,2,36,63,17,50,17,37,12,30,24,6,44,32,16,21,19,10,17,17,24,29,15,30,45,22,24,32,41,42,50,13,72,21,20,54,47,23,21,8,30,22,28,23,18,17,12,12,17,13,21,27,18,11,17,17,7,16,49,24,43,25,39,10,21,27,15,48,16,20,20,27,9,11,28,23,45,19,10,25,43,23,33,41,27,41,28,39,46,24,36,35,11,11,18,44,17,19,44,20,27,57,12,35,24,28,16,59,68,38,43,75,23,17,37,24,2,4,20,44,35,5,31,12,15,42,7,12,36,26,28,28,20,37,11,42,9,30,23,17,12,58,49,4,23,28,15,18,21,40,11,5,23,69,27,44,33,25,32,25,39,13,9,23,15,25,23,20,20,19,26,31,11,23,33,57,42,10,19,38,43,53,24,53,25,15,30,20,29,23,43,13,42,36,28,49,17,31,64,45,20,16,48,27,44,6,45,21,23,18,10,34,22,47,32,46,23,64,13,35,21,16,14,36,28,27,29,22,51,20,28,29,40,97,55,14,15,21,29,61,18,16,18,31,23,23,32,19,16,31,5,18,18,12,15,25,36,40,38,40,46,35,41,38,63,98,25,43,48,48,62,36,61,25,22,46,35,52,50,21,43,65,46,27,68,49,60,49,76,17,27,8,10,25,34,13,14,14,12,64,15,12,15,10,15,20,62,26,88,13,20,40,24,9,15,42,21,38,44,22,22,15,27,19,39,11,26,31,35,32,29,47,27,39,34,13,32,16,60,13,8,63,70,33,43,35,20,62,42,39,28,56,12,21,33,55,38,38,10,18,19,30,23,24,13,20,35,63,20,27,34,11,38,10,10,36,33,37,40,60,8,25,44,23,18,16,34,18,20,33,47,46,27,51,35,38,49,24,37,28,85,27,48,38,11,36,31,53,45,63,39,17,29,29,51,8,17,17,16,27,37,16,18,17,26,9,19,23,25,42,5,5,5,21,18,16,30,33,28,16,44,12,25,7,21,9,16,48,42,18,14,15,35,35,64,35,45,20,16,17,23,35,36,9,46,27,33,6,18,41,20,20,10,22,10,29,65,17,20,65,66,19,12,16,80,40,7,42,23,23,24,20,20,14,26,13,30,31,39,22,9,12,51,6,30,22,24,41,37,33,10,7,9,14,34,30,29,46,21,11,22,28,52,32,16,16,35,15,15,14,15,17,67,52,35,21,18,44,16,24,12,16,29,21,37,44,31,25,17,28,30,26,11,14,36,18,30,42,32,32,25,34,33,17,38,12,33,38,40,11,24,13,35,19,34,34,23,40,42,36,26,42,25,22,59,35,45,34,52,21,33,6,12,28,9,17,55,8,11,8,7,24,42,21,10,23,26,30,28,19,41,17,53,45,11,43,5,42,17,66,9,51,5,22,24,10,23,14,23,23,20,10,15,36,15,19,44,31,18,82,50,28,21,38,17,19,42,21,19,14,15,22,20,23,22,29,30,19,18,40,10,52,25,46,33,50,9,24,17,20,30,21,38,13,12,38,74,37,35,44,33,24,39,14,15,36,23,7,28,43,40,50,27,22,23,16,67,53,19,12,37,19,50,25,15,13,48,40,12,14,44,33,31,23,10,25,61,61,45,29,68,71,33,14,7,46,25,29,24,13,12,17,13,17,9,22,29,41,9,19,20,32,27,15,56,43,19,14,14,38,21,44,35,41,9,13,36,41,17,14,13,7,34,20,53,6,4,20,23,27,14,43,16,27,26,14,22,14,40,9,21,24,19,43,26,12,45,3,34,27,56,20,27,25,48,11,51,15,41,59,37,29,35,31,50,36,28,26,19,58,49,30,38,21,20,33,58,31,47,38,17,7,19,52,37,35,18,4,43,23,43,33,28,13,31,26,42,79,8,14,18,22,26,25,27,60,18,14,8,31,38,6,6,10,12,16,21,10,16,79,8,33,12,12,11,40,20,55,42,8,9,31,48,8,10,22,47,40,15,21,17,14,27,39,27,52,23,25,37,33,14,18,16,33,14,48,15,17,35,30,35,30,11,10,56,48,7,67,26,21,22,17,37,20,5,10,15,15,11,22,9,17,34,17,33,29,9,34,33,37,28,21,34,34,15,33,40,25,29,19,23,17,38,41,35,23,25,25,24,17,32,30,13,10,27,10,25,26,22,16,30,29,24,15,42,44,6,29,19,12,15,45,19,33,16,13,12,31,57,20,28,20,32,31,27,22,6,16,17,26,18,17,48,33,14,17,15,43,23,36,15,63,31,15,11,11,49,43,49,51,14,12,49,41,26,22,36,26,34,29,20,22,21,30,49,19,45,16,17,18,29,28,22,24,42,18,36,39,30,46,48,21,42,27,45,17,46,41,24,57,27,17,38,35,14,20,11,29,29,32,35,59,30,24,25,47,28,92,13,18,15,31,15,17,37,34,30,13,30,11,20,36,28,24,27,38,23,4,44,53,23,12,33,15,34,15,27,16,55,20,26,46,40,22,28,17,40,20,30,52,13,16,49,23,18,9,27,17,34,24,14,29,27,43,55,29,5,9,30,19,18,33,29,28,5,34,23,21,32,18,43,10,18,15,27,58,37,12,40,37,29,32,41,28,39,46,26,33,19,12,20,61,28,8,23,27,35,33,42,34,47,20,14,46,6,10,6,8,25,46,29,17,7,64,49,34,3,32,20,24,27,20,35,37,53,26,19,25,23,24,24,36,47,10,29,33,39,61,48,26,26,41,31,46,29,29,17,59,50,45,18,12,33,35,17,29,22,15,23,26,34,13,30,45,26,26,32,19,9,8,23,65,37,26,29,34,89,64,21,25,25,43,8,33,46,24,24,60,11,14,12,11,25,16,42,4,5,47,8,20,48,16,5,14,13,62,42,27,23,47,21,10,27,49,46,32,4,22,12,26,27,22,37,40,28,44,23,37,22,21,23,10,49,11,17,61,31,21,22,20,37,18,46,44,38,16,26,13,53,37,25,10,14,15,8,19,17,34,26,27,14,12,51,14,34,10,40,45,35,49,46,38,27,36,18,32,42,27,17,35,25,22,20,15,20,21,8,10,9,10,24,31,24,23,48,46,20,15,9,36,8,18,15,10,24,16,33,45,36,34,28,24,23,20,37,23,28,36,17,31,20,11,10,17,40,20,32,26,17,24,19,21,32,17,4,11,17,12,5,37,36,43,18,27,24,17,19,31,15,63,7,23,19,26,39,73,38,34,30,41,41,21,16,12,27,15,34,11,6,40,39,39,27,12,14,33,32,37,36,31,45,28,19,22,22,19,11,13,20,16,20,49,9,10,17,7,39,41,56,38,24,21,33,19,5,20,18,30,22,30,32,27,15,52,5,5,14,10,19,24,13,15,39,16,18,30,26,22,18,17,18,43,6,49,67,57,18,6,45,32,32,22,25,31,69,33,16,41,22,68,32,33,29,21,61,66,20,24,32,25,27,11,32,21,15,39,58,45,22,24,18,46,47,83,24,2,22,32,46,20,30,18,59,40,14,24,12,24,32,31,31,28,36,29,38,48,19,36,8,23,59,20,31,34,78,14,28,24,6,26,20,14,9,15,12,10,15,30,46,17,27,22,32,33,10,19,30,19,35,16,12,9,23,26,22,21,19,15,25,42,10,27,30,39,45,42,5,24,37,9,10,16,13,25,29,28,13,6,68,39,27,39,27,29,22,45,9,15,23,22,34,20,29,27,8,16,34,12,3,19,14,12,11,6,83,42,59,35,29,22,29,25,31,25,64,17,33,23,26,31,18,55,15,46,24,34,15,14,31,36,6,16,33,32,38,24,9,17,35,27,16,14,20,15,25,32,34,15,44,5,22,37,52,11,10,15,10,31,14,6,20,51,33,26,40,57,57,6,11,36,43,26,31,14,30,15,36,5,29,15,4,42,62,38,28,33,7,26,53,48,43,9,50,20,14,42,32,59,39,20,13,29,32,20,30,45,10,16,7,47,11,59,4,27,31,28,60,20,68,44,79,8,15,4,16,40,38,30,26,24,31,36,10,23,8,32,30,15,13,22,50,24,12,33,53,16,17,42,21,39,26,28,24,40,19,10,37,17,20,19,7,29,14,22,26,41,36,31,41,24,38,49,28,41,35,19,43,44,41,67,6,11,45,10,9,20,8,71,58,21,46,45,45,20,29,75,14,32,12,62,35,55,32,60,9,38,63,26,32,57,12,21,42,54,32,87,27,29,91,31,65,127,21,27,21,48,66,20,4,6,14,10,42,31,9,38,29,41,19,31,34,39,28,25,34,38,23,41,25,36,12,2,14,23,26,66,14,112,39,13,17,40,30,7,53,34,21,20,46,72,70,56,53,14,27,35,37,32,9,24,42,43,14,18,17,34,23,25,51,27,40,24,28,8,11,34,39,17,15,19,21,32,9,9,11,15,15,12,13,14,10,11,21,21,19,19,21,19,19,21,7,7,9,20,6,7,14,11,10,11,11,10,15,15,29,22,29,18,21,25,16,17,21,26,10,16,30,14,18,15,25,12,12,5,17,9,6,15,8,9,9,10,10,14,15,13,18,14,13,10,9,13,9,9,8,10,10,10,10,11,11,10,8,10,11,16,15,10,13,22,15,22,11,16,17,8,9,15,11,17,23,13,19,21,12,13,19,5,13,14,7,7,11,10,11,9,21,9,12,10,22,11,13,14,12,11,9,8,12,18,16,16,16,21,18,19,27,23,18,30,24,22,18,21,19,17,21,17,17,6,15,28,9,22,16,31,18,20,18,20,29,17,16,14,17,20,25,17,20,16,15,14,18,23,18,18,26,21,38,18,20,22,9,10,12,11,11,15,15,14,27,43,32,23,13,11,16,14,14,21,22,39,20,24,19,23,19,23,20,19,14,6,9,25,13,31,17,16,27,8,15,36,20,23,12,16,9,30,45,39,31,32,17,44,13,26,20,10,7,13,9,17,42,22,26,29,15,32,12,12,17,31,13,24,17,46,10,29,13,20,28,22,25,39,41,42,29,22,33,47,42,30,34,10,40,42,20,10,14,29,56,52,23,11,30,43,33,20,20,33,48,36,33,20,22,16,14,13,29,25,25,18,30,36,32,24,23,13,38,28,56,32,29,15,77,31,74,14,30,33,31,19,15,30,31,22,39,27,35,18,47,38,36,19,28,10,32,19,42,9,25,32,43,23,11,19,39,35,13,12,17,23,41,35,20,23,21,32,36,36,8,8,8,19,34,32,26,23,32,21,39,42,15,48,26,20,48,8,19,17,17,11,36,10,10,14,24,16,28,16,11,19,10,10,15,19,14,15,14,14,11,13,12,12,11,10,18,10,12,18,11,17,20,12,13,13,17,16,16,13,16,17,19,14,14,16,16,16,15,14,20,11,21,12,19,27,10,13,10,30,16,13,17,18,23,23,21,22,17,15,13,12,10,9,9,9,10,9,8,9,11,11,10,15,20,19,9,11,13,13,9,9,9,8,11,10,12,18,16,16,17,11,18,19,18,13,12,13,12,26,15,27,13,15,17,15,13,14,19,19,10,8,9,14,19,12,20,9,15,15,13,15,18,14,16,19,13,16,17,16,13,14,16,17,15,14,10,14,20,12,8,9,8,12,10,16,24,12,9,10,13,13,8,9,18,13,9,9,8,15,15,14,16,10,12,11,14,13,19,11,11,17,24,22,28,17,17,13,17,15,15,14,15,26,10,10,17,16,10,11,19,12,12,19,9,9,11,11,13,9,9,11,9,16,10,11,9,11,12,15,24,13,9,12,11,15,14,11,11,10,10,11,10,9,10,12,10,9,12,10,10,10,10,11,10,10,9,9,17,10,13,8,9,16,15,16,12,11,19,10,19,13,8,9,9,13,17,11,11,10,10,11,18,15,20,19,12,9,11,11,16,17,17,10,19,10,19,21,20,23,22,18,14,19,17,15,16,13,18,15,15,13,20,20,12,9,15,9,21,13,13,10,11,13,13,14,14,15,11,17,16,17,20,12,22,15,9,10,18,16,10,18,10,17,10,17,10,16,11,16,8,10,19,16,25,20,11,10,13,8,9,9,9,18,8,8,7,8,10,15,15,9,11,18,13,14,19,15,11,11,17,13,10,22,11,11,22,13,15,12,13,15,15,16,7,10,13,13,19,20,18,15,18,10,19,20,15,7,20,17,16,18,14,14,23,14,24,26,18,15,19,13,12,12,14,14,18,17,14,13,11,18,9,9,12,9,14,13,18,9,10,15,15,19,16,19,11,17,9,14,14,7,11,12,8,17,12,13,13,19,26,17,32,22,9,9,10,7,8,20,15,15,15,9,9,10,16,15,18,22,5,12,10,7,5,9,10,17,10,10,11,16,19,16,10,11,10,7,9,22,10,11,15,13,9,12,5,8,9,9,10,23,13,12,15,17,19,22,19,18,9,14,13,10,15,15,11,11,10,10,13,9,9,15,14,13,13,10,19,14,6,7,11,19,15,15,11,14,7,13,18,9,9,18,14,16,18,14,12,11,10,9,9,13,19,9,11,14,13,13,12,19,8,16,7,6,9,8,8,12,13,14,10,10,15,8,13,10,10,11,21,15,12,14,13,12,11,11,10,12,13,15,14,9,17,11,13,17,15,15,14,22,10,12,7,24,13,13,9,9,9,14,17,18,11,12,13,17,14,13,10,11,8,11,16,13,10,15,9,16,21,16,16,14,19,22,16,10,15,12,11,13,17,15,12,10,13,14,9,16,16,13,11,8,10,11,15,31,35,14,15,17,21,20,18,15,13,17,17,15,19,17,10,24,18,19,18,15,12,9,12,9,11,11,16,29,25,17,17,7,7,22,22,16,13,13,11,8,11,21,8,19,22,18,11,13,12,10,12,10,11,20,10,22,11,11,11,16,19,12,23,15,16,13,11,10,13,9,15,11,17,20,12,12,17,21,11,14,22,25,24,18,18,19,13,14,12,14,19,15,18,17,9,9,10,10,15,14,11,10,17,19,19,7,8,13,12,20,23,18,7,14,8,14,10,11,18,13,12,17,16,15,15,12,18,13,14,16,9,21,17,12,10,13,19,18,25,13,21,14,11,11,10,18,14,9,16,21,11,16,11,11,15,13,20,13,24,11,17,8,16,23,11,18,18,17,12,20,14,9,15,19,17,10,12,12,15,13,7,10,16,6,13,10,19,11,16,18,12,10,9,19,13,17,9,8,8,6,11,15,13,12,11,18,16,20,9,19,6,13,12,10,11,12,8,12,16,14,10,13,13,11,14,10,14,7,22,18,15,7,7,9,11,10,5,14,8,20,15,9,18,12,9,10,11,10,13,10,12,11,9,12,10,11,12,9,17,14,11,6,10,12,19,14,11,10,13,15,12,18,8,7,6,15,11,18,10,9,10,11,10,13,14,17,12,13,13,16,13,12,7,6,8,15,14,9,21,11,15,11,19,18,11,14,15,12,15,17,23,10,9,11,14,9,13,14,7,13,8,8,13,11,10,9,17,12,7,14,10,17,16,20,10,10,13,14,11,12,10,8,11,7,14,11,13,11,13,14,11,12,16,8,8,15,11,16,10,10,12,13,4,13,15,23,13,17,10,11,13,20,12,13,14,7,11,11,11,15,11,15,16,15,19,16,12,12,17,16,13,10,12,13,14,12,12,14,12,18,9,14,21,14,10,17,14,9,18,25,13,11,18,10,11,13,13,14,4,17,10,10,17,11,16,21,19,19,29,23,17,16,10,7,14,14,18,15,8,12,23,13,18,9,11,11,8,10,12,19,10,13,16,15,10,12,14,10,16,11,11,9,14,17,16,9,15,19,7,12,10,13,11,12,11,11,15,21,14,10,11,11,11,13,9,11,10,9,16,25,15,10,13,15,13,12,9,18,17,10,21,22,15,18,22,31,16,19,9,9,11,11,12,12,12,18,11,11,10,11,15,12,10,15,21,18,13,22,16,15,12,22,14,32,17,10,5,8,13,13,14,12,12,14,13,12,10,11,14,12,13,9,15,18,15,14,13,11,23,7,10,18,26,12,14,15,15,16,21,19,16,16,13,11,13,14,15,10,10,14,23,16,19,23,20,16,10,15,18,17,21,14,23,15,10,11,8,8,9,17,22,10,16,26,8,17,17,12,16,9,12,16,9,10,17,13,9,11,15,10,19,12,7,11,15,14,16,26,22,6,18,30,35,22,23,7,11,14,32,16,14,12,33,7,18,6,14,17,22,19,18,19,16,15,19,10,9,9,19,28,36,23,14,10,12,13,17,28,17,25,11,19,17,15,11,18,21,20,12,16,25,21,23,34,17,20,18,14,21,6,8,6,10,15,22,15,18,24,18,17,23,17,15,14,10,16,15,40,40,15,21,15,33,18,18,15,26,13,7,13,17,26,11,11,16,20,17,23,17,13,18,20,17,27,27,21,11,18,15,19,15,10,15,13,7,10,14,18,9,10,16,17,12,15,17,14,15,19,7,12,17,13,10,19,14,10,20,17,15,25,23,17,27,16,21,14,25,24,18,27,11,29,11,10,10,10,13,15,21,15,12,11,9,15,31,21,16,11,15,14,18,21,19,22,9,17,12,16,12,17,16,11,12,13,25,12,13,19,15,9,13,18,9,9,10,10,20,9,16,23,16,13,16,10,11,21,17,20,25,18,17,23,9,13,23,14,20,24,18,17,28,16,10,17,16,9,18,20,19,15,19,27,11,10,17,32,22,10,11,17,29,13,11,9,17,19,7,14,8,14,18,13,13,19,21,14,7,6,7,8,13,12,13,10,21,21,22,8,17,22,11,11,5,13,13,15,9,20,12,22,13,9,4,11,9,11,13,22,21,12,18,12,13,18,19,7,19,20,11,10,13,13,8,14,11,12,16,13,17,9,6,21,10,14,5,23,5,7,20,8,10,12,12,11,18,23,12,12,12,18,11,5,13,7,8,11,18,12,19,23,12,15,12,19,18,10,13,9,23,13,10,17,22,22,10,13,11,24,11,8,13,16,19,17,12,27,18,16,7,15,16,15,4,10,15,11,10,10,4,13,6,3,8,26,36,17,44,25,40,38,21,23,19,15,33,32,11,35,29,20,32,22,29,22,24,21,21,18,19,8,17,14,30,17,22,20,22,25,34,25,32,17,57,24,23,31,27,20,32,30,25,14,11,17,17,15,16,22,16,24,17,16,18,26,23,29,20,10,24,6,43,16,18,19,15,16,12,11,22,10,15,14,11,21,23,14,18,17,19,19,20,14,14,13,13,16,23,14,25,19,27,26,15,25,8,17,17,23,27,21,14,13,25,16,16,16,16,18,16,22,24,23,21,27,30,29,29,10,10,22,12,12,16,16,14,18,15,19,18,15,11,18,25,21,10,13,17,21,14,22,29,30,10,19,20,5,16,16,17,18,26,27,25,19,18,20,29,17,16,18,12,24,20,21,43,37,25,25,10,24,16,23,25,24,20,14,22,12,26,14,21,25,28,16,24,13,32,17,21,23,20,16,20,20,23,30,16,24,25,21,12,32,17,17,16,39,19,19,24,16,30,26,24,28,14,24,21,24,20,21,4,16,26,13,20,13,12,10,20,27,22,14,14,3,4,8,9,13,25,18,15,7,8,16,12,12,8,19,12,12,9,9,12,15,9,13,13,13,16,21,14,8,17,23,23,27,14,12,11,15,14,15,9,28,10,10,13,24,15,25,17,12,13,19,24,24,27,21,25,25,15,32,31,36,16,29,31,20,23,32,23,9,38,25,21,19,25,19,15,19,14,16,22,27,18,11,23,20,19,8,22,26,23,24,16,22,21,25,22,19,23,29,11,11,13,11,10,23,30,21,21,16,19,18,19,31,27,23,23,30,20,24,10,21,21,28,33,11,12,19,22,16,17,16,14,17,24,17,18,17,8,12,21,16,26,31,13,24,24,26,18,22,24,21,16,27,38,32,20,15,19,17,17,10,19,20,18,22,13,35,29,21,21,36,24,24,26,27,26,29,20,19,21,25,16,10,14,12,17,15,23,17,14,23,17,27,17,15,10,22,10,27,30,12,11,30,10,13,26,25,26,14,13,12,23,29,16,23,26,16,16,28,17,8,23,17,25,25,7,9,16,20,16,15,23,23,12,16,22,20,13,17,10,28,23,24,31,23,23,20,25,22,20,20,21,27,24,22,24,22,27,23,20,27,18,19,15,14,13,16,17,19,20,18,18,17,11,21,18,10,31,14,13,23,18,12,16,17,18,12,17,25,23,22,20,23,22,22,25,14,16,24,11,29,19,20,16,13,16,14,20,20,20,19,33,23,24,26,25,12,28,26,34,32,10,32,18,27,33,29,10,10,10,20,14,10,20,21,20,19,17,25,26,20,26,14,17,25,21,28,12,10,13,10,10,23,13,22,18,23,17,15,22,13,12,18,10,21,11,10,14,9,13,13,26,18,13,5,13,10,16,10,13,12,19,9,9,9,9,17,17,9,12,18,10,13,24,6,15,10,8,9,10,6,8,8,3,20,20,20,4,8,13,7,8,10,8,23,4,17,15,12,7,17,9,16,13,8,22,9,7,7,10,9,10,7,18,19,19,11,9,18,17,17,18,15,14,19,14,11,6,10,22,30,14,22,11,15,10,14,15,27,18,19,21,10,18,16,18,19,9,12,16,21,23,11,13,8,12,7,10,22,23,23,11,13,16,20,18,14,18,23,14,17,11,16,14,14,15,21,15,17,21,21,15,15,23,17,19,18,22,26,27,15,21,21,16,14,17,14,11,12,11,15,10,24,18,14,11,9,20,10,10,18,18,27,24,22,21,16,12,12,4,8,16,19,8,21,9,7,20,11,13,34,19,15,15,8,35,20,21,12,13,20,21,12,12,12,12,14,7,6,10,14,8,14,7,11,35,11,9,17,3,4,8,17,23,9,11,16,21,16,16,20,27,24,16,27,8,10,14,20,18,24,19,9,29,28,17,15,17,12,27,14,8,16,18,19,19,17,20,15,17,16,17,29,28,18,8,22,38,28,28,28,16,14,16,28,25,29,10,24,27,11,19,11,10,17,8,16,11,25,10,17,10,16,23,23,36,26,15,28,17,14,8,24,24,15,15,15,22,18,10,20,24,26,9,44,12,13,12,18,13,21,13,16,21,4,19,18,13,14,14,14,19,11,6,14,15,19,16,28,19,22,9,20,10,15,10,17,7,12,13,20,7,7,9,9,8,13,15,12,17,18,30,22,18,27,17,18,18,47,23,14,14,16,13,14,12,16,15,21,28,27,26,12,16,17,21,14,18,12,20,8,9,32,17,14,19,22,11,12,12,10,19,25,19,9,21,16,13,17,20,10,10,27,10,19,19,15,17,18,23,9,18,10,11,20,10,12,14,38,10,21,22,23,11,17,3,15,13,12,11,8,17,34,15,9,10,14,22,17,6,8,22,21,5,7,15,31,11,29,36,19,12,23,25,32,31,8,13,10,14,9,18,13,14,26,29,18,22,10,11,16,10,22,12,11,9,5,16,26,15,11,21,21,19,24,23,12,9,18,20,10,12,25,13,12,13,11,13,16,14,16,18,16,21,19,12,17,24,27,13,23,14,22,13,21,16,6,13,23,20,10,34,23,22,33,26,21,13,11,25,16,11,12,17,23,17,11,26,9,18,23,17,18,20,19,15,19,17,12,20,18,17,10,16,9,11,8,20,21,12,22,18,18,10,23,23,28,32,9,6,6,9,33,20,21,11,18,17,15,11,9,31,36,24,15,16,24,20,16,19,16,38,29,11,16,21,21,17,10,13,15,22,21,15,27,11,16,14,20,22,25,20,14,24,22,32,16,19,29,18,18,13,11,12,14,14,20,21,8,34,21,21,14,14,19,34,11,14,14,13,14,9,25,21,17,15,14,28,17,17,16,20,23,19,13,21,27,16,11,11,11,14,15,20,17,7,16,12,10,13,15,19,17,14,16,11,12,13,26,11,16,17,13,30,21,23,15,19,10,11,5,21,14,8,13,18,19,10,13,7,11,24,16,14,18,10,14,14,14,20,22,12,20,22,20,19,10,20,22,11,21,16,15,3,2,5,4,5,5,6,6,6,6,5,4,4,4,3,4,5,4,4,4,5,4,4,5,6,5,6,6,6,6,7,5,5,6,5,3,4,3,3,4,3,3,3,3,3,4,4,4,4,5,5,5,5,5,5,5,5,4,4,5,5,5,5,5,5,6,6,7,7,7,7,7,7,7,5,5,4,4,4,4,4,5,5,5,5,5,6,6,6,6,5,5,5,5,4,5,5,5,5,3,3,4,3,4,6,6,5,6,7,8,10,10,7,7,8,7,9,7,8,7,9,8,11,8,11,7,6,8,8,3,3,6,8,8,8,7,7,1,3,4,5,4,5,5,2,4,2,4,4,4,5,4,5,4,4,4,4,5,5,5,5,5,5,5,6,6,6,6,6,6,6,6,6,5,5,4,3,4,4,4,5,3,2,4,4,4,5,6,3,4,4,3,6,6,2,5,4,3,6,8,8,6,5,5,6,6,5,7,5,4,6,5,7,9,10,5,5,6,4,4,4,5,5,3,3,6,5,6,5,5,5,5,6,7,6,9,10,6,4,4,5,6,5,8,7,8,8,4,4,6,6,11,5,7,4,4,4,4,8,5,5,5,5,14,13,5,5,6,5,5,5,6,6,5,4,5,4,10,11,10,10,13,12,14,14,4,4,4,4,9,9,8,5,5,8,8,9,5,5,4,6,5,6,5,8,7,14,13,9,7,9,7,10,10,10,4,5,5,4,3,3,5,5,7,6,9,8,10,10,9,9,9,8,8,8,9,8,7,12,12,13,8,10,9,8,8,9,8,13,11,10,9,9,15,15,19,5,6,7,7,8,10,9,11,10,10,6,5,5,6,5,5,5,7,8,13,13,13,10,10,10,8,8,6,10,5,8,8,8,10,10,8,8,6,8,8,13,10,9,7,7,8,6,6,7,15,14,5,5,5,7,7,7,10,10,4,4,8,9,9,9,9,8,8,9,9,11,12,8,8,9,10,10,11,13,13,10,10,14,16,13,13,9,10,14,15,12,13,11,12,12,9,9,10,10,11,11,13,13,9,9,14,14,12,12,12,8,8,9,9,10,11,9,10,8,11,9,11,12,12,11,11,16,15,10,11,12,13,8,8,9,10,10,15,15,18,16,17,10,10,13,13,13,10,9,9,10,10,9,9,8,12,11,10,9,10,9,12,12,10,10,9,10,3,3,3,12,1,2,2,4,4,4,4,3,4,4,14,10,12,10,4,4,15,9,14,8,5,10,11,10,9,15,11,9,9,10,11,7,11,7,5,16,16,10,14,10,6,13,8,15,16,10,21,11,10,14,16,11,13,9,18,17,19,5,6,5,6,6,4,4,3,4,5,5,5,5,4,4,4,4,5,5,4,4,5,7,8,7,8,9,8,6,5,3,4,3,4,3,3,4,3,4,4,6,4,6,5,6,5,5,6,6,5,4,5,4,6,3,5,4,5,3,3,5,4,6,7,5,6,7,6,7,7,4,5,5,3,5,6,6,4,8,7,7,8,8,8,8,9,8,8,7,8,7,7,9,10,9,8,9,8,8,8,9,8,9,8,9,8,8,8,9,8,8,9,10,9,9,9,10,9,9,8,9,8,8,8,9,8,8,9,8,3,4,3,5,4,4,8,9,9,8,4,4,6,7,7,6,5,5,9,8,8,6,5,6,6,5,5,6,11,9,11,12,9,9,10,9,7,6,2,2,3,5,3,4,4,4,4,8,7,4,5,4,6,4,8,8,8,6,8,8,6,9,10,9,9,10,10,9,6,7,6,6,6,7,8,6,5,6,6,7,6,6,7,8,3,4,3,5,6,5,4,6,6,5,5,6,6,4,5,4,13,13,18,18,6,5,6,6,6,7,6,7,4,5,10,11,12,12,6,8,7,9,12,5,5,6,4,5,4,5,14,13,13,12,5,5,5,6,7,4,5,6,6,5,5,5,6,3,4,4,5,5,4,4,5,5,5,8,7,7,8,5,5,5,6,6,6,7,7,8,5,6,6,8,8,9,10,4,4,4,4,5,5,5,5,4,4,6,6,7,10,12,12,13,6,6,5,9,4,5,6,8,10,4,5,4,4,6,6,6,5,4,4,7,6,2,12,5,5,5,5,6,6,4,7,4,3,5,5,9,4,9,6,4,6,4,7,7,4,5,5,5,13,14,14,12,12,12,12,11,15,15,8,7,7,7,7,13,12,12,13,9,9,31,23,15,16,8,10,19,14,15,14,20,10,11,15,19,14,13,13,14,15,21,9,25,19,14,15,15,18,10,16,16,12,25,13,15,16,13,40,8,9,12,10,13,22,20,24,25,12,16,21,27,28,33,33,24,15,33,36,39,21,15,23,24,21,21,15,15,18,10,20,27,21,29,15,19,9,16,16,17,20,8,9,17,12,11,14,13,17,18,14,7,6,12,10,11,10,13,18,20,12,17,17,16,20,14,15,17,28,17,26,26,27,19,33,19,19,21,19,25,25,28,9,25,25,25,38,30,41,26,23,11,20,23,20,13,14,11,11,23,12,12,31,28,22,5,30,26,12,11,10,25,26,30,20,16,20,16,21,24,20,15,24,23,33,10,10,10,15,13,30,33,17,8,11,6,14,13,13,10,8,3,5,10,29,18,21,7,10,10,19,10,9,11,11,7,24,21,13,10,11,21,19,11,17,14,14,23,15,10,14,20,26,12,4,12,26,10,17,19,40,26,29,20,18,15,7,24,28,11,22,21,26,17,8,7,13,28,23,24,29,25,27,18,32,32,19,22,42,22,11,33,12,19,40,19,39,19,14,12,23,23,19,17,34,14,24,13,28,10,29,19,29,19,14,10,30,28,13,11,21,7,29,34,13,11,22,21,21,13,20,33,18,13,15,16,26,7,13,8,25,30,23,22,18,18,8,9,16,18,15,23,15,12,24,13,17,13,24,25,31,22,27,15,39,38,14,14,16,8,20,10,13,18,18,13,28,16,27,16,18,26,19,33,29,42,10,12,26,9,22,18,27,19,11,13,13,13,21,12,18,11,4,17,16,22,9,13,18,38,21,21,13,17,17,17,16,32,30,27,14,17,19,21,14,7,18,29,19,6,24,17,22,19,16,12,20,12,13,15,30,10,13,14,16,10,12,25,25,25,11,21,16,15,10,22,9,27,12,14,16,13,21,15,32,20,17,33,15,17,29,10,21,17,28,24,47,12,29,16,15,10,11,6,22,18,21,30,17,18,18,23,25,27,24,25,16,11,30,27,16,19,20,15,30,30,23,8,10,9,3,13,12,18,35,11,30,18,17,30,25,27,9,34,22,32,38,52,22,16,40,23,34,30,13,30,27,15,23,14,14,6,20,8,35,21,16,7,24,29,20,26,12,21,14,33,15,26,22,26,22,20,13,14,19,12,16,15,22,23,16,15,15,16,22,11,20,27,13,19,19,21,25,34,22,13,12,29,22,19,27,26,23,30,18,28,34,15,20,20,10,23,9,27,20,23,26,38,32,14,26,23,8,14,29,20,7,13,8,13,10,11,26,16,14,10,9,8,26,16,24,15,46,45,50,9,37,16,17,18,20,24,16,33,26,17,49,15,18,34,37,24,16,28,33,33,25,32,18,25,48,42,24,48,25,29,41,33,30,30,26,24,40,47,41,33,27,36,23,19,26,32,28,30,29,26,35,25,36,20,24,28,18,29,21,48,10,21,23,16,20,38,36,12,21,10,14,14,34,28,8,13,12,15,25,11,32,24,26,28,27,31,12,28,17,25,17,10,23,23,22,26,24,31,21,16,29,34,20,17,20,31,37,31,21,39,23,25,22,27,35,22,23,30,38,12,44,24,34,15,26,31,22,19,23,33,19,23,23,24,20,27,42,32,23,20,32,39,16,10,21,32,24,24,26,24,35,16,22,40,23,39,36,14,15,15,16,20,27,17,24,31,17,51,13,14,18,38,31,31,23,25,18,32,21,29,11,11,26,32,34,33,26,25,24,30,37,17,37,14,14,26,23,13,26,25,16,32,36,30,12,7,26,27,25,22,28,24,31,20,13,16,20,7,17,29,29,25,24,36,14,21,25,12,18,12,12,23,23,21,15,15,22,13,18,7,15,23,23,11,31,38,10,22,25,22,32,17,21,19,18,16,18,24,25,21,22,33,24,35,26,15,17,28,23,16,17,26,25,22,31,27,28,25,35,15,25,26,19,34,31,20,18,21,20,32,24,29,37,35,45,25,21,22,23,30,31,14,25,46,20,33,41,67,29,51,37,48,46,33,45,39,45,48,41,48,25,30,38,60,43,35,27,31,50,59,39,27,38,40,46,31,48,21,28,33,35,40,26,22,32,28,41,21,25,34,35,27,35,28,39,31,31,25,52,12,31,16,18,16,31,28,47,29,37,56,34,30,48,37,59,33,32,77,48,50,39,33,29,33,17,31,33,68,27,40,35,31,33,50,34,58,23,34,40,63,35,21,29,26,16,18,16,27,35,16,37,25,43,20,21,37,21,35,18,27,32,21,19,27,24,29,24,21,46,30,36,22,30,27,13,29,39,18,40,25,23,20,21,34,19,18,13,16,28,41,20,26,27,27,23,35,36,22,23,36,22,19,29,32,35,19,29,49,20,37,36,40,34,23,25,31,19,40,36,21,32,37,21,18,33,14,31,30,38,23,27,19,28,20,29,30,23,19,24,34,28,30,29,31,33,52,33,33,23,15,21,17,11,20,32,20,32,17,18,27,20,18,15,29,14,13,21,21,14,25,21,22,19,29,8,13,25,19,28,41,20,15,19,15,17,30,18,14,10,15,32,18,28,29,19,30,17,21,19,23,17,28,23,17,29,16,22,22,14,27,17,10,11,14,13,7,18,26,19,14,14,13,44,27,43,44,49,37,30,34,58,43,39,40,35,30,41,53,47,33,31,47,41,42,40,52,54,26,47,38,44,41,36,59,55,41,39,24,50,57,41,29,27,35,35,24,28,24,38,26,39,41,36,37,34,53,39,43,34,34,24,48,46,22,39,20,36,57,43,40,19,35,23,27,51,25,43,53,44,33,33,47,22,51,49,51,56,68,71,67,65,72,50,48,24,54,67,64,53,43,43,48,33,35,50,38,54,45,41,60,33,55,54,46,50,62,39,50,57,55,38,52,41,53,54,47,57,56,36,45,60,57,51,61,66,62,52,57,47,62,43,60,62,33,48,42,78,27,59,44,78,35,46,66,43,50,71,63,69,61,52,46,52,40,65,73,55,39,56,51,59,48,60,20,28,22,27,31,32,39,28,45,29,65,28,50,29,21,30,32,36,31,30,24,39,34,24,35,32,34,19,39,37,39,35,35,61,25,32,32,27,29,32,28,32,25,49,22,33,44,25,53,42,28,27,30,26,38,22,39,43,41,26,34,16,14,11,27,20,27,31,20,41,28,23,21,47,51,28,37,35,30,41,29,31,30,17,21,14,17,33,39,40,29,35,38,23,35,31,22,25,41,21,59,22,56,88,38,75,61,57,50,54,86,38,60,69,58,22,21,37,22,44,29,24,40,34,13,19,21,26,14,24,21,13,20,7,25,19,20,19,22,30,25,18,15,26,23,45,26,18,21,29,24,23,31,29,25,13,38,29,22,38,18,28,30,48,40,25,21,25,17,24,22,22,30,19,36,29,24,29,27,32,23,26,36,34,22,14,29,22,17,16,20,29,25,27,27,40,30,8,35,20,29,42,18,22,16,22,28,60,44,42,46,54,47,41,47,50,30,69,37,23,42,47,57,34,43,56,50,47,54,53,65,48,54,63,53,43,51,48,58,30,35,15,55,46,25,54,38,23,25,38,21,67,41,43,47,46,55,54,39,45,50,23,61,48,55,25,22,62,39,60,52,46,44,38,41,53,39,48,51,54,48,46,83,55,25,41,65,75,27,56,47,72,46,33,48,42,60,60,36,50,75,44,49,52,58,41,39,62,26,51,72,43,19,19,40,39,23,25,58,22,31,46,31,68,43,22,59,43,25,14,37,25,37,40,19,26,20,35,57,47,26,26,16,45,19,33,45,41,23,42,19,49,33,54,29,43,30,45,32,38,55,48,17,36,76,33,23,15,44,48,48,35,28,43,37,17,53,37,29,25,25,40,41,23,63,27,47,25,13,38,54,56,18,45,65,42,60,28,35,60,12,26,39,50,37,59,34,21,21,42,12,23,29,27],\"xaxis\":\"x\",\"yaxis\":\"y\",\"type\":\"histogram\"}],                        {\"template\":{\"data\":{\"histogram2dcontour\":[{\"type\":\"histogram2dcontour\",\"colorbar\":{\"outlinewidth\":0,\"ticks\":\"\"},\"colorscale\":[[0.0,\"#0d0887\"],[0.1111111111111111,\"#46039f\"],[0.2222222222222222,\"#7201a8\"],[0.3333333333333333,\"#9c179e\"],[0.4444444444444444,\"#bd3786\"],[0.5555555555555556,\"#d8576b\"],[0.6666666666666666,\"#ed7953\"],[0.7777777777777778,\"#fb9f3a\"],[0.8888888888888888,\"#fdca26\"],[1.0,\"#f0f921\"]]}],\"choropleth\":[{\"type\":\"choropleth\",\"colorbar\":{\"outlinewidth\":0,\"ticks\":\"\"}}],\"histogram2d\":[{\"type\":\"histogram2d\",\"colorbar\":{\"outlinewidth\":0,\"ticks\":\"\"},\"colorscale\":[[0.0,\"#0d0887\"],[0.1111111111111111,\"#46039f\"],[0.2222222222222222,\"#7201a8\"],[0.3333333333333333,\"#9c179e\"],[0.4444444444444444,\"#bd3786\"],[0.5555555555555556,\"#d8576b\"],[0.6666666666666666,\"#ed7953\"],[0.7777777777777778,\"#fb9f3a\"],[0.8888888888888888,\"#fdca26\"],[1.0,\"#f0f921\"]]}],\"heatmap\":[{\"type\":\"heatmap\",\"colorbar\":{\"outlinewidth\":0,\"ticks\":\"\"},\"colorscale\":[[0.0,\"#0d0887\"],[0.1111111111111111,\"#46039f\"],[0.2222222222222222,\"#7201a8\"],[0.3333333333333333,\"#9c179e\"],[0.4444444444444444,\"#bd3786\"],[0.5555555555555556,\"#d8576b\"],[0.6666666666666666,\"#ed7953\"],[0.7777777777777778,\"#fb9f3a\"],[0.8888888888888888,\"#fdca26\"],[1.0,\"#f0f921\"]]}],\"heatmapgl\":[{\"type\":\"heatmapgl\",\"colorbar\":{\"outlinewidth\":0,\"ticks\":\"\"},\"colorscale\":[[0.0,\"#0d0887\"],[0.1111111111111111,\"#46039f\"],[0.2222222222222222,\"#7201a8\"],[0.3333333333333333,\"#9c179e\"],[0.4444444444444444,\"#bd3786\"],[0.5555555555555556,\"#d8576b\"],[0.6666666666666666,\"#ed7953\"],[0.7777777777777778,\"#fb9f3a\"],[0.8888888888888888,\"#fdca26\"],[1.0,\"#f0f921\"]]}],\"contourcarpet\":[{\"type\":\"contourcarpet\",\"colorbar\":{\"outlinewidth\":0,\"ticks\":\"\"}}],\"contour\":[{\"type\":\"contour\",\"colorbar\":{\"outlinewidth\":0,\"ticks\":\"\"},\"colorscale\":[[0.0,\"#0d0887\"],[0.1111111111111111,\"#46039f\"],[0.2222222222222222,\"#7201a8\"],[0.3333333333333333,\"#9c179e\"],[0.4444444444444444,\"#bd3786\"],[0.5555555555555556,\"#d8576b\"],[0.6666666666666666,\"#ed7953\"],[0.7777777777777778,\"#fb9f3a\"],[0.8888888888888888,\"#fdca26\"],[1.0,\"#f0f921\"]]}],\"surface\":[{\"type\":\"surface\",\"colorbar\":{\"outlinewidth\":0,\"ticks\":\"\"},\"colorscale\":[[0.0,\"#0d0887\"],[0.1111111111111111,\"#46039f\"],[0.2222222222222222,\"#7201a8\"],[0.3333333333333333,\"#9c179e\"],[0.4444444444444444,\"#bd3786\"],[0.5555555555555556,\"#d8576b\"],[0.6666666666666666,\"#ed7953\"],[0.7777777777777778,\"#fb9f3a\"],[0.8888888888888888,\"#fdca26\"],[1.0,\"#f0f921\"]]}],\"mesh3d\":[{\"type\":\"mesh3d\",\"colorbar\":{\"outlinewidth\":0,\"ticks\":\"\"}}],\"scatter\":[{\"fillpattern\":{\"fillmode\":\"overlay\",\"size\":10,\"solidity\":0.2},\"type\":\"scatter\"}],\"parcoords\":[{\"type\":\"parcoords\",\"line\":{\"colorbar\":{\"outlinewidth\":0,\"ticks\":\"\"}}}],\"scatterpolargl\":[{\"type\":\"scatterpolargl\",\"marker\":{\"colorbar\":{\"outlinewidth\":0,\"ticks\":\"\"}}}],\"bar\":[{\"error_x\":{\"color\":\"#2a3f5f\"},\"error_y\":{\"color\":\"#2a3f5f\"},\"marker\":{\"line\":{\"color\":\"#E5ECF6\",\"width\":0.5},\"pattern\":{\"fillmode\":\"overlay\",\"size\":10,\"solidity\":0.2}},\"type\":\"bar\"}],\"scattergeo\":[{\"type\":\"scattergeo\",\"marker\":{\"colorbar\":{\"outlinewidth\":0,\"ticks\":\"\"}}}],\"scatterpolar\":[{\"type\":\"scatterpolar\",\"marker\":{\"colorbar\":{\"outlinewidth\":0,\"ticks\":\"\"}}}],\"histogram\":[{\"marker\":{\"pattern\":{\"fillmode\":\"overlay\",\"size\":10,\"solidity\":0.2}},\"type\":\"histogram\"}],\"scattergl\":[{\"type\":\"scattergl\",\"marker\":{\"colorbar\":{\"outlinewidth\":0,\"ticks\":\"\"}}}],\"scatter3d\":[{\"type\":\"scatter3d\",\"line\":{\"colorbar\":{\"outlinewidth\":0,\"ticks\":\"\"}},\"marker\":{\"colorbar\":{\"outlinewidth\":0,\"ticks\":\"\"}}}],\"scattermapbox\":[{\"type\":\"scattermapbox\",\"marker\":{\"colorbar\":{\"outlinewidth\":0,\"ticks\":\"\"}}}],\"scatterternary\":[{\"type\":\"scatterternary\",\"marker\":{\"colorbar\":{\"outlinewidth\":0,\"ticks\":\"\"}}}],\"scattercarpet\":[{\"type\":\"scattercarpet\",\"marker\":{\"colorbar\":{\"outlinewidth\":0,\"ticks\":\"\"}}}],\"carpet\":[{\"aaxis\":{\"endlinecolor\":\"#2a3f5f\",\"gridcolor\":\"white\",\"linecolor\":\"white\",\"minorgridcolor\":\"white\",\"startlinecolor\":\"#2a3f5f\"},\"baxis\":{\"endlinecolor\":\"#2a3f5f\",\"gridcolor\":\"white\",\"linecolor\":\"white\",\"minorgridcolor\":\"white\",\"startlinecolor\":\"#2a3f5f\"},\"type\":\"carpet\"}],\"table\":[{\"cells\":{\"fill\":{\"color\":\"#EBF0F8\"},\"line\":{\"color\":\"white\"}},\"header\":{\"fill\":{\"color\":\"#C8D4E3\"},\"line\":{\"color\":\"white\"}},\"type\":\"table\"}],\"barpolar\":[{\"marker\":{\"line\":{\"color\":\"#E5ECF6\",\"width\":0.5},\"pattern\":{\"fillmode\":\"overlay\",\"size\":10,\"solidity\":0.2}},\"type\":\"barpolar\"}],\"pie\":[{\"automargin\":true,\"type\":\"pie\"}]},\"layout\":{\"autotypenumbers\":\"strict\",\"colorway\":[\"#636efa\",\"#EF553B\",\"#00cc96\",\"#ab63fa\",\"#FFA15A\",\"#19d3f3\",\"#FF6692\",\"#B6E880\",\"#FF97FF\",\"#FECB52\"],\"font\":{\"color\":\"#2a3f5f\"},\"hovermode\":\"closest\",\"hoverlabel\":{\"align\":\"left\"},\"paper_bgcolor\":\"white\",\"plot_bgcolor\":\"#E5ECF6\",\"polar\":{\"bgcolor\":\"#E5ECF6\",\"angularaxis\":{\"gridcolor\":\"white\",\"linecolor\":\"white\",\"ticks\":\"\"},\"radialaxis\":{\"gridcolor\":\"white\",\"linecolor\":\"white\",\"ticks\":\"\"}},\"ternary\":{\"bgcolor\":\"#E5ECF6\",\"aaxis\":{\"gridcolor\":\"white\",\"linecolor\":\"white\",\"ticks\":\"\"},\"baxis\":{\"gridcolor\":\"white\",\"linecolor\":\"white\",\"ticks\":\"\"},\"caxis\":{\"gridcolor\":\"white\",\"linecolor\":\"white\",\"ticks\":\"\"}},\"coloraxis\":{\"colorbar\":{\"outlinewidth\":0,\"ticks\":\"\"}},\"colorscale\":{\"sequential\":[[0.0,\"#0d0887\"],[0.1111111111111111,\"#46039f\"],[0.2222222222222222,\"#7201a8\"],[0.3333333333333333,\"#9c179e\"],[0.4444444444444444,\"#bd3786\"],[0.5555555555555556,\"#d8576b\"],[0.6666666666666666,\"#ed7953\"],[0.7777777777777778,\"#fb9f3a\"],[0.8888888888888888,\"#fdca26\"],[1.0,\"#f0f921\"]],\"sequentialminus\":[[0.0,\"#0d0887\"],[0.1111111111111111,\"#46039f\"],[0.2222222222222222,\"#7201a8\"],[0.3333333333333333,\"#9c179e\"],[0.4444444444444444,\"#bd3786\"],[0.5555555555555556,\"#d8576b\"],[0.6666666666666666,\"#ed7953\"],[0.7777777777777778,\"#fb9f3a\"],[0.8888888888888888,\"#fdca26\"],[1.0,\"#f0f921\"]],\"diverging\":[[0,\"#8e0152\"],[0.1,\"#c51b7d\"],[0.2,\"#de77ae\"],[0.3,\"#f1b6da\"],[0.4,\"#fde0ef\"],[0.5,\"#f7f7f7\"],[0.6,\"#e6f5d0\"],[0.7,\"#b8e186\"],[0.8,\"#7fbc41\"],[0.9,\"#4d9221\"],[1,\"#276419\"]]},\"xaxis\":{\"gridcolor\":\"white\",\"linecolor\":\"white\",\"ticks\":\"\",\"title\":{\"standoff\":15},\"zerolinecolor\":\"white\",\"automargin\":true,\"zerolinewidth\":2},\"yaxis\":{\"gridcolor\":\"white\",\"linecolor\":\"white\",\"ticks\":\"\",\"title\":{\"standoff\":15},\"zerolinecolor\":\"white\",\"automargin\":true,\"zerolinewidth\":2},\"scene\":{\"xaxis\":{\"backgroundcolor\":\"#E5ECF6\",\"gridcolor\":\"white\",\"linecolor\":\"white\",\"showbackground\":true,\"ticks\":\"\",\"zerolinecolor\":\"white\",\"gridwidth\":2},\"yaxis\":{\"backgroundcolor\":\"#E5ECF6\",\"gridcolor\":\"white\",\"linecolor\":\"white\",\"showbackground\":true,\"ticks\":\"\",\"zerolinecolor\":\"white\",\"gridwidth\":2},\"zaxis\":{\"backgroundcolor\":\"#E5ECF6\",\"gridcolor\":\"white\",\"linecolor\":\"white\",\"showbackground\":true,\"ticks\":\"\",\"zerolinecolor\":\"white\",\"gridwidth\":2}},\"shapedefaults\":{\"line\":{\"color\":\"#2a3f5f\"}},\"annotationdefaults\":{\"arrowcolor\":\"#2a3f5f\",\"arrowhead\":0,\"arrowwidth\":1},\"geo\":{\"bgcolor\":\"white\",\"landcolor\":\"#E5ECF6\",\"subunitcolor\":\"white\",\"showland\":true,\"showlakes\":true,\"lakecolor\":\"white\"},\"title\":{\"x\":0.05},\"mapbox\":{\"style\":\"light\"}}},\"xaxis\":{\"anchor\":\"y\",\"domain\":[0.0,1.0],\"title\":{\"text\":\"Darija (arabic script) Sentence Length\"}},\"yaxis\":{\"anchor\":\"x\",\"domain\":[0.0,1.0],\"title\":{\"text\":\"Count\"}},\"legend\":{\"tracegroupgap\":0},\"title\":{\"text\":\"Distribution of darija (arabic script) sentence lengths\"},\"barmode\":\"relative\"},                        {\"responsive\": true}                    ).then(function(){\n",
              "                            \n",
              "var gd = document.getElementById('593697c4-ec2c-41cc-8a7e-9e195b194211');\n",
              "var x = new MutationObserver(function (mutations, observer) {{\n",
              "        var display = window.getComputedStyle(gd).display;\n",
              "        if (!display || display === 'none') {{\n",
              "            console.log([gd, 'removed!']);\n",
              "            Plotly.purge(gd);\n",
              "            observer.disconnect();\n",
              "        }}\n",
              "}});\n",
              "\n",
              "// Listen for the removal of the full notebook cells\n",
              "var notebookContainer = gd.closest('#notebook-container');\n",
              "if (notebookContainer) {{\n",
              "    x.observe(notebookContainer, {childList: true});\n",
              "}}\n",
              "\n",
              "// Listen for the clearing of the current output cell\n",
              "var outputEl = gd.closest('.output');\n",
              "if (outputEl) {{\n",
              "    x.observe(outputEl, {childList: true});\n",
              "}}\n",
              "\n",
              "                        })                };                            </script>        </div>\n",
              "</body>\n",
              "</html>"
            ]
          },
          "metadata": {}
        },
        {
          "output_type": "display_data",
          "data": {
            "text/html": [
              "<html>\n",
              "<head><meta charset=\"utf-8\" /></head>\n",
              "<body>\n",
              "    <div>            <script src=\"https://cdnjs.cloudflare.com/ajax/libs/mathjax/2.7.5/MathJax.js?config=TeX-AMS-MML_SVG\"></script><script type=\"text/javascript\">if (window.MathJax && window.MathJax.Hub && window.MathJax.Hub.Config) {window.MathJax.Hub.Config({SVG: {font: \"STIX-Web\"}});}</script>                <script type=\"text/javascript\">window.PlotlyConfig = {MathJaxConfig: 'local'};</script>\n",
              "        <script charset=\"utf-8\" src=\"https://cdn.plot.ly/plotly-2.35.2.min.js\"></script>                <div id=\"e4df8598-c064-458d-a518-f753ec8098b8\" class=\"plotly-graph-div\" style=\"height:525px; width:100%;\"></div>            <script type=\"text/javascript\">                                    window.PLOTLYENV=window.PLOTLYENV || {};                                    if (document.getElementById(\"e4df8598-c064-458d-a518-f753ec8098b8\")) {                    Plotly.newPlot(                        \"e4df8598-c064-458d-a518-f753ec8098b8\",                        [{\"alignmentgroup\":\"True\",\"bingroup\":\"x\",\"hovertemplate\":\"english_length=%{x}\\u003cbr\\u003ecount=%{y}\\u003cextra\\u003e\\u003c\\u002fextra\\u003e\",\"legendgroup\":\"\",\"marker\":{\"color\":\"#b963fa\",\"pattern\":{\"shape\":\"\"}},\"name\":\"\",\"nbinsx\":30,\"offsetgroup\":\"\",\"orientation\":\"v\",\"showlegend\":false,\"x\":[35,47,39,51,26,27,17,21,32,51,46,22,49,23,57,48,51,16,25,43,27,27,9,44,10,7,19,51,41,14,39,16,37,31,25,18,19,25,38,34,16,33,27,37,10,32,24,58,14,10,36,35,52,19,40,30,51,6,34,62,31,25,35,35,29,24,24,30,16,34,40,50,10,41,35,41,9,29,41,42,11,31,15,27,17,6,38,33,16,47,33,54,80,12,68,30,18,55,47,44,38,41,13,47,61,13,15,33,60,23,62,50,29,63,16,25,14,37,63,17,52,54,49,46,11,32,9,68,25,18,29,60,62,14,26,23,35,35,28,28,55,74,69,21,45,8,51,15,50,10,8,10,38,92,10,36,72,24,70,26,37,7,36,24,38,45,36,28,28,48,77,42,33,33,17,59,33,27,11,39,9,56,11,76,54,52,9,16,21,23,24,19,10,18,25,20,53,11,43,34,31,12,17,46,9,42,66,20,18,36,46,22,34,49,61,55,15,16,5,18,70,69,71,37,28,10,24,13,55,44,49,15,61,41,44,6,43,58,22,36,77,22,22,51,31,28,46,20,27,77,56,73,54,32,21,34,45,11,26,15,16,62,41,31,34,40,23,33,20,42,37,34,11,32,18,47,27,20,30,21,6,93,26,36,4,33,56,46,44,10,28,34,18,54,44,34,28,62,43,18,15,45,30,53,42,38,21,45,12,54,73,16,36,40,34,28,29,37,23,52,22,12,12,31,26,14,34,8,45,7,39,15,19,59,20,33,71,35,31,50,30,40,20,55,52,30,15,13,40,8,51,26,15,24,38,50,41,33,69,20,24,21,3,23,31,18,36,43,15,31,68,23,10,32,58,34,11,30,35,17,32,72,19,84,48,22,45,31,27,11,52,33,21,19,12,8,17,73,9,34,29,23,25,21,31,64,6,65,43,6,55,29,40,33,71,85,68,13,83,27,17,65,31,20,20,27,14,32,48,25,22,31,55,32,27,54,50,32,37,67,6,44,10,38,27,27,48,38,49,30,40,34,44,36,27,24,12,12,14,15,13,13,64,28,10,33,33,36,13,23,35,43,26,54,49,17,28,10,39,70,39,29,64,50,36,46,53,20,42,6,22,31,57,34,19,14,13,20,56,11,69,82,26,27,17,11,29,33,64,43,32,5,20,36,76,17,29,42,17,41,43,57,37,54,115,18,19,61,11,95,77,16,24,25,3,15,33,26,14,11,35,21,55,27,16,80,49,24,82,26,63,51,8,27,82,99,45,40,69,18,80,8,38,29,43,35,44,15,81,44,28,15,27,41,29,16,30,44,9,46,65,31,9,7,41,30,13,12,8,10,33,19,35,44,28,62,15,54,26,62,22,13,88,64,17,37,16,7,18,20,48,21,23,46,68,40,25,10,30,41,70,38,15,50,47,34,24,31,46,51,76,64,16,67,23,30,41,44,31,48,44,40,32,7,24,28,10,29,14,39,9,10,13,3,28,25,16,10,18,57,53,19,29,16,19,56,51,17,41,127,21,40,60,21,64,46,33,13,5,13,42,80,23,59,81,45,19,83,13,115,18,28,31,12,10,59,72,32,27,24,34,20,20,39,63,25,29,12,13,10,42,16,38,12,30,31,29,37,65,11,9,49,15,50,5,29,29,32,12,18,36,15,24,26,14,57,23,49,39,3,28,53,35,12,50,47,54,18,49,26,17,31,77,55,15,30,16,15,53,68,21,20,20,24,31,57,55,23,27,45,54,34,25,13,55,37,64,20,38,14,18,20,32,5,29,52,7,67,44,73,16,20,39,53,46,46,3,48,8,21,34,18,39,59,10,29,31,33,39,12,21,18,21,37,14,9,15,10,29,19,50,23,26,14,18,26,72,25,73,37,78,40,21,22,32,30,13,29,27,25,32,29,10,31,133,22,50,19,22,30,30,15,34,39,9,30,21,23,4,8,25,39,18,47,13,36,62,32,78,20,20,19,16,17,9,11,13,19,7,13,20,20,19,10,10,15,10,18,13,9,9,12,13,9,17,14,14,8,17,17,14,11,10,10,14,13,19,12,10,18,10,14,14,12,10,10,12,12,13,20,8,11,12,16,19,9,13,13,11,8,9,10,8,20,15,15,3,16,17,17,41,137,17,12,50,38,7,28,83,30,74,6,17,15,19,14,35,20,13,100,21,13,42,34,79,6,32,23,78,41,56,91,31,16,71,33,35,52,91,26,3,61,23,46,25,38,28,30,20,30,58,30,23,27,49,38,4,16,44,18,15,9,65,40,44,50,26,20,5,41,37,22,21,30,61,8,33,85,71,53,59,30,53,71,80,38,31,7,23,22,29,20,27,32,24,17,15,13,13,33,46,45,6,60,19,59,20,19,18,20,57,7,27,15,22,27,10,11,12,30,15,21,26,5,17,28,40,18,43,14,30,57,26,15,50,53,43,13,33,12,44,32,35,21,27,17,54,31,20,19,7,48,26,58,8,18,48,20,13,28,30,10,18,29,34,11,17,19,9,9,21,7,16,10,18,11,6,16,26,15,15,23,15,16,26,11,39,22,17,41,6,10,26,20,8,12,29,15,10,15,14,20,8,25,18,18,18,9,10,11,17,12,11,36,27,17,18,21,15,22,34,21,27,38,21,58,13,12,21,20,22,34,14,9,13,12,12,7,25,30,20,10,11,16,15,12,4,13,7,21,20,14,13,19,16,13,11,9,15,15,14,15,27,21,16,17,17,22,22,6,17,20,16,16,17,17,24,20,26,13,45,26,27,24,23,39,9,18,17,17,23,18,40,36,28,39,22,18,35,28,23,20,27,20,31,17,16,28,19,29,8,22,22,9,10,43,20,29,19,23,23,17,17,21,7,19,20,18,5,8,15,28,23,18,34,29,21,21,26,31,25,20,24,19,19,22,16,29,11,26,10,23,14,34,32,20,26,28,23,23,28,19,12,8,35,10,12,19,34,13,25,22,18,17,20,20,25,31,7,15,26,20,29,13,19,17,28,33,26,29,31,33,31,18,19,11,26,7,30,15,21,29,26,17,30,25,22,32,30,44,18,20,23,14,6,25,14,41,26,26,38,43,12,27,31,21,11,10,21,28,10,79,35,11,81,38,31,36,26,19,32,100,17,35,60,10,119,61,102,46,33,46,20,47,51,16,33,55,23,27,50,41,62,57,28,61,26,9,29,7,82,31,84,32,10,41,22,47,7,39,41,53,39,31,10,11,11,13,51,58,11,16,69,62,3,39,27,34,28,46,56,10,30,23,11,56,36,21,21,22,58,32,41,44,32,30,81,17,22,73,35,28,7,10,61,24,68,24,53,17,75,26,25,117,38,72,53,25,67,32,29,75,24,52,49,20,51,8,21,29,108,16,28,36,77,48,47,35,38,45,28,37,25,129,43,18,57,61,43,27,38,40,49,33,32,22,57,38,39,21,20,26,22,23,25,20,64,11,5,27,38,33,20,47,8,4,47,27,53,49,24,71,21,16,20,15,22,5,45,62,21,48,12,16,60,59,47,36,46,73,31,83,46,110,58,23,30,34,73,87,29,47,55,30,26,88,33,86,39,34,53,16,50,58,38,7,45,32,55,65,13,91,69,14,55,37,106,73,98,34,86,35,82,41,20,41,32,78,22,36,102,27,62,18,36,12,7,24,74,42,98,46,31,24,54,82,83,33,40,30,55,21,61,42,25,70,18,10,14,36,19,25,53,31,18,58,20,26,29,22,12,17,6,22,23,20,21,135,30,30,63,28,26,99,16,67,92,43,71,24,84,54,75,33,47,32,37,35,63,23,73,8,64,8,34,40,68,31,139,60,14,17,72,23,78,144,80,64,52,88,64,93,105,188,54,84,42,63,50,15,11,17,20,39,16,5,19,24,3,29,29,31,10,55,26,50,50,15,34,50,59,26,31,66,33,44,20,55,31,31,10,22,22,23,37,11,43,67,52,80,15,78,65,33,34,33,12,15,35,33,44,24,24,62,24,57,36,56,27,42,51,23,42,52,38,62,26,46,24,16,43,40,38,128,62,68,62,4,55,49,40,54,44,23,16,22,10,27,14,62,30,41,53,38,44,30,50,14,28,23,66,43,41,81,66,96,68,13,16,18,11,40,80,33,43,37,58,27,25,86,44,26,42,35,40,25,43,16,47,25,39,34,42,50,16,25,37,20,16,21,42,34,7,63,40,18,44,18,11,51,31,20,44,21,28,57,59,33,12,38,10,10,20,6,12,54,11,10,24,19,36,63,61,17,11,25,46,23,57,61,50,37,22,24,16,30,42,35,43,51,19,105,37,3,14,42,46,26,33,70,64,33,34,11,27,46,46,31,38,18,82,28,20,26,31,42,37,30,13,26,16,11,41,24,5,9,20,33,110,52,56,65,34,107,39,35,23,28,36,134,42,22,97,49,86,32,44,74,57,100,43,24,75,44,42,15,33,13,22,22,34,49,36,40,25,43,17,41,12,46,5,8,50,22,77,92,64,78,65,64,38,20,142,9,52,17,38,19,20,51,64,11,18,17,51,38,9,53,109,23,72,44,77,63,96,22,30,23,6,34,20,26,42,33,70,78,36,39,10,54,41,65,22,39,43,30,53,22,51,41,30,29,43,55,20,20,83,19,26,16,97,22,31,38,18,10,56,10,26,20,20,26,58,30,77,9,59,37,33,19,45,39,14,70,36,7,31,14,14,45,89,23,22,48,20,46,17,23,20,93,32,125,14,39,93,15,25,12,43,70,60,18,22,18,25,25,25,30,34,19,39,18,17,18,16,32,34,21,26,9,21,29,33,15,16,21,30,16,22,41,65,38,22,29,27,16,10,31,29,34,26,32,27,17,28,21,39,15,25,16,22,21,27,19,26,24,20,21,21,23,21,28,26,10,15,31,22,26,28,39,29,30,32,43,24,16,26,17,21,25,19,24,6,12,13,16,18,15,8,10,24,28,36,24,16,12,20,25,21,36,17,6,31,27,28,15,19,29,18,38,30,33,22,18,23,26,27,22,23,17,28,42,18,15,21,27,13,24,28,25,32,16,49,31,26,31,21,38,21,34,16,25,23,19,25,17,17,14,36,20,24,30,15,9,16,10,21,32,16,35,24,24,24,10,30,27,14,14,32,30,22,16,30,16,31,13,20,21,13,28,10,26,29,10,24,12,16,35,38,33,12,17,32,15,21,24,29,13,13,20,25,19,21,21,20,29,14,14,14,24,22,13,10,21,14,20,16,13,17,24,23,26,20,21,16,17,24,18,41,29,29,18,29,24,8,8,14,18,18,15,38,16,13,13,16,24,24,27,17,27,28,13,24,22,25,27,22,17,44,28,35,33,28,26,18,15,16,11,15,9,28,14,22,17,19,20,10,14,26,17,14,29,22,24,35,19,28,31,27,26,19,17,18,14,14,13,13,19,13,23,12,19,23,20,23,12,17,48,22,21,22,27,13,24,10,14,26,20,21,33,36,41,25,23,19,18,28,22,24,24,27,16,30,34,27,18,17,9,9,10,36,12,25,34,34,24,33,37,25,25,21,19,19,24,9,38,30,41,15,12,15,12,29,18,27,19,16,12,13,19,22,22,39,27,21,23,26,19,28,17,26,28,16,24,19,29,22,7,21,18,21,21,37,28,27,12,12,23,19,18,21,16,16,9,29,27,9,24,18,36,16,31,22,20,19,29,18,48,20,41,16,23,20,32,23,29,40,28,20,20,25,13,15,20,24,30,14,18,28,10,17,28,13,35,27,20,15,17,16,20,24,34,22,22,30,23,33,28,26,18,25,25,13,23,12,12,10,9,9,15,20,17,16,13,26,27,102,53,81,67,51,78,30,36,61,36,56,59,19,27,20,17,43,48,16,30,32,59,40,60,16,19,77,45,44,66,34,16,29,36,73,89,78,45,25,48,50,46,62,33,77,59,57,78,51,41,128,32,41,29,29,43,24,43,36,23,35,21,59,89,56,91,51,73,17,42,45,54,50,30,90,19,24,78,127,56,17,54,27,76,66,35,64,39,49,64,58,36,48,25,45,19,5,11,10,71,9,53,57,12,78,31,44,36,57,51,23,52,36,26,50,36,68,55,54,22,29,37,44,22,13,33,43,26,40,3,32,41,46,67,46,23,12,26,31,51,51,17,8,19,53,45,15,29,21,61,35,31,26,35,52,35,38,28,14,14,14,8,99,55,54,40,11,52,28,36,41,23,31,39,44,19,49,41,97,26,30,55,63,47,39,42,63,12,16,48,53,41,46,24,45,46,21,27,18,30,33,26,37,39,8,7,17,76,24,54,15,33,44,24,40,33,40,60,5,41,41,18,24,42,41,24,48,22,58,24,70,23,64,5,16,38,38,13,26,21,58,40,24,13,24,24,71,17,70,34,48,31,33,27,48,50,36,20,23,72,17,28,27,28,45,46,14,14,33,28,25,15,15,22,42,13,34,30,42,57,47,60,17,88,31,26,43,76,34,40,29,66,19,59,41,88,53,59,71,23,36,28,23,49,62,53,13,27,19,33,23,75,16,24,15,24,21,64,21,26,21,10,19,45,31,57,36,32,45,16,72,17,43,45,38,59,20,13,26,43,3,18,28,16,39,48,18,25,17,25,25,25,12,12,51,29,33,11,31,19,19,29,31,31,9,10,50,10,21,34,9,12,43,35,52,55,26,28,41,52,14,6,44,29,22,60,52,15,15,31,31,31,33,33,27,60,16,22,26,14,12,27,19,19,19,19,55,43,64,20,44,30,29,15,27,29,35,9,26,16,38,19,19,6,39,54,23,7,30,30,22,48,50,51,41,30,51,70,45,37,34,42,52,25,53,21,47,16,77,55,42,49,80,32,27,27,35,48,24,54,51,74,50,54,23,23,43,38,33,19,45,73,44,43,20,45,25,34,34,36,36,6,30,32,22,17,94,61,72,16,36,59,76,21,31,26,62,7,44,68,7,26,24,38,17,53,26,23,4,52,37,33,52,59,16,81,5,55,26,31,29,102,44,49,26,21,51,46,20,38,48,17,20,36,26,26,10,26,26,73,39,60,29,36,28,28,27,22,14,82,54,28,27,45,36,55,8,47,10,67,39,43,66,59,26,13,77,22,13,34,13,14,27,45,17,70,44,83,28,76,41,40,26,30,72,35,44,57,38,50,72,24,25,53,126,61,96,28,26,44,43,47,42,18,21,47,23,62,87,92,38,38,44,26,57,59,32,31,20,18,32,9,30,53,55,10,52,39,34,15,49,43,9,56,20,68,41,31,24,48,55,46,34,11,12,27,28,56,30,34,48,61,55,17,40,31,20,3,28,61,17,52,24,51,53,5,24,21,6,8,30,43,55,24,48,43,50,25,22,28,16,24,45,67,48,47,35,35,56,32,94,25,63,13,43,15,8,50,31,36,100,16,29,20,49,21,36,41,58,5,50,37,23,35,63,26,49,19,77,25,35,17,62,22,26,103,48,9,17,72,35,10,39,21,23,32,37,45,28,31,51,35,43,39,16,14,14,20,15,16,20,12,26,31,33,25,3,40,21,45,53,25,31,28,14,16,11,11,11,59,6,25,37,33,5,16,25,24,36,39,30,18,27,24,24,34,29,26,28,44,27,63,59,37,20,20,20,14,46,42,35,5,63,28,54,21,25,40,30,25,25,41,42,27,80,29,62,67,50,37,20,27,54,35,6,40,26,19,26,57,10,37,66,15,31,38,49,28,32,61,26,20,37,53,10,24,69,71,81,31,34,62,30,47,106,72,9,44,38,38,51,18,69,28,65,72,62,40,23,56,37,10,10,50,57,47,34,29,12,41,46,21,27,59,18,30,30,27,44,47,43,30,45,36,70,26,17,28,45,18,48,25,13,21,33,42,13,37,37,24,29,27,26,47,40,53,69,20,42,19,20,35,41,33,27,52,22,41,43,36,68,28,37,55,63,29,36,46,18,48,22,30,48,65,19,32,23,27,50,17,29,23,21,21,20,39,35,34,27,43,58,49,9,19,27,104,82,25,36,45,89,75,35,48,56,40,26,36,29,35,30,52,34,22,40,7,67,29,99,24,86,21,34,26,58,36,68,31,18,42,33,77,15,15,14,14,14,24,54,33,44,54,17,30,32,46,33,32,18,18,47,42,35,45,55,42,32,28,46,11,11,38,13,41,54,24,50,54,24,65,21,70,22,35,22,52,30,43,9,13,48,77,55,66,46,54,39,40,45,30,102,24,24,41,72,41,38,30,55,22,77,36,36,25,49,77,17,24,14,46,15,59,28,25,25,21,22,48,48,37,24,45,62,35,42,65,5,57,14,27,14,14,11,30,39,46,32,32,17,21,24,53,84,43,28,36,29,45,32,33,48,36,72,16,35,29,41,28,61,65,56,12,18,18,47,15,15,20,71,25,9,9,9,9,37,33,31,39,40,64,27,28,28,30,52,40,93,65,22,37,57,50,34,56,12,16,48,58,30,8,39,33,43,61,12,20,13,14,13,13,15,31,56,82,53,28,60,61,27,67,9,9,9,29,11,17,21,38,49,40,48,66,3,29,14,25,87,65,14,28,28,27,27,59,26,17,17,27,26,24,14,33,18,24,21,39,25,21,10,56,17,35,17,24,19,36,21,52,24,24,22,14,14,28,42,18,14,30,57,88,65,40,61,31,41,61,32,40,36,52,21,36,49,10,28,28,131,21,25,69,18,69,125,29,51,13,124,17,65,31,46,51,37,74,51,40,94,39,92,83,32,77,32,30,59,42,145,69,44,46,23,47,20,40,67,47,63,65,18,57,41,29,50,52,49,63,55,46,32,22,26,33,58,59,29,63,32,82,83,30,17,17,109,24,9,95,61,59,35,26,40,93,43,75,28,33,50,32,41,87,87,20,42,18,31,35,60,39,41,14,23,5,35,17,28,37,58,27,96,72,9,32,68,39,25,72,42,42,56,18,35,29,17,45,51,68,33,50,58,23,13,28,39,21,35,35,26,39,60,48,7,59,93,63,31,50,9,29,21,25,50,27,44,55,29,51,24,25,72,49,12,20,41,18,13,33,16,15,49,34,22,47,36,3,6,39,29,34,8,27,25,29,24,24,24,24,28,9,9,9,10,10,10,62,62,20,16,28,11,8,35,47,23,23,36,28,57,28,26,40,40,35,56,26,20,13,21,21,24,16,30,40,24,24,24,26,22,39,23,45,39,27,40,18,18,15,33,28,56,46,61,15,34,38,31,46,33,42,61,44,59,21,27,35,47,40,38,10,13,11,56,64,21,60,35,38,26,43,52,33,9,20,45,63,16,67,27,31,18,50,39,32,26,75,23,20,38,7,66,38,50,16,16,75,43,42,40,40,44,30,30,30,75,53,60,94,49,7,30,55,35,59,17,17,17,17,36,18,50,22,28,49,44,36,9,32,26,21,31,18,30,50,41,53,33,35,28,25,101,33,33,24,36,52,27,37,42,25,56,18,38,81,38,24,37,82,54,50,24,80,34,37,27,8,46,52,24,9,31,45,33,41,50,18,28,37,34,25,3,24,14,30,38,37,37,67,41,100,40,46,33,19,40,40,41,44,43,18,34,34,35,28,53,25,43,62,31,30,101,12,64,16,84,75,48,45,37,60,35,45,50,43,19,18,16,23,23,20,10,11,35,29,44,23,23,36,38,60,19,48,36,33,44,23,47,23,57,31,17,36,37,8,5,65,37,26,46,17,38,56,20,18,36,89,21,16,66,27,16,29,81,21,61,11,11,20,20,41,38,38,38,41,51,18,38,38,43,21,35,5,74,35,15,14,33,43,28,27,18,18,44,42,29,46,29,58,33,47,23,23,24,24,37,38,38,29,26,28,12,34,33,55,15,15,29,16,22,62,41,60,33,40,33,26,39,49,42,28,40,46,56,42,34,38,34,31,38,37,44,25,56,27,20,56,27,27,26,49,26,45,52,42,38,23,23,12,52,50,44,84,51,36,29,38,22,38,37,25,23,27,58,26,46,57,49,61,73,58,38,65,73,33,33,93,52,39,78,44,79,8,31,39,35,55,31,23,37,32,32,29,52,24,20,23,48,35,52,59,20,34,48,39,50,31,23,46,50,18,51,19,20,27,27,27,30,53,29,28,30,60,28,24,28,17,20,40,40,26,59,78,24,22,27,53,61,38,21,24,22,38,50,23,14,14,45,56,35,27,49,38,38,39,30,33,12,12,12,15,37,27,19,79,36,65,32,29,24,60,26,46,34,38,27,21,71,68,82,73,24,14,86,34,36,63,50,42,47,47,77,39,31,31,34,32,47,27,24,36,12,23,16,16,31,48,47,18,55,24,61,25,46,25,38,38,32,45,13,9,39,12,13,14,34,16,8,8,13,13,39,34,17,22,23,23,25,38,26,19,30,19,26,49,14,14,28,21,62,16,14,83,27,35,8,56,46,25,34,35,63,47,17,73,38,24,52,37,67,18,70,47,59,55,18,18,28,25,30,50,3,24,38,19,55,53,33,27,26,21,20,77,30,24,17,30,23,30,51,51,38,32,57,41,63,57,63,19,19,15,30,24,45,39,3,39,60,27,47,16,39,10,47,36,5,46,39,19,18,25,16,16,24,24,33,13,28,53,19,35,43,53,63,49,19,87,18,18,53,45,25,23,6,35,35,35,26,18,23,16,16,13,19,24,30,15,16,28,20,5,26,54,40,45,33,38,11,29,32,33,66,14,14,19,34,17,21,43,41,49,22,17,35,44,29,34,58,26,47,45,42,55,37,31,34,11,12,26,66,29,22,68,24,46,76,9,47,39,46,10,79,92,50,48,74,24,23,43,22,3,3,20,40,36,4,29,19,19,41,7,11,44,17,34,41,22,44,7,52,13,29,22,13,13,46,56,4,21,53,23,27,25,39,14,6,44,83,33,42,40,24,28,19,44,19,6,26,19,23,31,27,28,28,28,38,17,32,30,56,45,8,23,48,50,62,26,50,34,25,36,20,28,25,36,15,37,37,34,48,18,32,75,54,32,22,62,35,40,7,64,27,19,13,13,32,19,36,32,54,22,47,15,34,32,16,16,27,40,32,29,29,51,25,44,30,42,100,61,26,26,26,37,87,22,22,28,43,43,16,41,26,17,36,17,19,26,17,14,30,46,47,66,48,62,31,48,42,73,90,24,40,61,54,67,43,75,31,20,59,41,51,35,26,53,62,53,15,82,51,65,44,78,17,27,15,15,33,39,14,26,26,26,79,16,16,18,16,26,20,50,27,68,16,32,59,27,20,19,45,35,58,33,27,20,18,35,22,47,13,35,48,43,44,29,52,31,58,50,25,21,20,63,27,10,75,84,25,54,53,26,80,67,50,29,64,16,11,30,57,43,53,15,20,29,41,29,29,13,29,35,78,23,28,50,15,47,9,9,34,41,47,38,65,8,31,52,40,18,21,46,25,29,23,53,51,25,58,38,33,46,20,38,21,71,23,77,45,12,53,43,52,45,69,53,18,39,31,62,15,19,23,22,22,48,27,23,27,38,9,26,26,36,53,6,10,11,26,19,21,39,34,58,16,60,20,28,16,35,15,16,42,45,26,13,14,34,37,47,26,40,19,21,26,28,44,48,20,42,33,45,15,20,56,28,26,11,18,16,37,70,18,32,81,53,25,9,20,97,48,6,42,30,30,30,29,31,18,30,11,39,34,58,32,15,15,65,9,33,32,30,43,36,31,11,11,11,18,40,36,19,49,26,16,26,31,53,37,18,20,32,20,17,17,17,23,77,59,35,23,24,58,19,29,16,11,29,32,37,41,32,27,18,24,22,29,9,27,58,25,52,45,34,44,31,52,38,11,47,18,53,48,56,16,21,17,53,22,50,55,29,44,59,45,37,46,44,33,60,42,63,41,43,26,49,10,12,33,16,20,68,8,8,8,13,21,49,17,11,36,26,39,28,19,38,27,93,48,10,55,4,41,23,57,5,65,6,26,35,14,27,20,24,26,28,12,17,39,22,20,43,26,18,98,45,33,33,50,23,15,53,39,16,16,18,21,25,23,19,39,33,18,20,50,19,52,33,51,33,47,8,36,32,32,36,18,62,25,23,43,74,30,43,50,25,32,29,15,19,21,27,9,36,51,49,52,32,27,27,16,76,51,29,19,41,24,61,26,18,18,44,34,12,12,38,35,43,26,21,24,75,73,56,45,75,75,38,27,7,55,31,31,17,18,13,13,13,13,17,15,35,43,20,25,19,22,22,18,74,57,12,12,12,42,24,39,32,41,13,18,44,40,21,14,15,5,44,19,52,11,11,27,27,33,18,39,17,31,25,16,28,15,52,8,19,21,23,57,26,14,70,3,38,40,56,23,34,34,59,18,58,14,38,65,46,25,29,41,51,35,36,31,25,96,60,37,45,19,21,38,47,48,51,38,18,12,23,79,39,35,21,4,57,29,29,49,32,12,41,33,43,71,5,20,20,27,32,32,31,74,30,14,9,36,34,8,8,10,23,23,28,19,20,79,13,52,16,14,20,37,23,74,49,12,14,32,64,12,21,27,47,46,5,23,16,16,39,39,31,57,25,28,34,44,12,17,17,30,18,56,30,30,44,39,39,33,8,8,69,48,10,65,22,30,28,23,43,39,3,10,14,13,13,26,13,21,38,18,34,32,9,40,48,52,27,32,32,44,19,47,44,28,41,18,28,25,49,49,48,28,39,33,42,20,50,34,8,8,39,10,21,20,24,20,31,31,43,18,41,46,7,31,17,20,26,53,25,37,20,17,17,40,48,25,32,24,35,32,30,28,5,23,23,31,20,13,51,49,19,18,19,45,34,36,12,61,40,26,11,11,49,46,34,67,30,11,47,45,35,27,49,34,42,36,24,26,17,30,47,22,45,23,19,19,34,34,32,32,42,21,37,46,32,46,57,28,45,36,63,30,52,47,35,56,42,13,37,38,17,15,11,33,33,39,35,71,33,34,30,56,31,91,16,22,25,44,24,19,51,31,41,13,37,13,14,39,31,23,32,48,42,7,40,50,35,24,37,10,47,20,23,23,82,20,36,51,37,28,43,23,51,27,36,48,15,29,66,30,13,5,23,19,36,27,20,29,32,44,61,31,9,9,28,21,25,47,47,22,3,23,23,25,27,27,53,11,11,17,28,96,48,6,48,33,33,38,54,30,41,54,26,40,17,20,25,53,21,7,44,44,43,47,47,38,49,20,17,37,12,12,12,9,34,54,38,16,7,56,61,39,2,25,22,30,30,29,56,35,51,27,25,25,18,26,31,28,46,13,32,57,33,57,58,36,23,45,37,59,35,31,17,63,49,48,32,15,41,32,25,27,19,17,26,33,57,10,24,43,27,35,32,25,9,9,22,59,53,30,30,57,71,65,26,20,20,45,9,31,55,36,36,68,13,24,24,24,29,22,44,6,6,42,11,15,45,20,10,17,17,65,59,31,31,58,25,15,33,55,60,32,3,28,23,23,31,28,41,47,28,45,32,33,21,24,28,28,50,10,10,58,37,14,22,32,42,20,44,47,43,18,29,9,67,37,25,10,10,23,12,18,17,37,22,29,18,18,49,17,36,22,36,52,28,51,62,40,36,35,19,30,44,31,22,38,29,27,19,23,22,24,16,18,18,18,25,31,27,27,58,54,26,25,10,43,11,9,21,21,18,26,46,54,54,36,33,33,20,20,32,14,31,40,18,34,16,17,17,32,48,22,41,23,20,31,28,25,47,27,4,22,23,12,10,46,35,42,20,28,28,17,17,55,25,64,12,32,31,34,40,92,50,38,44,47,47,18,22,18,24,16,46,10,5,53,47,43,23,15,18,35,38,34,39,31,41,41,21,22,22,20,14,14,26,25,20,52,17,17,11,5,44,40,53,45,29,20,47,30,4,17,26,45,29,38,45,37,14,48,10,10,10,10,21,37,19,19,48,18,17,34,22,24,21,21,23,43,9,47,81,77,28,5,51,36,56,33,26,36,80,31,17,50,27,65,39,43,37,28,74,77,24,24,40,31,32,16,45,16,16,44,80,55,25,25,20,62,57,75,22,3,21,29,47,24,39,21,73,59,17,28,19,26,30,43,39,40,48,35,27,49,17,56,7,16,59,26,40,54,84,17,34,35,8,26,34,16,12,13,16,11,28,36,44,14,16,31,47,27,16,18,39,19,34,18,10,12,32,20,39,29,36,25,28,41,10,40,35,51,66,62,12,33,33,13,11,12,18,32,52,34,14,8,77,43,38,45,33,45,28,41,12,21,32,23,36,21,43,25,12,26,45,19,2,22,17,16,16,8,74,29,72,39,35,37,23,33,30,32,80,25,34,28,23,34,29,48,17,57,24,37,17,16,22,44,7,14,32,38,56,33,8,12,39,21,20,18,27,14,23,28,40,13,56,5,23,38,50,13,20,21,17,38,20,5,24,51,32,33,68,80,87,6,17,47,58,43,34,14,48,16,48,12,43,15,12,33,66,58,30,38,11,22,66,58,54,15,62,41,25,50,30,73,51,18,19,28,34,20,43,50,13,31,10,49,17,59,5,27,39,38,77,30,73,63,76,15,19,4,21,63,33,30,31,18,35,32,17,29,13,30,30,17,14,25,71,22,16,50,51,13,21,44,12,44,38,30,22,62,21,12,35,26,21,16,7,32,28,14,37,46,41,29,52,30,47,55,39,39,50,27,53,41,42,70,4,13,58,9,9,24,8,83,66,36,52,51,52,17,34,85,31,42,15,65,30,62,41,79,9,46,77,35,41,72,10,30,40,75,30,121,32,29,99,32,63,137,22,23,34,91,82,29,10,8,16,7,49,32,12,31,33,64,19,27,36,34,23,26,29,42,24,58,35,37,33,10,14,36,34,72,21,126,54,20,22,27,37,8,57,42,40,30,51,69,74,50,51,17,20,49,55,37,10,27,60,50,14,21,19,28,38,28,57,27,48,36,27,10,21,41,39,22,27,38,31,39,19,19,19,18,20,13,13,18,13,13,14,14,22,22,22,31,31,31,8,8,8,22,9,9,14,14,12,13,11,11,18,18,39,32,36,19,22,22,16,20,22,23,15,16,36,17,21,24,24,30,21,9,27,17,14,28,14,9,9,9,9,27,19,26,25,22,16,15,15,16,13,12,12,12,12,13,13,12,12,8,10,9,11,16,17,11,18,33,24,24,23,26,27,8,8,20,19,21,19,16,16,26,19,19,20,15,15,23,18,12,13,13,13,17,25,20,20,20,23,15,11,11,12,12,8,8,16,16,25,25,27,28,25,30,34,34,18,23,23,28,22,27,28,19,25,22,21,9,19,31,10,30,26,32,16,29,22,27,33,30,28,19,19,27,27,24,30,29,26,24,24,32,28,33,34,31,44,22,23,24,11,10,10,10,9,14,21,14,37,45,35,29,26,14,13,11,13,29,30,40,26,25,26,27,23,35,25,30,31,10,17,29,21,32,18,13,26,5,18,27,26,26,13,16,7,33,46,59,30,35,15,51,13,25,24,12,12,14,7,23,36,24,38,28,22,42,14,14,16,38,12,31,29,51,17,30,12,14,28,23,20,41,48,37,39,20,24,49,51,29,32,11,38,51,21,9,20,37,76,47,32,12,39,35,45,22,20,26,51,39,35,26,24,15,21,15,26,13,38,19,29,37,35,35,35,20,43,34,68,37,34,14,79,31,86,11,38,45,26,17,26,32,32,36,34,52,44,39,53,46,41,19,39,12,21,21,34,9,43,32,55,24,12,29,56,32,23,17,20,29,31,47,25,12,21,44,37,41,8,8,8,33,35,39,53,22,25,26,43,43,18,47,38,23,56,7,27,18,18,18,47,12,28,15,39,17,31,24,11,25,17,11,16,19,24,39,17,21,33,29,30,27,28,32,20,17,20,20,19,25,17,18,27,26,20,22,20,14,19,19,30,26,23,27,18,17,18,23,21,15,31,24,28,38,28,20,20,31,16,14,23,20,21,21,30,33,15,22,18,17,17,17,18,17,22,22,26,26,21,21,12,31,34,30,13,21,17,18,14,19,18,17,21,20,24,26,24,24,12,20,23,23,28,24,20,23,21,23,15,37,25,16,27,22,25,25,29,23,12,15,14,21,26,17,11,20,19,17,14,14,31,17,23,30,12,18,24,24,17,16,16,16,18,21,24,18,19,14,18,7,9,15,19,14,27,18,17,18,23,19,21,27,22,19,12,12,12,19,19,20,14,14,18,18,17,19,25,18,26,21,25,14,20,25,20,9,24,20,30,25,21,30,18,14,15,18,16,14,26,13,10,30,10,9,16,19,21,14,15,11,7,23,22,16,14,21,17,15,28,19,14,15,16,23,23,6,7,9,8,6,8,6,8,10,11,10,15,13,13,12,13,15,14,12,14,12,24,21,22,16,17,14,16,16,13,13,17,17,38,21,12,12,14,20,35,12,17,20,15,19,29,23,29,17,23,22,16,14,16,19,21,23,38,17,20,18,34,33,29,19,21,26,32,19,23,21,27,17,19,28,24,8,14,12,17,14,31,18,15,17,17,24,20,22,23,21,11,25,18,17,22,17,21,16,17,14,17,19,10,20,11,21,16,16,18,23,18,22,11,11,19,13,23,20,15,17,21,16,16,15,14,24,18,17,13,14,22,18,20,17,16,24,21,16,25,20,18,14,29,20,13,29,21,13,29,23,23,17,16,22,26,23,10,13,13,16,19,30,27,25,28,26,29,38,19,17,24,23,20,24,28,33,31,27,23,26,24,20,24,24,18,16,17,18,16,19,23,17,17,21,20,24,30,19,27,16,26,7,15,16,13,22,17,23,10,24,17,10,9,12,14,11,12,20,16,13,14,17,26,27,32,29,17,15,12,15,19,18,21,14,13,11,12,11,21,24,30,22,16,13,19,13,10,10,12,12,8,8,11,19,11,19,11,12,9,13,8,14,12,11,11,13,11,13,13,13,7,12,8,21,12,21,24,18,27,20,23,18,18,17,16,9,22,16,11,13,10,12,14,16,14,21,16,10,19,14,21,17,5,6,17,22,24,25,14,13,15,15,25,18,15,24,22,21,16,24,16,20,21,18,17,15,12,13,11,18,16,16,19,16,18,19,11,5,16,12,9,22,22,18,34,18,24,18,25,15,16,17,32,24,15,19,13,12,16,13,19,18,18,21,18,14,17,19,17,19,17,22,20,23,10,12,14,17,11,24,10,12,13,21,22,27,19,16,18,18,18,20,16,21,15,21,15,9,9,13,13,18,22,27,32,18,17,23,23,14,17,18,20,22,14,12,14,13,22,26,12,14,16,27,20,15,15,20,21,30,43,19,22,21,23,23,23,22,20,21,23,23,26,26,23,28,27,34,11,24,13,11,17,17,21,15,16,27,20,21,20,17,15,24,25,17,22,20,15,14,17,33,20,32,41,22,15,19,18,20,17,18,18,30,20,28,18,18,18,18,25,20,16,17,16,12,17,14,16,10,11,13,24,24,11,20,23,38,25,23,24,33,32,16,22,21,19,22,15,16,23,26,22,23,15,17,16,18,13,20,16,21,29,26,27,13,15,21,24,16,22,16,9,12,8,16,12,22,28,17,14,23,23,20,22,15,17,23,20,26,14,33,21,18,20,23,22,24,21,15,26,13,11,12,17,26,31,14,24,22,14,18,13,12,17,20,17,26,25,19,24,12,21,24,18,13,16,21,14,20,12,11,15,16,18,10,13,21,13,23,5,16,16,10,10,24,18,17,13,19,19,19,15,19,15,16,18,8,9,5,15,20,19,11,21,19,17,19,8,23,10,13,17,13,20,20,15,15,14,24,14,12,23,12,17,16,18,9,20,20,14,10,20,15,17,14,9,14,18,22,15,20,24,15,14,10,15,10,12,17,21,18,16,19,13,12,17,10,20,31,12,10,12,18,26,16,14,11,17,16,15,21,11,12,9,26,19,14,13,15,16,10,15,15,27,23,17,14,27,17,18,16,8,14,7,13,22,14,28,17,21,19,22,23,18,18,20,17,16,31,23,20,9,22,15,13,16,20,8,22,14,12,20,16,14,15,20,17,12,19,12,16,21,30,15,17,25,12,11,14,18,16,22,12,12,11,21,21,14,19,22,21,11,12,12,16,26,14,12,10,13,14,5,15,24,40,22,23,17,14,13,20,22,15,15,14,18,19,18,26,16,25,17,29,36,24,15,14,18,23,16,17,22,16,17,25,20,13,15,25,18,21,32,11,17,15,21,10,13,32,14,18,21,12,22,26,17,28,15,17,15,18,17,20,19,28,17,18,31,24,21,16,13,18,19,10,26,18,19,18,22,18,13,8,10,16,16,16,18,23,20,25,19,20,13,14,24,15,10,10,12,20,24,20,14,10,17,18,16,18,19,15,19,17,17,16,30,32,9,19,14,16,16,20,12,22,18,12,11,34,31,16,17,16,16,15,11,15,15,10,34,35,23,28,25,27,24,25,14,14,16,20,13,14,25,30,16,17,13,13,26,18,11,29,31,25,17,25,29,29,27,40,17,27,18,14,16,15,20,25,19,11,22,28,16,18,16,17,18,19,22,19,22,26,27,24,24,15,22,16,15,24,29,9,31,24,28,22,27,20,25,23,16,18,28,14,18,17,17,14,31,23,20,22,32,23,17,24,20,23,26,21,21,16,15,10,11,10,9,17,31,11,20,31,13,25,23,17,17,11,14,28,12,18,20,16,9,18,13,16,22,12,10,19,13,15,22,23,17,7,18,33,35,32,34,15,18,22,33,26,15,12,42,10,23,7,18,21,18,26,30,24,23,28,23,21,21,10,17,24,29,26,19,18,16,18,21,26,20,25,18,20,21,23,16,21,25,19,22,22,29,22,34,37,26,36,23,18,26,12,14,14,14,22,25,27,17,19,19,21,25,30,23,21,10,17,19,23,30,22,26,22,27,26,27,24,30,18,19,23,33,26,15,15,25,27,24,33,25,13,21,28,24,22,28,21,20,23,24,26,14,16,20,22,17,16,23,17,13,18,18,21,23,24,23,19,25,25,15,17,21,16,21,19,21,17,23,17,16,18,24,24,35,26,24,13,25,17,27,25,16,26,11,10,11,12,12,17,21,20,12,16,16,28,21,23,19,24,17,21,32,30,31,27,19,22,22,21,20,26,23,10,16,17,23,16,14,20,15,15,21,18,17,15,18,21,27,14,24,19,21,19,23,12,24,35,23,21,24,25,19,25,19,23,21,16,29,22,33,29,37,26,20,26,19,13,26,19,33,18,21,37,21,17,23,36,17,23,20,27,27,13,21,17,16,19,7,19,16,24,22,20,23,30,21,29,13,18,11,12,16,14,21,14,22,22,25,15,14,25,17,15,9,13,19,25,12,27,18,20,15,19,8,14,9,14,15,14,19,21,24,13,9,21,25,8,17,20,15,15,18,23,10,17,13,17,14,20,20,15,19,21,15,25,10,33,7,10,24,10,20,11,24,20,21,18,9,12,21,14,14,7,13,17,16,13,21,24,18,27,19,18,11,11,26,11,14,16,23,19,11,18,27,26,15,29,10,22,14,13,17,14,17,24,17,27,26,23,9,12,20,13,7,19,14,16,9,20,8,9,6,6,17,26,31,27,35,42,40,49,17,27,27,16,47,35,16,37,19,35,39,28,33,33,26,17,22,23,18,19,30,34,31,30,23,31,19,22,31,43,32,26,47,22,20,31,29,27,30,26,28,26,18,30,16,17,25,24,29,27,20,20,32,30,33,31,20,18,43,11,40,21,21,32,22,24,17,18,35,17,26,17,17,30,29,29,29,20,23,25,25,27,19,20,23,16,34,24,34,36,34,23,19,22,20,21,24,24,30,25,28,28,32,18,9,9,9,27,20,32,20,14,24,37,35,20,36,10,10,24,15,13,23,20,21,22,32,29,29,12,19,24,26,28,13,18,20,30,28,26,37,39,16,20,24,4,21,17,20,29,33,30,25,27,25,28,41,24,27,18,14,27,22,32,42,40,22,20,17,25,25,17,23,31,25,24,22,22,29,23,17,28,37,23,21,18,28,24,23,27,30,16,35,24,37,36,22,30,27,28,19,38,33,33,16,45,18,17,22,13,30,28,29,25,21,22,23,23,22,12,8,18,25,19,24,28,21,17,22,27,30,22,13,9,9,11,13,16,33,23,28,9,12,17,19,17,17,27,18,18,12,12,15,21,10,17,16,21,20,20,27,19,27,20,21,24,17,18,21,21,21,15,17,32,14,14,18,21,17,31,23,17,16,17,24,27,29,30,31,24,16,29,31,42,25,31,31,26,27,34,33,16,45,28,33,22,34,15,39,30,20,18,30,34,32,17,31,31,31,15,25,24,23,26,22,30,27,28,28,29,28,30,21,21,16,17,20,21,24,20,19,15,22,27,21,34,32,24,27,28,21,29,13,24,24,22,33,17,21,36,24,17,17,17,18,20,22,27,27,27,20,22,21,18,32,29,11,24,26,25,23,37,23,26,23,30,36,38,11,11,11,10,20,13,24,24,24,34,20,37,33,33,33,39,24,23,28,31,31,34,23,21,32,27,25,16,31,17,22,22,23,29,26,25,19,31,22,25,14,23,13,23,35,15,10,36,9,21,25,27,27,26,23,23,27,23,19,31,27,17,20,22,20,12,26,23,27,23,13,12,24,22,21,22,30,30,16,13,21,22,25,25,13,23,32,14,20,21,22,20,21,22,21,18,23,29,22,28,29,26,29,26,29,21,23,22,17,15,15,15,15,20,24,23,24,14,10,16,16,19,24,18,19,21,19,21,23,23,25,15,17,29,27,27,26,28,29,36,31,19,21,30,16,34,25,14,17,14,17,19,21,21,21,22,21,20,24,34,27,11,32,30,34,34,21,29,25,29,40,12,13,16,13,18,16,15,22,24,30,26,25,28,28,31,33,25,16,38,28,20,13,17,20,12,12,21,26,32,18,21,21,22,25,13,12,26,17,25,20,13,14,8,8,8,23,23,12,16,10,12,22,26,16,26,32,15,23,11,9,16,14,12,16,26,21,15,28,10,10,19,19,14,15,16,16,14,8,18,19,25,11,16,20,12,12,25,25,28,10,28,23,14,16,13,19,14,19,14,22,17,14,15,19,19,12,13,26,26,18,21,14,25,19,19,21,18,15,17,14,12,11,14,31,39,15,14,18,15,12,25,19,27,27,26,26,12,20,16,15,22,24,16,20,25,24,9,15,12,16,8,19,26,31,25,7,23,26,29,14,18,25,27,15,26,19,26,13,18,17,23,20,24,25,24,20,24,27,23,23,28,27,27,31,20,34,15,24,13,14,20,25,13,13,11,22,31,20,17,21,9,22,10,10,20,20,26,26,30,30,19,10,20,11,13,24,16,12,19,18,19,27,15,22,26,15,20,5,22,43,32,30,12,15,15,25,20,15,22,16,13,11,7,12,7,9,14,15,15,27,15,14,18,8,10,15,22,28,16,17,18,22,16,20,22,29,27,20,39,12,13,18,25,20,29,24,20,32,34,19,14,22,15,29,18,18,22,24,26,24,22,33,27,18,24,20,29,26,22,15,20,31,20,20,40,23,23,12,22,20,46,16,21,14,10,24,15,20,20,38,18,20,29,19,21,25,31,38,36,36,21,18,38,21,15,21,26,31,14,13,13,22,23,13,25,24,26,20,40,12,30,17,21,22,17,15,20,29,6,29,23,17,15,15,15,18,8,8,24,24,22,16,28,32,22,22,23,22,16,12,25,16,24,23,29,7,10,9,15,13,17,19,18,21,20,29,30,25,31,26,18,18,50,20,17,18,20,14,21,18,20,29,21,33,36,20,21,23,16,24,22,24,14,25,15,14,24,24,19,28,28,11,12,10,9,16,29,16,18,28,12,12,20,20,12,12,27,10,19,25,17,26,25,33,19,16,14,13,20,13,17,16,30,16,27,30,22,10,19,4,22,13,25,14,22,22,31,16,10,17,13,27,12,10,13,23,24,8,8,17,27,14,34,34,18,15,21,32,35,31,8,15,15,20,8,19,18,23,31,26,21,28,18,12,21,11,18,16,12,12,4,19,33,17,12,35,23,17,26,26,18,21,22,19,17,20,30,22,22,21,14,15,16,17,31,32,22,27,30,15,19,31,31,21,26,21,19,15,20,16,10,23,20,19,17,27,27,24,23,23,23,14,16,26,26,12,30,20,31,25,18,25,13,29,33,18,15,23,25,20,21,21,24,28,32,25,16,19,16,13,16,23,33,10,18,22,18,10,36,36,37,37,16,8,8,18,48,23,30,23,21,21,16,15,15,30,35,25,25,22,27,20,21,24,20,38,33,17,21,30,34,13,7,18,17,23,23,25,28,14,22,17,20,20,25,23,26,27,26,40,25,20,28,22,20,20,19,9,27,27,33,34,14,25,29,23,11,13,16,36,21,23,23,23,12,12,28,22,32,32,16,31,21,16,13,9,15,19,21,22,26,20,10,11,11,30,30,22,19,12,16,15,15,16,22,16,29,21,19,16,12,19,29,17,17,26,12,33,19,15,18,28,14,14,7,26,26,15,24,27,27,13,12,10,13,24,15,20,24,21,13,11,15,21,30,16,20,31,23,21,10,16,26,18,21,20,12,4,4,7,7,8,8,9,9,9,9,7,7,8,8,8,6,6,6,6,6,6,6,6,7,7,7,7,9,9,9,9,7,7,7,7,5,5,5,5,5,5,6,6,6,6,6,6,7,7,7,7,7,7,8,8,8,8,5,6,7,7,9,9,9,9,8,8,9,9,9,10,10,10,10,9,9,10,10,10,10,10,10,10,10,9,9,11,11,11,11,9,9,9,9,7,8,8,8,8,7,7,2,2,2,6,4,4,4,4,6,6,6,6,6,6,6,6,6,6,6,6,6,6,6,6,13,13,13,13,10,10,16,16,5,5,5,5,2,2,2,3,2,2,2,3,2,2,6,6,6,6,8,8,8,6,6,6,7,7,7,7,7,7,7,7,9,9,9,9,8,8,8,8,9,9,9,4,3,4,4,4,4,4,5,5,5,5,4,6,6,6,6,6,6,4,4,4,7,10,10,10,9,3,3,4,4,3,3,3,3,3,4,4,3,4,6,6,6,6,5,5,5,7,4,4,7,10,10,10,11,11,11,13,13,13,6,6,4,4,4,4,9,9,10,10,7,7,7,7,12,12,10,7,16,4,4,2,2,4,5,5,5,2,5,5,7,7,7,7,4,4,7,7,6,6,6,2,10,10,10,10,9,9,9,9,8,8,8,8,10,10,10,9,9,6,6,6,9,9,9,9,7,7,7,12,12,12,12,8,8,8,8,7,7,3,6,6,6,6,6,6,6,6,7,7,4,4,8,8,11,11,12,12,8,8,8,12,12,10,10,10,9,9,9,16,16,16,16,16,16,19,19,19,9,9,15,15,15,5,5,5,13,13,13,9,9,9,15,15,15,15,16,16,23,23,14,14,14,21,21,21,10,10,10,13,12,10,9,9,8,8,6,6,7,14,14,15,15,7,7,7,7,9,9,9,16,16,14,14,14,14,13,13,9,9,13,13,4,7,8,8,8,6,6,6,8,4,3,9,9,9,7,7,7,10,10,9,9,10,10,10,10,7,7,10,10,8,8,7,7,7,6,6,5,5,5,12,10,10,8,8,10,10,6,11,11,11,11,11,10,10,10,10,5,5,5,5,5,6,6,6,6,6,6,13,13,10,10,9,9,9,8,8,8,8,8,8,8,5,10,7,7,7,10,7,7,7,5,5,6,6,6,6,6,6,9,9,4,4,11,7,7,7,3,12,12,6,3,3,3,1,1,2,2,3,7,7,12,5,13,10,19,19,10,9,13,14,8,6,10,7,10,7,14,9,9,11,8,12,7,7,7,9,15,21,12,12,11,10,12,9,22,12,28,38,16,18,30,16,13,11,12,8,10,6,6,6,6,6,4,3,3,3,9,9,9,9,3,3,5,5,5,5,8,8,8,24,24,24,22,22,22,4,4,5,5,5,5,4,7,7,7,7,6,6,7,7,9,9,9,8,8,8,8,6,6,6,6,8,8,8,8,6,6,6,6,7,7,7,7,7,7,8,8,5,5,5,3,4,4,4,6,9,7,7,8,8,8,7,7,7,7,8,8,8,8,5,5,5,5,5,5,5,3,3,3,3,4,4,4,4,4,4,4,4,6,6,6,6,9,9,9,9,7,7,7,7,8,8,8,8,8,8,4,4,4,7,7,7,6,6,6,6,4,4,4,10,10,9,9,9,8,8,8,12,12,12,9,9,9,9,16,16,16,16,9,9,6,6,7,7,5,5,5,5,5,7,7,7,7,6,6,6,6,6,5,5,8,8,8,12,12,12,12,18,18,18,14,14,14,14,13,13,13,6,6,6,6,5,5,5,5,6,8,8,8,8,7,7,7,5,5,5,5,6,6,10,10,10,10,5,5,5,9,9,9,9,3,3,3,3,8,8,8,8,3,3,11,11,11,11,13,13,13,13,10,7,7,7,8,8,6,6,6,6,6,6,5,5,5,5,5,5,3,3,3,3,4,4,4,4,7,7,7,7,8,8,8,8,5,4,5,5,5,4,4,3,3,3,3,4,4,4,5,5,5,7,7,7,7,9,9,9,9,10,10,6,6,9,9,8,8,8,5,10,10,7,8,8,5,12,12,12,12,5,5,4,4,4,4,4,4,4,6,11,11,6,6,2,12,7,7,8,8,8,8,8,8,2,5,5,5,10,10,10,7,7,7,7,6,6,7,7,7,7,10,10,12,12,12,12,10,10,10,10,5,16,16,16,16,28,28,28,28,8,8,17,19,18,15,24,15,24,16,16,12,30,17,17,16,26,25,24,15,16,21,29,11,24,25,17,20,20,20,13,19,16,14,34,21,18,20,17,46,9,9,12,17,16,31,29,31,38,16,13,27,32,28,35,29,29,28,35,46,53,30,15,24,29,25,30,18,18,30,16,33,39,32,36,24,24,23,26,27,20,23,8,8,20,19,15,18,17,16,25,23,18,12,13,13,13,17,19,25,24,19,27,24,30,29,26,24,24,39,28,33,32,31,29,40,32,23,29,32,29,21,35,14,33,35,36,43,33,54,34,41,11,26,25,26,24,24,15,17,23,11,12,44,39,41,8,33,33,10,19,12,23,40,32,31,22,29,20,38,29,29,25,28,23,29,9,9,27,30,22,39,24,20,13,34,20,21,12,11,16,15,13,5,14,29,24,26,10,10,8,17,9,8,12,14,12,30,30,17,18,18,21,30,14,32,20,13,28,31,13,20,30,35,15,7,28,29,10,17,24,68,27,36,18,19,14,6,24,20,18,27,19,37,27,13,7,16,39,33,33,33,39,40,29,35,40,29,32,33,32,27,34,14,32,30,37,42,25,24,16,28,29,34,25,31,27,30,15,30,17,38,28,35,25,15,9,36,35,14,14,26,8,35,36,13,13,35,34,29,23,33,42,30,19,15,21,24,8,20,14,34,36,29,57,16,26,15,8,20,31,13,34,40,21,39,26,35,21,36,31,49,39,39,28,40,44,25,25,20,15,27,15,16,22,31,17,32,25,45,23,28,22,23,45,30,52,42,17,38,15,17,29,30,14,16,18,23,21,17,12,31,16,11,21,27,34,15,20,30,40,30,38,23,29,21,24,21,45,31,34,20,24,25,20,18,12,32,34,34,29,26,23,30,35,21,26,29,18,23,18,42,21,20,24,19,12,24,29,26,34,14,18,20,24,20,32,19,25,19,19,21,29,33,26,54,22,24,38,17,21,38,14,25,27,38,31,64,21,29,26,20,18,22,14,32,32,18,33,22,16,29,22,37,38,37,25,18,21,24,29,24,24,33,37,36,35,28,8,18,17,8,9,10,31,40,14,28,17,18,31,32,32,15,37,18,45,32,46,22,31,33,28,40,40,28,30,24,24,23,23,19,16,22,14,28,22,17,11,23,27,27,26,13,26,28,37,22,27,20,26,21,30,20,23,22,14,25,26,27,37,20,14,16,25,29,11,17,25,16,23,27,27,35,31,29,27,17,26,31,25,32,39,33,37,46,26,34,18,28,23,15,25,28,32,34,31,40,38,23,39,39,41,10,20,25,34,18,20,15,20,16,17,28,7,13,12,15,10,33,29,28,21,38,53,70,10,37,17,18,18,18,31,15,21,36,27,49,32,60,51,35,39,19,41,38,50,33,34,30,32,57,59,42,50,42,40,42,40,60,47,44,38,56,50,57,56,44,44,34,17,35,30,38,40,40,34,36,40,49,23,34,43,20,33,32,60,24,19,27,21,38,43,37,32,22,22,28,17,26,27,18,13,28,30,29,17,31,33,34,37,44,43,25,36,21,34,28,11,23,20,28,39,40,35,28,18,36,42,33,29,24,37,41,32,27,43,32,29,24,25,44,25,26,30,23,22,43,35,39,15,21,35,27,23,36,42,19,22,23,33,26,41,41,41,36,35,28,32,32,20,28,40,40,31,37,32,29,17,28,41,32,39,41,26,17,22,20,29,28,30,43,43,32,44,36,29,24,44,30,41,38,32,44,27,28,41,16,20,33,34,33,32,41,34,28,37,38,28,41,18,20,37,30,23,38,33,32,41,36,28,26,17,25,34,31,28,33,33,39,19,16,23,34,17,27,21,39,30,21,40,28,17,36,25,11,21,11,41,31,35,27,23,34,11,26,22,20,25,30,18,40,43,17,33,32,33,39,27,34,20,24,25,29,34,40,37,27,44,29,45,30,34,27,32,34,34,35,31,41,39,46,46,29,32,39,40,37,43,39,44,45,32,33,36,42,42,40,45,43,35,45,32,33,38,29,38,48,28,50,50,31,60,53,52,56,63,48,62,58,51,56,47,53,52,54,51,39,60,56,55,41,53,56,45,61,62,55,55,55,51,64,51,61,47,45,50,52,56,66,34,38,27,41,25,41,46,69,43,51,28,56,54,64,56,67,28,40,40,46,21,29,39,52,53,37,38,48,45,53,50,53,40,37,59,50,56,46,49,43,36,18,54,55,58,40,56,45,59,50,66,44,63,30,42,56,72,59,26,42,36,31,24,27,43,36,21,37,25,37,33,25,37,26,38,31,29,28,31,26,26,27,29,27,29,31,34,36,39,26,27,20,28,29,29,32,29,29,21,30,33,25,24,23,32,40,39,34,34,30,36,30,35,36,30,34,31,36,37,37,36,53,21,32,42,21,41,37,36,35,25,35,36,25,46,31,30,36,34,32,22,34,21,34,32,35,31,30,29,38,24,32,34,31,25,37,39,38,34,41,45,38,44,32,46,31,22,28,21,25,26,37,32,24,26,31,29,35,29,26,30,27,24,24,29,23,34,36,30,38,34,28,32,28,21,34,41,29,34,26,24,20,30,32,28,26,31,39,35,35,43,28,33,34,26,28,32,26,30,28,30,30,38,37,29,28,42,23,18,25,28,18,26,20,22,27,19,26,32,51,52,62,47,61,56,47,63,61,60,40,44,55,44,62,50,44,49,43,48,47,48,49,53,60,40,48,51,54,48,49,54,46,51,50,45,50,47,46,47,41,50,36,36,53,43,37,39,51,43,49,36,44,50,53,51,49,64,52,69,44,34,46,38,36,49,59,47,44,43,36,41,50,29,51,72,59,51,60,55,35,69,63,76,79,66,74,72,71,77,81,69,38,66,76,63,75,64,72,58,51,50,51,56,52,57,51,47,33,75,63,62,59,67,65,64,61,75,66,68,55,81,69,62,61,66,51,44,74,74,71,68,67,73,62,64,60,76,55,50,73,63,62,25,73,23,59,61,70,64,65,61,60,70,62,77,79,54,65,64,63,56,62,68,76,74,81,71,71,64,68,29,22,28,31,35,42,45,36,58,27,56,27,71,30,22,24,36,62,36,35,32,38,40,41,59,29,35,17,40,55,38,37,62,70,36,46,31,37,50,63,39,56,29,67,47,60,28,49,53,42,30,39,27,33,49,27,62,58,49,33,39,17,21,22,46,30,29,28,30,64,40,29,31,53,53,32,55,38,42,48,25,27,29,21,32,16,22,49,38,38,54,46,39,30,40,48,28,29,52,33,65,37,84,70,63,84,66,60,64,67,70,51,76,66,82,27,30,55,36,40,44,34,42,61,22,26,34,33,22,33,37,16,31,20,35,34,37,32,35,43,42,30,30,29,37,56,31,26,39,38,41,37,39,30,30,23,50,37,27,35,42,33,29,51,47,16,30,29,25,32,41,28,38,34,36,27,28,41,38,38,27,30,30,33,33,20,41,27,24,27,33,31,35,34,34,38,50,17,47,27,56,54,38,50,50,37,53,80,67,60,69,58,65,70,69,64,63,67,38,34,56,78,76,58,86,65,68,69,74,66,82,63,74,76,67,56,56,67,72,60,33,32,72,47,24,84,69,35,40,54,32,78,56,41,69,68,66,66,75,58,53,24,77,55,78,32,29,68,66,75,57,65,79,67,59,76,73,76,79,77,75,70,71,62,76,48,90,80,49,86,70,75,73,86,50,78,71,87,86,78,88,84,91,79,86,73,78,84,75,79,86,89,37,17,62,69,31,35,73,32,32,53,60,71,72,29,45,60,41,28,32,37,27,59,42,34,25,77,78,66,35,40,26,51,30,31,82,51,37,70,32,68,57,82,43,61,32,52,29,50,78,58,29,74,80,43,25,12,76,65,77,58,23,61,42,32,63,60,41,25,37,66,48,43,68,43,63,45,33,65,93,67,12,60,79,58,79,16,38,55,18,25,40,62,54,64,59,30,30,45,33,42,66,34],\"xaxis\":\"x\",\"yaxis\":\"y\",\"type\":\"histogram\"}],                        {\"template\":{\"data\":{\"histogram2dcontour\":[{\"type\":\"histogram2dcontour\",\"colorbar\":{\"outlinewidth\":0,\"ticks\":\"\"},\"colorscale\":[[0.0,\"#0d0887\"],[0.1111111111111111,\"#46039f\"],[0.2222222222222222,\"#7201a8\"],[0.3333333333333333,\"#9c179e\"],[0.4444444444444444,\"#bd3786\"],[0.5555555555555556,\"#d8576b\"],[0.6666666666666666,\"#ed7953\"],[0.7777777777777778,\"#fb9f3a\"],[0.8888888888888888,\"#fdca26\"],[1.0,\"#f0f921\"]]}],\"choropleth\":[{\"type\":\"choropleth\",\"colorbar\":{\"outlinewidth\":0,\"ticks\":\"\"}}],\"histogram2d\":[{\"type\":\"histogram2d\",\"colorbar\":{\"outlinewidth\":0,\"ticks\":\"\"},\"colorscale\":[[0.0,\"#0d0887\"],[0.1111111111111111,\"#46039f\"],[0.2222222222222222,\"#7201a8\"],[0.3333333333333333,\"#9c179e\"],[0.4444444444444444,\"#bd3786\"],[0.5555555555555556,\"#d8576b\"],[0.6666666666666666,\"#ed7953\"],[0.7777777777777778,\"#fb9f3a\"],[0.8888888888888888,\"#fdca26\"],[1.0,\"#f0f921\"]]}],\"heatmap\":[{\"type\":\"heatmap\",\"colorbar\":{\"outlinewidth\":0,\"ticks\":\"\"},\"colorscale\":[[0.0,\"#0d0887\"],[0.1111111111111111,\"#46039f\"],[0.2222222222222222,\"#7201a8\"],[0.3333333333333333,\"#9c179e\"],[0.4444444444444444,\"#bd3786\"],[0.5555555555555556,\"#d8576b\"],[0.6666666666666666,\"#ed7953\"],[0.7777777777777778,\"#fb9f3a\"],[0.8888888888888888,\"#fdca26\"],[1.0,\"#f0f921\"]]}],\"heatmapgl\":[{\"type\":\"heatmapgl\",\"colorbar\":{\"outlinewidth\":0,\"ticks\":\"\"},\"colorscale\":[[0.0,\"#0d0887\"],[0.1111111111111111,\"#46039f\"],[0.2222222222222222,\"#7201a8\"],[0.3333333333333333,\"#9c179e\"],[0.4444444444444444,\"#bd3786\"],[0.5555555555555556,\"#d8576b\"],[0.6666666666666666,\"#ed7953\"],[0.7777777777777778,\"#fb9f3a\"],[0.8888888888888888,\"#fdca26\"],[1.0,\"#f0f921\"]]}],\"contourcarpet\":[{\"type\":\"contourcarpet\",\"colorbar\":{\"outlinewidth\":0,\"ticks\":\"\"}}],\"contour\":[{\"type\":\"contour\",\"colorbar\":{\"outlinewidth\":0,\"ticks\":\"\"},\"colorscale\":[[0.0,\"#0d0887\"],[0.1111111111111111,\"#46039f\"],[0.2222222222222222,\"#7201a8\"],[0.3333333333333333,\"#9c179e\"],[0.4444444444444444,\"#bd3786\"],[0.5555555555555556,\"#d8576b\"],[0.6666666666666666,\"#ed7953\"],[0.7777777777777778,\"#fb9f3a\"],[0.8888888888888888,\"#fdca26\"],[1.0,\"#f0f921\"]]}],\"surface\":[{\"type\":\"surface\",\"colorbar\":{\"outlinewidth\":0,\"ticks\":\"\"},\"colorscale\":[[0.0,\"#0d0887\"],[0.1111111111111111,\"#46039f\"],[0.2222222222222222,\"#7201a8\"],[0.3333333333333333,\"#9c179e\"],[0.4444444444444444,\"#bd3786\"],[0.5555555555555556,\"#d8576b\"],[0.6666666666666666,\"#ed7953\"],[0.7777777777777778,\"#fb9f3a\"],[0.8888888888888888,\"#fdca26\"],[1.0,\"#f0f921\"]]}],\"mesh3d\":[{\"type\":\"mesh3d\",\"colorbar\":{\"outlinewidth\":0,\"ticks\":\"\"}}],\"scatter\":[{\"fillpattern\":{\"fillmode\":\"overlay\",\"size\":10,\"solidity\":0.2},\"type\":\"scatter\"}],\"parcoords\":[{\"type\":\"parcoords\",\"line\":{\"colorbar\":{\"outlinewidth\":0,\"ticks\":\"\"}}}],\"scatterpolargl\":[{\"type\":\"scatterpolargl\",\"marker\":{\"colorbar\":{\"outlinewidth\":0,\"ticks\":\"\"}}}],\"bar\":[{\"error_x\":{\"color\":\"#2a3f5f\"},\"error_y\":{\"color\":\"#2a3f5f\"},\"marker\":{\"line\":{\"color\":\"#E5ECF6\",\"width\":0.5},\"pattern\":{\"fillmode\":\"overlay\",\"size\":10,\"solidity\":0.2}},\"type\":\"bar\"}],\"scattergeo\":[{\"type\":\"scattergeo\",\"marker\":{\"colorbar\":{\"outlinewidth\":0,\"ticks\":\"\"}}}],\"scatterpolar\":[{\"type\":\"scatterpolar\",\"marker\":{\"colorbar\":{\"outlinewidth\":0,\"ticks\":\"\"}}}],\"histogram\":[{\"marker\":{\"pattern\":{\"fillmode\":\"overlay\",\"size\":10,\"solidity\":0.2}},\"type\":\"histogram\"}],\"scattergl\":[{\"type\":\"scattergl\",\"marker\":{\"colorbar\":{\"outlinewidth\":0,\"ticks\":\"\"}}}],\"scatter3d\":[{\"type\":\"scatter3d\",\"line\":{\"colorbar\":{\"outlinewidth\":0,\"ticks\":\"\"}},\"marker\":{\"colorbar\":{\"outlinewidth\":0,\"ticks\":\"\"}}}],\"scattermapbox\":[{\"type\":\"scattermapbox\",\"marker\":{\"colorbar\":{\"outlinewidth\":0,\"ticks\":\"\"}}}],\"scatterternary\":[{\"type\":\"scatterternary\",\"marker\":{\"colorbar\":{\"outlinewidth\":0,\"ticks\":\"\"}}}],\"scattercarpet\":[{\"type\":\"scattercarpet\",\"marker\":{\"colorbar\":{\"outlinewidth\":0,\"ticks\":\"\"}}}],\"carpet\":[{\"aaxis\":{\"endlinecolor\":\"#2a3f5f\",\"gridcolor\":\"white\",\"linecolor\":\"white\",\"minorgridcolor\":\"white\",\"startlinecolor\":\"#2a3f5f\"},\"baxis\":{\"endlinecolor\":\"#2a3f5f\",\"gridcolor\":\"white\",\"linecolor\":\"white\",\"minorgridcolor\":\"white\",\"startlinecolor\":\"#2a3f5f\"},\"type\":\"carpet\"}],\"table\":[{\"cells\":{\"fill\":{\"color\":\"#EBF0F8\"},\"line\":{\"color\":\"white\"}},\"header\":{\"fill\":{\"color\":\"#C8D4E3\"},\"line\":{\"color\":\"white\"}},\"type\":\"table\"}],\"barpolar\":[{\"marker\":{\"line\":{\"color\":\"#E5ECF6\",\"width\":0.5},\"pattern\":{\"fillmode\":\"overlay\",\"size\":10,\"solidity\":0.2}},\"type\":\"barpolar\"}],\"pie\":[{\"automargin\":true,\"type\":\"pie\"}]},\"layout\":{\"autotypenumbers\":\"strict\",\"colorway\":[\"#636efa\",\"#EF553B\",\"#00cc96\",\"#ab63fa\",\"#FFA15A\",\"#19d3f3\",\"#FF6692\",\"#B6E880\",\"#FF97FF\",\"#FECB52\"],\"font\":{\"color\":\"#2a3f5f\"},\"hovermode\":\"closest\",\"hoverlabel\":{\"align\":\"left\"},\"paper_bgcolor\":\"white\",\"plot_bgcolor\":\"#E5ECF6\",\"polar\":{\"bgcolor\":\"#E5ECF6\",\"angularaxis\":{\"gridcolor\":\"white\",\"linecolor\":\"white\",\"ticks\":\"\"},\"radialaxis\":{\"gridcolor\":\"white\",\"linecolor\":\"white\",\"ticks\":\"\"}},\"ternary\":{\"bgcolor\":\"#E5ECF6\",\"aaxis\":{\"gridcolor\":\"white\",\"linecolor\":\"white\",\"ticks\":\"\"},\"baxis\":{\"gridcolor\":\"white\",\"linecolor\":\"white\",\"ticks\":\"\"},\"caxis\":{\"gridcolor\":\"white\",\"linecolor\":\"white\",\"ticks\":\"\"}},\"coloraxis\":{\"colorbar\":{\"outlinewidth\":0,\"ticks\":\"\"}},\"colorscale\":{\"sequential\":[[0.0,\"#0d0887\"],[0.1111111111111111,\"#46039f\"],[0.2222222222222222,\"#7201a8\"],[0.3333333333333333,\"#9c179e\"],[0.4444444444444444,\"#bd3786\"],[0.5555555555555556,\"#d8576b\"],[0.6666666666666666,\"#ed7953\"],[0.7777777777777778,\"#fb9f3a\"],[0.8888888888888888,\"#fdca26\"],[1.0,\"#f0f921\"]],\"sequentialminus\":[[0.0,\"#0d0887\"],[0.1111111111111111,\"#46039f\"],[0.2222222222222222,\"#7201a8\"],[0.3333333333333333,\"#9c179e\"],[0.4444444444444444,\"#bd3786\"],[0.5555555555555556,\"#d8576b\"],[0.6666666666666666,\"#ed7953\"],[0.7777777777777778,\"#fb9f3a\"],[0.8888888888888888,\"#fdca26\"],[1.0,\"#f0f921\"]],\"diverging\":[[0,\"#8e0152\"],[0.1,\"#c51b7d\"],[0.2,\"#de77ae\"],[0.3,\"#f1b6da\"],[0.4,\"#fde0ef\"],[0.5,\"#f7f7f7\"],[0.6,\"#e6f5d0\"],[0.7,\"#b8e186\"],[0.8,\"#7fbc41\"],[0.9,\"#4d9221\"],[1,\"#276419\"]]},\"xaxis\":{\"gridcolor\":\"white\",\"linecolor\":\"white\",\"ticks\":\"\",\"title\":{\"standoff\":15},\"zerolinecolor\":\"white\",\"automargin\":true,\"zerolinewidth\":2},\"yaxis\":{\"gridcolor\":\"white\",\"linecolor\":\"white\",\"ticks\":\"\",\"title\":{\"standoff\":15},\"zerolinecolor\":\"white\",\"automargin\":true,\"zerolinewidth\":2},\"scene\":{\"xaxis\":{\"backgroundcolor\":\"#E5ECF6\",\"gridcolor\":\"white\",\"linecolor\":\"white\",\"showbackground\":true,\"ticks\":\"\",\"zerolinecolor\":\"white\",\"gridwidth\":2},\"yaxis\":{\"backgroundcolor\":\"#E5ECF6\",\"gridcolor\":\"white\",\"linecolor\":\"white\",\"showbackground\":true,\"ticks\":\"\",\"zerolinecolor\":\"white\",\"gridwidth\":2},\"zaxis\":{\"backgroundcolor\":\"#E5ECF6\",\"gridcolor\":\"white\",\"linecolor\":\"white\",\"showbackground\":true,\"ticks\":\"\",\"zerolinecolor\":\"white\",\"gridwidth\":2}},\"shapedefaults\":{\"line\":{\"color\":\"#2a3f5f\"}},\"annotationdefaults\":{\"arrowcolor\":\"#2a3f5f\",\"arrowhead\":0,\"arrowwidth\":1},\"geo\":{\"bgcolor\":\"white\",\"landcolor\":\"#E5ECF6\",\"subunitcolor\":\"white\",\"showland\":true,\"showlakes\":true,\"lakecolor\":\"white\"},\"title\":{\"x\":0.05},\"mapbox\":{\"style\":\"light\"}}},\"xaxis\":{\"anchor\":\"y\",\"domain\":[0.0,1.0],\"title\":{\"text\":\"English sentence length\"}},\"yaxis\":{\"anchor\":\"x\",\"domain\":[0.0,1.0],\"title\":{\"text\":\"Count\"}},\"legend\":{\"tracegroupgap\":0},\"title\":{\"text\":\"Distribution of english sentence lengths\"},\"barmode\":\"relative\"},                        {\"responsive\": true}                    ).then(function(){\n",
              "                            \n",
              "var gd = document.getElementById('e4df8598-c064-458d-a518-f753ec8098b8');\n",
              "var x = new MutationObserver(function (mutations, observer) {{\n",
              "        var display = window.getComputedStyle(gd).display;\n",
              "        if (!display || display === 'none') {{\n",
              "            console.log([gd, 'removed!']);\n",
              "            Plotly.purge(gd);\n",
              "            observer.disconnect();\n",
              "        }}\n",
              "}});\n",
              "\n",
              "// Listen for the removal of the full notebook cells\n",
              "var notebookContainer = gd.closest('#notebook-container');\n",
              "if (notebookContainer) {{\n",
              "    x.observe(notebookContainer, {childList: true});\n",
              "}}\n",
              "\n",
              "// Listen for the clearing of the current output cell\n",
              "var outputEl = gd.closest('.output');\n",
              "if (outputEl) {{\n",
              "    x.observe(outputEl, {childList: true});\n",
              "}}\n",
              "\n",
              "                        })                };                            </script>        </div>\n",
              "</body>\n",
              "</html>"
            ]
          },
          "metadata": {}
        }
      ]
    },
    {
      "cell_type": "markdown",
      "source": [
        "# Data preprocessing"
      ],
      "metadata": {
        "id": "osDI8iT1b_Yy"
      }
    },
    {
      "cell_type": "markdown",
      "source": [
        "## Tokenization"
      ],
      "metadata": {
        "id": "YGT7FXUpcZ27"
      }
    },
    {
      "cell_type": "markdown",
      "source": [
        "## Data splitting"
      ],
      "metadata": {
        "id": "JKopUCqBnf8W"
      }
    },
    {
      "cell_type": "code",
      "source": [
        "X = cleaned_df_main['eng']  # Input sentences (English)\n",
        "Y = cleaned_df_main['darija']  # Target sentences (Darija)"
      ],
      "metadata": {
        "id": "9gbunIQqmmp0"
      },
      "execution_count": 41,
      "outputs": []
    },
    {
      "cell_type": "code",
      "source": [
        "from sklearn.model_selection import train_test_split\n",
        "\n",
        "TEST_SIZE = 0.2  # 20% of the data for testing\n",
        "VALIDATION_SIZE = 0.1  # 10% of the training data for validation\n",
        "\n",
        "# Splitting into training and test sets\n",
        "X_train, X_test, Y_train, Y_test = train_test_split(X, Y, test_size=TEST_SIZE, random_state=42)\n",
        "\n",
        "# Then splitting the training set into training and validation sets\n",
        "X_train, X_valid, Y_train, Y_valid = train_test_split(X_train, Y_train, test_size=VALIDATION_SIZE, random_state=42)\n",
        "\n",
        "# Verifying sizes\n",
        "print(f\"Training set size: {len(X_train)}\")\n",
        "print(f\"Validation set size: {len(X_valid)}\")\n",
        "print(f\"Test set size: {len(X_test)}\")\n"
      ],
      "metadata": {
        "colab": {
          "base_uri": "https://localhost:8080/"
        },
        "id": "lQi83MI1msQ9",
        "outputId": "c7b22fda-4a83-420e-971f-ded0c8e689fb"
      },
      "execution_count": 42,
      "outputs": [
        {
          "output_type": "stream",
          "name": "stdout",
          "text": [
            "Training set size: 9171\n",
            "Validation set size: 1020\n",
            "Test set size: 2548\n"
          ]
        }
      ]
    },
    {
      "cell_type": "markdown",
      "source": [
        "## Tokenization"
      ],
      "metadata": {
        "id": "AmAh33y1njdt"
      }
    },
    {
      "cell_type": "code",
      "source": [
        "from transformers import AutoTokenizer\n",
        "\n",
        "# Loading the tokenizer\n",
        "tokenizer = AutoTokenizer.from_pretrained(\"bert-base-uncased\")\n",
        "\n",
        "# Tokenization function\n",
        "def tokenize_data(texts, tokenizer, max_len=128):\n",
        "    return tokenizer(\n",
        "        list(texts),\n",
        "        max_length=max_len,\n",
        "        padding=\"max_length\",\n",
        "        truncation=True,\n",
        "        return_tensors=\"pt\"\n",
        "    )\n"
      ],
      "metadata": {
        "id": "2EXObexrXxR3"
      },
      "execution_count": 43,
      "outputs": []
    },
    {
      "cell_type": "code",
      "source": [
        "# Tokenizing input and target for each set\n",
        "X_train_tokens = tokenize_data(X_train, tokenizer)\n",
        "Y_train_tokens = tokenize_data(Y_train, tokenizer)\n",
        "\n",
        "X_valid_tokens = tokenize_data(X_valid, tokenizer)\n",
        "Y_valid_tokens = tokenize_data(Y_valid, tokenizer)\n",
        "\n",
        "X_test_tokens = tokenize_data(X_test, tokenizer)\n",
        "Y_test_tokens = tokenize_data(Y_test, tokenizer)\n"
      ],
      "metadata": {
        "id": "HqyOjCiwcE3h"
      },
      "execution_count": 44,
      "outputs": []
    },
    {
      "cell_type": "markdown",
      "source": [
        "## Preparing data for PyTorch"
      ],
      "metadata": {
        "id": "HZckOQOYceIK"
      }
    },
    {
      "cell_type": "code",
      "source": [
        "import torch\n",
        "from torch.utils.data import TensorDataset, DataLoader\n",
        "\n",
        "# Create TensorDatasets\n",
        "train_dataset = TensorDataset(\n",
        "    X_train_tokens['input_ids'], X_train_tokens['attention_mask'], Y_train_tokens['input_ids']\n",
        ")\n",
        "valid_dataset = TensorDataset(\n",
        "    X_valid_tokens['input_ids'], X_valid_tokens['attention_mask'], Y_valid_tokens['input_ids']\n",
        ")\n",
        "test_dataset = TensorDataset(\n",
        "    X_test_tokens['input_ids'], X_test_tokens['attention_mask'], Y_test_tokens['input_ids']\n",
        ")\n",
        "\n",
        "# Create DataLoaders\n",
        "BATCH_SIZE = 16\n",
        "\n",
        "train_loader = DataLoader(train_dataset, batch_size=BATCH_SIZE, shuffle=True)\n",
        "valid_loader = DataLoader(valid_dataset, batch_size=BATCH_SIZE)\n",
        "test_loader = DataLoader(test_dataset, batch_size=BATCH_SIZE)\n"
      ],
      "metadata": {
        "id": "owEU6694cVFs"
      },
      "execution_count": 45,
      "outputs": []
    },
    {
      "cell_type": "markdown",
      "source": [
        "# Model training"
      ],
      "metadata": {
        "id": "7C6cdF8IcwU_"
      }
    },
    {
      "cell_type": "markdown",
      "source": [
        "## Defining the Seq2Seq model"
      ],
      "metadata": {
        "id": "CV2SZM6ac2hG"
      }
    },
    {
      "cell_type": "code",
      "source": [
        "import torch.nn as nn\n",
        "\n",
        "class Seq2SeqLSTM(nn.Module):\n",
        "    def __init__(self, input_dim, embed_dim, hidden_dim, output_dim, num_layers):\n",
        "        super(Seq2SeqLSTM, self).__init__()\n",
        "        self.embedding = nn.Embedding(input_dim, embed_dim)\n",
        "        self.encoder = nn.LSTM(embed_dim, hidden_dim, num_layers, batch_first=True)\n",
        "        self.decoder = nn.LSTM(embed_dim, hidden_dim, num_layers, batch_first=True)\n",
        "        self.fc = nn.Linear(hidden_dim, output_dim)\n",
        "\n",
        "    def forward(self, src, trg):\n",
        "        # Encode input\n",
        "        src_embed = self.embedding(src)\n",
        "        _, (hidden, cell) = self.encoder(src_embed)\n",
        "\n",
        "        # Decode output\n",
        "        trg_embed = self.embedding(trg)\n",
        "        outputs, _ = self.decoder(trg_embed, (hidden, cell))\n",
        "\n",
        "        # Predict the next word\n",
        "        predictions = self.fc(outputs)\n",
        "        return predictions\n"
      ],
      "metadata": {
        "id": "v6hPGGSTciSF"
      },
      "execution_count": 46,
      "outputs": []
    },
    {
      "cell_type": "code",
      "source": [
        "INPUT_DIM = tokenizer.vocab_size\n",
        "OUTPUT_DIM = tokenizer.vocab_size\n",
        "EMBEDDING_DIM = 256\n",
        "HIDDEN_DIM = 512\n",
        "NUM_LAYERS = 2\n",
        "\n",
        "# Initialize the model with all required arguments\n",
        "model = Seq2SeqLSTM(INPUT_DIM, EMBEDDING_DIM, HIDDEN_DIM, OUTPUT_DIM, NUM_LAYERS)\n",
        "model.cuda()\n",
        "\n",
        "print(model)"
      ],
      "metadata": {
        "colab": {
          "base_uri": "https://localhost:8080/"
        },
        "id": "kJwwZ26_czER",
        "outputId": "bb2100b6-1bdf-45d0-d782-1da4c28abd2e"
      },
      "execution_count": 47,
      "outputs": [
        {
          "output_type": "stream",
          "name": "stdout",
          "text": [
            "Seq2SeqLSTM(\n",
            "  (embedding): Embedding(30522, 256)\n",
            "  (encoder): LSTM(256, 512, num_layers=2, batch_first=True)\n",
            "  (decoder): LSTM(256, 512, num_layers=2, batch_first=True)\n",
            "  (fc): Linear(in_features=512, out_features=30522, bias=True)\n",
            ")\n"
          ]
        }
      ]
    },
    {
      "cell_type": "markdown",
      "source": [
        "## Training the model"
      ],
      "metadata": {
        "id": "LoWrjrcEeUNF"
      }
    },
    {
      "cell_type": "code",
      "source": [
        "import torch.nn as nn\n",
        "import torch.optim as optim\n",
        "\n",
        "# Loss function and optimizer\n",
        "criterion = nn.CrossEntropyLoss(ignore_index=tokenizer.pad_token_id)\n",
        "optimizer = optim.Adam(model.parameters(), lr=0.001)\n"
      ],
      "metadata": {
        "id": "dpL_GtyYc_gO"
      },
      "execution_count": 48,
      "outputs": []
    },
    {
      "cell_type": "code",
      "source": [
        "def train_epoch(model, dataloader, optimizer, criterion):\n",
        "    model.train()\n",
        "    epoch_loss = 0\n",
        "\n",
        "    for src, attention_mask, trg in dataloader:\n",
        "        src, trg = src.to('cuda'), trg.to('cuda')\n",
        "\n",
        "        # Reset gradients\n",
        "        optimizer.zero_grad()\n",
        "\n",
        "        # Forward pass\n",
        "        output = model(src, trg[:, :-1])  # Exclude the last token in the target sequence\n",
        "        output = output.contiguous().view(-1, output.shape[-1])  # Reshape for loss calculation\n",
        "        trg = trg[:, 1:].contiguous().view(-1)  # Exclude the first token (teacher forcing)\n",
        "\n",
        "        # Compute loss\n",
        "        loss = criterion(output, trg)\n",
        "        loss.backward()\n",
        "\n",
        "        # Update weights\n",
        "        optimizer.step()\n",
        "\n",
        "        epoch_loss += loss.item()\n",
        "\n",
        "    return epoch_loss / len(dataloader)\n",
        "\n",
        "# Example: Train for one epoch\n",
        "train_loss = train_epoch(model, train_loader, optimizer, criterion)\n",
        "print(f\"Training Loss: {train_loss}\")\n"
      ],
      "metadata": {
        "colab": {
          "base_uri": "https://localhost:8080/"
        },
        "id": "D113tGcWeZSb",
        "outputId": "fcd75846-a319-4350-9a35-c651e77a96f7"
      },
      "execution_count": 49,
      "outputs": [
        {
          "output_type": "stream",
          "name": "stdout",
          "text": [
            "Training Loss: 5.774863904361525\n"
          ]
        }
      ]
    },
    {
      "cell_type": "code",
      "source": [
        "import torch.nn as nn\n",
        "from torch.cuda.amp import GradScaler, autocast\n",
        "\n",
        "# Mixed precision training for faster computation\n",
        "scaler = GradScaler()\n",
        "\n",
        "def train_epoch(model, train_loader, optimizer, criterion, device):\n",
        "    model.train()\n",
        "    epoch_loss = 0\n",
        "\n",
        "    for src, attention_mask, trg in train_loader:\n",
        "        src, attention_mask, trg = src.to(device), attention_mask.to(device), trg.to(device)\n",
        "\n",
        "        optimizer.zero_grad()\n",
        "\n",
        "        # Forward pass with mixed precision\n",
        "        with autocast():\n",
        "            output = model(src, trg[:, :-1])  # Exclude the last token in the target sequence\n",
        "            output = output.contiguous().view(-1, output.shape[-1])  # Flatten predictions\n",
        "            trg = trg[:, 1:].contiguous().view(-1)  # Exclude the first token (teacher forcing)\n",
        "\n",
        "            # Compute loss\n",
        "            loss = criterion(output, trg)\n",
        "\n",
        "        # Backward pass and optimizer step\n",
        "        scaler.scale(loss).backward()\n",
        "        scaler.step(optimizer)\n",
        "        scaler.update()\n",
        "\n",
        "        epoch_loss += loss.item()\n",
        "\n",
        "    return epoch_loss / len(train_loader)\n"
      ],
      "metadata": {
        "colab": {
          "base_uri": "https://localhost:8080/"
        },
        "id": "LnFAgaypoRzI",
        "outputId": "934fa8de-946a-4f22-a118-077e38bfad86"
      },
      "execution_count": 50,
      "outputs": [
        {
          "output_type": "stream",
          "name": "stderr",
          "text": [
            "<ipython-input-50-655ab43cc64c>:5: FutureWarning:\n",
            "\n",
            "`torch.cuda.amp.GradScaler(args...)` is deprecated. Please use `torch.amp.GradScaler('cuda', args...)` instead.\n",
            "\n"
          ]
        }
      ]
    },
    {
      "cell_type": "code",
      "source": [
        "def evaluate_epoch(model, valid_loader, criterion, device):\n",
        "    model.eval()\n",
        "    epoch_loss = 0\n",
        "\n",
        "    with torch.no_grad():\n",
        "        for src, attention_mask, trg in valid_loader:\n",
        "            src, attention_mask, trg = src.to(device), attention_mask.to(device), trg.to(device)\n",
        "\n",
        "            with autocast():\n",
        "                output = model(src, trg[:, :-1])\n",
        "                output = output.contiguous().view(-1, output.shape[-1])\n",
        "                trg = trg[:, 1:].contiguous().view(-1)\n",
        "\n",
        "                loss = criterion(output, trg)\n",
        "\n",
        "            epoch_loss += loss.item()\n",
        "\n",
        "    return epoch_loss / len(valid_loader)\n"
      ],
      "metadata": {
        "id": "NTvarpG7ebK4"
      },
      "execution_count": 51,
      "outputs": []
    },
    {
      "cell_type": "code",
      "source": [
        "import torch.optim as optim\n",
        "\n",
        "# Define the optimizer and loss function\n",
        "criterion = nn.CrossEntropyLoss(ignore_index=tokenizer.pad_token_id)\n",
        "optimizer = optim.Adam(model.parameters(), lr=0.001)\n",
        "\n",
        "# Training loop\n",
        "N_EPOCHS = 10\n",
        "device = torch.device('cuda' if torch.cuda.is_available() else 'cpu')\n",
        "\n",
        "# Lists to store losses\n",
        "train_losses = []\n",
        "valid_losses = []\n",
        "\n",
        "for epoch in range(N_EPOCHS):\n",
        "    train_loss = train_epoch(model, train_loader, optimizer, criterion, device)\n",
        "    valid_loss = evaluate_epoch(model, valid_loader, criterion, device)\n",
        "\n",
        "    # Append losses to lists\n",
        "    train_losses.append(train_loss)\n",
        "    valid_losses.append(valid_loss)\n",
        "\n",
        "    print(f\"Epoch {epoch+1}\")\n",
        "    print(f\"Train Loss: {train_loss:.4f} | Validation Loss: {valid_loss:.4f}\")\n"
      ],
      "metadata": {
        "colab": {
          "base_uri": "https://localhost:8080/"
        },
        "id": "8rh0vnODoWMi",
        "outputId": "d7da4053-c096-42c8-9382-22024c768508"
      },
      "execution_count": 64,
      "outputs": [
        {
          "output_type": "stream",
          "name": "stderr",
          "text": [
            "<ipython-input-50-655ab43cc64c>:17: FutureWarning:\n",
            "\n",
            "`torch.cuda.amp.autocast(args...)` is deprecated. Please use `torch.amp.autocast('cuda', args...)` instead.\n",
            "\n",
            "<ipython-input-51-28a3c0cd3987>:9: FutureWarning:\n",
            "\n",
            "`torch.cuda.amp.autocast(args...)` is deprecated. Please use `torch.amp.autocast('cuda', args...)` instead.\n",
            "\n"
          ]
        },
        {
          "output_type": "stream",
          "name": "stdout",
          "text": [
            "Epoch 1\n",
            "Train Loss: 1.7680 | Validation Loss: 3.5527\n",
            "Epoch 2\n",
            "Train Loss: 1.5454 | Validation Loss: 3.6575\n",
            "Epoch 3\n",
            "Train Loss: 1.3887 | Validation Loss: 3.7542\n",
            "Epoch 4\n",
            "Train Loss: 1.2422 | Validation Loss: 3.8370\n",
            "Epoch 5\n",
            "Train Loss: 1.1053 | Validation Loss: 3.9576\n",
            "Epoch 6\n",
            "Train Loss: 0.9772 | Validation Loss: 4.0494\n",
            "Epoch 7\n",
            "Train Loss: 0.8542 | Validation Loss: 4.1582\n",
            "Epoch 8\n",
            "Train Loss: 0.7456 | Validation Loss: 4.2525\n",
            "Epoch 9\n",
            "Train Loss: 0.6468 | Validation Loss: 4.3616\n",
            "Epoch 10\n",
            "Train Loss: 0.5638 | Validation Loss: 4.4798\n"
          ]
        }
      ]
    },
    {
      "cell_type": "code",
      "source": [
        "test_loss = evaluate_epoch(model, test_loader, criterion, device)\n",
        "print(f\"Test Loss: {test_loss:.4f}\")"
      ],
      "metadata": {
        "colab": {
          "base_uri": "https://localhost:8080/"
        },
        "id": "RPVcgXB2oXlD",
        "outputId": "d2d86fcc-051f-469a-bc49-c1a466c62065"
      },
      "execution_count": 53,
      "outputs": [
        {
          "output_type": "stream",
          "name": "stderr",
          "text": [
            "<ipython-input-51-28a3c0cd3987>:9: FutureWarning:\n",
            "\n",
            "`torch.cuda.amp.autocast(args...)` is deprecated. Please use `torch.amp.autocast('cuda', args...)` instead.\n",
            "\n"
          ]
        },
        {
          "output_type": "stream",
          "name": "stdout",
          "text": [
            "Test Loss: 3.5746\n"
          ]
        }
      ]
    },
    {
      "cell_type": "code",
      "source": [
        "def translate_sentence(sentence, model, tokenizer, device, max_len=128):\n",
        "    model.eval()\n",
        "\n",
        "    # Tokenize and prepare input\n",
        "    tokens = tokenizer(sentence, return_tensors=\"pt\", padding=\"max_length\", truncation=True, max_length=max_len)\n",
        "    input_ids = tokens['input_ids'].to(device)\n",
        "\n",
        "    with torch.no_grad():\n",
        "        # Generate predictions\n",
        "        output = model(input_ids, input_ids)  # Using input as a placeholder target\n",
        "        output_tokens = output.argmax(dim=-1)  # Get the most likely token\n",
        "\n",
        "    # Decode the output tokens\n",
        "    return tokenizer.decode(output_tokens[0], skip_special_tokens=True)\n",
        "\n",
        "# Test the translation function\n",
        "sentence = \"I love studying.\"\n",
        "translation = translate_sentence(sentence, model, tokenizer, device)\n",
        "print(f\"Input Sentence: {sentence}\")\n",
        "print(f\"Translated Sentence: {translation}\")\n"
      ],
      "metadata": {
        "colab": {
          "base_uri": "https://localhost:8080/"
        },
        "id": "Z8G4Fg3_psim",
        "outputId": "8215df6d-9389-49be-949f-95530aba7f80"
      },
      "execution_count": 65,
      "outputs": [
        {
          "output_type": "stream",
          "name": "stdout",
          "text": [
            "Input Sentence: I love studying.\n",
            "Translated Sentence: kay3t7aakka\n"
          ]
        }
      ]
    },
    {
      "cell_type": "code",
      "source": [
        "import plotly.express as px\n",
        "import pandas as pd\n",
        "\n",
        "# Create a DataFrame for plotting\n",
        "loss_df = pd.DataFrame({\n",
        "    \"Epoch\": list(range(1, N_EPOCHS + 1)),\n",
        "    \"Training Loss\": train_losses,\n",
        "    \"Validation Loss\": valid_losses\n",
        "})\n",
        "\n",
        "# Melt the DataFrame for Plotly\n",
        "loss_df = loss_df.melt(id_vars=\"Epoch\", var_name=\"Loss Type\", value_name=\"Loss\")\n",
        "\n",
        "# Create the Plotly line plot\n",
        "fig = px.line(\n",
        "    loss_df,\n",
        "    x=\"Epoch\",\n",
        "    y=\"Loss\",\n",
        "    color=\"Loss Type\",\n",
        "    title=\"Training and Validation Loss over Epochs\",\n",
        "    labels={\"Loss\": \"Loss\", \"Loss Type\": \"Type of Loss\"},\n",
        "    markers=True\n",
        ")\n",
        "\n",
        "# Display the plot\n",
        "fig.show()\n"
      ],
      "metadata": {
        "colab": {
          "base_uri": "https://localhost:8080/",
          "height": 562
        },
        "id": "C8CDnOs_pwPF",
        "outputId": "295b9f80-f30f-41da-8a8a-151453fbc1ed"
      },
      "execution_count": 66,
      "outputs": [
        {
          "output_type": "display_data",
          "data": {
            "text/html": [
              "<html>\n",
              "<head><meta charset=\"utf-8\" /></head>\n",
              "<body>\n",
              "    <div>            <script src=\"https://cdnjs.cloudflare.com/ajax/libs/mathjax/2.7.5/MathJax.js?config=TeX-AMS-MML_SVG\"></script><script type=\"text/javascript\">if (window.MathJax && window.MathJax.Hub && window.MathJax.Hub.Config) {window.MathJax.Hub.Config({SVG: {font: \"STIX-Web\"}});}</script>                <script type=\"text/javascript\">window.PlotlyConfig = {MathJaxConfig: 'local'};</script>\n",
              "        <script charset=\"utf-8\" src=\"https://cdn.plot.ly/plotly-2.35.2.min.js\"></script>                <div id=\"1ca3a9ee-c3f6-4176-bde5-af576c933441\" class=\"plotly-graph-div\" style=\"height:525px; width:100%;\"></div>            <script type=\"text/javascript\">                                    window.PLOTLYENV=window.PLOTLYENV || {};                                    if (document.getElementById(\"1ca3a9ee-c3f6-4176-bde5-af576c933441\")) {                    Plotly.newPlot(                        \"1ca3a9ee-c3f6-4176-bde5-af576c933441\",                        [{\"hovertemplate\":\"Type of Loss=Training Loss\\u003cbr\\u003eEpoch=%{x}\\u003cbr\\u003eLoss=%{y}\\u003cextra\\u003e\\u003c\\u002fextra\\u003e\",\"legendgroup\":\"Training Loss\",\"line\":{\"color\":\"#636efa\",\"dash\":\"solid\"},\"marker\":{\"symbol\":\"circle\"},\"mode\":\"lines+markers\",\"name\":\"Training Loss\",\"orientation\":\"v\",\"showlegend\":true,\"x\":[1,2,3,4,5,6,7,8,9,10],\"xaxis\":\"x\",\"y\":[1.7680243054333464,1.5454183848062044,1.3887348164664743,1.2422367882645504,1.1052682982296893,0.9771768672956407,0.8542031926145122,0.7456035924497797,0.6468035531999342,0.5638115642793503],\"yaxis\":\"y\",\"type\":\"scatter\"},{\"hovertemplate\":\"Type of Loss=Validation Loss\\u003cbr\\u003eEpoch=%{x}\\u003cbr\\u003eLoss=%{y}\\u003cextra\\u003e\\u003c\\u002fextra\\u003e\",\"legendgroup\":\"Validation Loss\",\"line\":{\"color\":\"#EF553B\",\"dash\":\"solid\"},\"marker\":{\"symbol\":\"circle\"},\"mode\":\"lines+markers\",\"name\":\"Validation Loss\",\"orientation\":\"v\",\"showlegend\":true,\"x\":[1,2,3,4,5,6,7,8,9,10],\"xaxis\":\"x\",\"y\":[3.552656911313534,3.657517898827791,3.754244174808264,3.83698995038867,3.9575907550752163,4.049375783652067,4.158185817301273,4.252516269683838,4.361583974212408,4.4798006266355515],\"yaxis\":\"y\",\"type\":\"scatter\"}],                        {\"template\":{\"data\":{\"histogram2dcontour\":[{\"type\":\"histogram2dcontour\",\"colorbar\":{\"outlinewidth\":0,\"ticks\":\"\"},\"colorscale\":[[0.0,\"#0d0887\"],[0.1111111111111111,\"#46039f\"],[0.2222222222222222,\"#7201a8\"],[0.3333333333333333,\"#9c179e\"],[0.4444444444444444,\"#bd3786\"],[0.5555555555555556,\"#d8576b\"],[0.6666666666666666,\"#ed7953\"],[0.7777777777777778,\"#fb9f3a\"],[0.8888888888888888,\"#fdca26\"],[1.0,\"#f0f921\"]]}],\"choropleth\":[{\"type\":\"choropleth\",\"colorbar\":{\"outlinewidth\":0,\"ticks\":\"\"}}],\"histogram2d\":[{\"type\":\"histogram2d\",\"colorbar\":{\"outlinewidth\":0,\"ticks\":\"\"},\"colorscale\":[[0.0,\"#0d0887\"],[0.1111111111111111,\"#46039f\"],[0.2222222222222222,\"#7201a8\"],[0.3333333333333333,\"#9c179e\"],[0.4444444444444444,\"#bd3786\"],[0.5555555555555556,\"#d8576b\"],[0.6666666666666666,\"#ed7953\"],[0.7777777777777778,\"#fb9f3a\"],[0.8888888888888888,\"#fdca26\"],[1.0,\"#f0f921\"]]}],\"heatmap\":[{\"type\":\"heatmap\",\"colorbar\":{\"outlinewidth\":0,\"ticks\":\"\"},\"colorscale\":[[0.0,\"#0d0887\"],[0.1111111111111111,\"#46039f\"],[0.2222222222222222,\"#7201a8\"],[0.3333333333333333,\"#9c179e\"],[0.4444444444444444,\"#bd3786\"],[0.5555555555555556,\"#d8576b\"],[0.6666666666666666,\"#ed7953\"],[0.7777777777777778,\"#fb9f3a\"],[0.8888888888888888,\"#fdca26\"],[1.0,\"#f0f921\"]]}],\"heatmapgl\":[{\"type\":\"heatmapgl\",\"colorbar\":{\"outlinewidth\":0,\"ticks\":\"\"},\"colorscale\":[[0.0,\"#0d0887\"],[0.1111111111111111,\"#46039f\"],[0.2222222222222222,\"#7201a8\"],[0.3333333333333333,\"#9c179e\"],[0.4444444444444444,\"#bd3786\"],[0.5555555555555556,\"#d8576b\"],[0.6666666666666666,\"#ed7953\"],[0.7777777777777778,\"#fb9f3a\"],[0.8888888888888888,\"#fdca26\"],[1.0,\"#f0f921\"]]}],\"contourcarpet\":[{\"type\":\"contourcarpet\",\"colorbar\":{\"outlinewidth\":0,\"ticks\":\"\"}}],\"contour\":[{\"type\":\"contour\",\"colorbar\":{\"outlinewidth\":0,\"ticks\":\"\"},\"colorscale\":[[0.0,\"#0d0887\"],[0.1111111111111111,\"#46039f\"],[0.2222222222222222,\"#7201a8\"],[0.3333333333333333,\"#9c179e\"],[0.4444444444444444,\"#bd3786\"],[0.5555555555555556,\"#d8576b\"],[0.6666666666666666,\"#ed7953\"],[0.7777777777777778,\"#fb9f3a\"],[0.8888888888888888,\"#fdca26\"],[1.0,\"#f0f921\"]]}],\"surface\":[{\"type\":\"surface\",\"colorbar\":{\"outlinewidth\":0,\"ticks\":\"\"},\"colorscale\":[[0.0,\"#0d0887\"],[0.1111111111111111,\"#46039f\"],[0.2222222222222222,\"#7201a8\"],[0.3333333333333333,\"#9c179e\"],[0.4444444444444444,\"#bd3786\"],[0.5555555555555556,\"#d8576b\"],[0.6666666666666666,\"#ed7953\"],[0.7777777777777778,\"#fb9f3a\"],[0.8888888888888888,\"#fdca26\"],[1.0,\"#f0f921\"]]}],\"mesh3d\":[{\"type\":\"mesh3d\",\"colorbar\":{\"outlinewidth\":0,\"ticks\":\"\"}}],\"scatter\":[{\"fillpattern\":{\"fillmode\":\"overlay\",\"size\":10,\"solidity\":0.2},\"type\":\"scatter\"}],\"parcoords\":[{\"type\":\"parcoords\",\"line\":{\"colorbar\":{\"outlinewidth\":0,\"ticks\":\"\"}}}],\"scatterpolargl\":[{\"type\":\"scatterpolargl\",\"marker\":{\"colorbar\":{\"outlinewidth\":0,\"ticks\":\"\"}}}],\"bar\":[{\"error_x\":{\"color\":\"#2a3f5f\"},\"error_y\":{\"color\":\"#2a3f5f\"},\"marker\":{\"line\":{\"color\":\"#E5ECF6\",\"width\":0.5},\"pattern\":{\"fillmode\":\"overlay\",\"size\":10,\"solidity\":0.2}},\"type\":\"bar\"}],\"scattergeo\":[{\"type\":\"scattergeo\",\"marker\":{\"colorbar\":{\"outlinewidth\":0,\"ticks\":\"\"}}}],\"scatterpolar\":[{\"type\":\"scatterpolar\",\"marker\":{\"colorbar\":{\"outlinewidth\":0,\"ticks\":\"\"}}}],\"histogram\":[{\"marker\":{\"pattern\":{\"fillmode\":\"overlay\",\"size\":10,\"solidity\":0.2}},\"type\":\"histogram\"}],\"scattergl\":[{\"type\":\"scattergl\",\"marker\":{\"colorbar\":{\"outlinewidth\":0,\"ticks\":\"\"}}}],\"scatter3d\":[{\"type\":\"scatter3d\",\"line\":{\"colorbar\":{\"outlinewidth\":0,\"ticks\":\"\"}},\"marker\":{\"colorbar\":{\"outlinewidth\":0,\"ticks\":\"\"}}}],\"scattermapbox\":[{\"type\":\"scattermapbox\",\"marker\":{\"colorbar\":{\"outlinewidth\":0,\"ticks\":\"\"}}}],\"scatterternary\":[{\"type\":\"scatterternary\",\"marker\":{\"colorbar\":{\"outlinewidth\":0,\"ticks\":\"\"}}}],\"scattercarpet\":[{\"type\":\"scattercarpet\",\"marker\":{\"colorbar\":{\"outlinewidth\":0,\"ticks\":\"\"}}}],\"carpet\":[{\"aaxis\":{\"endlinecolor\":\"#2a3f5f\",\"gridcolor\":\"white\",\"linecolor\":\"white\",\"minorgridcolor\":\"white\",\"startlinecolor\":\"#2a3f5f\"},\"baxis\":{\"endlinecolor\":\"#2a3f5f\",\"gridcolor\":\"white\",\"linecolor\":\"white\",\"minorgridcolor\":\"white\",\"startlinecolor\":\"#2a3f5f\"},\"type\":\"carpet\"}],\"table\":[{\"cells\":{\"fill\":{\"color\":\"#EBF0F8\"},\"line\":{\"color\":\"white\"}},\"header\":{\"fill\":{\"color\":\"#C8D4E3\"},\"line\":{\"color\":\"white\"}},\"type\":\"table\"}],\"barpolar\":[{\"marker\":{\"line\":{\"color\":\"#E5ECF6\",\"width\":0.5},\"pattern\":{\"fillmode\":\"overlay\",\"size\":10,\"solidity\":0.2}},\"type\":\"barpolar\"}],\"pie\":[{\"automargin\":true,\"type\":\"pie\"}]},\"layout\":{\"autotypenumbers\":\"strict\",\"colorway\":[\"#636efa\",\"#EF553B\",\"#00cc96\",\"#ab63fa\",\"#FFA15A\",\"#19d3f3\",\"#FF6692\",\"#B6E880\",\"#FF97FF\",\"#FECB52\"],\"font\":{\"color\":\"#2a3f5f\"},\"hovermode\":\"closest\",\"hoverlabel\":{\"align\":\"left\"},\"paper_bgcolor\":\"white\",\"plot_bgcolor\":\"#E5ECF6\",\"polar\":{\"bgcolor\":\"#E5ECF6\",\"angularaxis\":{\"gridcolor\":\"white\",\"linecolor\":\"white\",\"ticks\":\"\"},\"radialaxis\":{\"gridcolor\":\"white\",\"linecolor\":\"white\",\"ticks\":\"\"}},\"ternary\":{\"bgcolor\":\"#E5ECF6\",\"aaxis\":{\"gridcolor\":\"white\",\"linecolor\":\"white\",\"ticks\":\"\"},\"baxis\":{\"gridcolor\":\"white\",\"linecolor\":\"white\",\"ticks\":\"\"},\"caxis\":{\"gridcolor\":\"white\",\"linecolor\":\"white\",\"ticks\":\"\"}},\"coloraxis\":{\"colorbar\":{\"outlinewidth\":0,\"ticks\":\"\"}},\"colorscale\":{\"sequential\":[[0.0,\"#0d0887\"],[0.1111111111111111,\"#46039f\"],[0.2222222222222222,\"#7201a8\"],[0.3333333333333333,\"#9c179e\"],[0.4444444444444444,\"#bd3786\"],[0.5555555555555556,\"#d8576b\"],[0.6666666666666666,\"#ed7953\"],[0.7777777777777778,\"#fb9f3a\"],[0.8888888888888888,\"#fdca26\"],[1.0,\"#f0f921\"]],\"sequentialminus\":[[0.0,\"#0d0887\"],[0.1111111111111111,\"#46039f\"],[0.2222222222222222,\"#7201a8\"],[0.3333333333333333,\"#9c179e\"],[0.4444444444444444,\"#bd3786\"],[0.5555555555555556,\"#d8576b\"],[0.6666666666666666,\"#ed7953\"],[0.7777777777777778,\"#fb9f3a\"],[0.8888888888888888,\"#fdca26\"],[1.0,\"#f0f921\"]],\"diverging\":[[0,\"#8e0152\"],[0.1,\"#c51b7d\"],[0.2,\"#de77ae\"],[0.3,\"#f1b6da\"],[0.4,\"#fde0ef\"],[0.5,\"#f7f7f7\"],[0.6,\"#e6f5d0\"],[0.7,\"#b8e186\"],[0.8,\"#7fbc41\"],[0.9,\"#4d9221\"],[1,\"#276419\"]]},\"xaxis\":{\"gridcolor\":\"white\",\"linecolor\":\"white\",\"ticks\":\"\",\"title\":{\"standoff\":15},\"zerolinecolor\":\"white\",\"automargin\":true,\"zerolinewidth\":2},\"yaxis\":{\"gridcolor\":\"white\",\"linecolor\":\"white\",\"ticks\":\"\",\"title\":{\"standoff\":15},\"zerolinecolor\":\"white\",\"automargin\":true,\"zerolinewidth\":2},\"scene\":{\"xaxis\":{\"backgroundcolor\":\"#E5ECF6\",\"gridcolor\":\"white\",\"linecolor\":\"white\",\"showbackground\":true,\"ticks\":\"\",\"zerolinecolor\":\"white\",\"gridwidth\":2},\"yaxis\":{\"backgroundcolor\":\"#E5ECF6\",\"gridcolor\":\"white\",\"linecolor\":\"white\",\"showbackground\":true,\"ticks\":\"\",\"zerolinecolor\":\"white\",\"gridwidth\":2},\"zaxis\":{\"backgroundcolor\":\"#E5ECF6\",\"gridcolor\":\"white\",\"linecolor\":\"white\",\"showbackground\":true,\"ticks\":\"\",\"zerolinecolor\":\"white\",\"gridwidth\":2}},\"shapedefaults\":{\"line\":{\"color\":\"#2a3f5f\"}},\"annotationdefaults\":{\"arrowcolor\":\"#2a3f5f\",\"arrowhead\":0,\"arrowwidth\":1},\"geo\":{\"bgcolor\":\"white\",\"landcolor\":\"#E5ECF6\",\"subunitcolor\":\"white\",\"showland\":true,\"showlakes\":true,\"lakecolor\":\"white\"},\"title\":{\"x\":0.05},\"mapbox\":{\"style\":\"light\"}}},\"xaxis\":{\"anchor\":\"y\",\"domain\":[0.0,1.0],\"title\":{\"text\":\"Epoch\"}},\"yaxis\":{\"anchor\":\"x\",\"domain\":[0.0,1.0],\"title\":{\"text\":\"Loss\"}},\"legend\":{\"title\":{\"text\":\"Type of Loss\"},\"tracegroupgap\":0},\"title\":{\"text\":\"Training and Validation Loss over Epochs\"}},                        {\"responsive\": true}                    ).then(function(){\n",
              "                            \n",
              "var gd = document.getElementById('1ca3a9ee-c3f6-4176-bde5-af576c933441');\n",
              "var x = new MutationObserver(function (mutations, observer) {{\n",
              "        var display = window.getComputedStyle(gd).display;\n",
              "        if (!display || display === 'none') {{\n",
              "            console.log([gd, 'removed!']);\n",
              "            Plotly.purge(gd);\n",
              "            observer.disconnect();\n",
              "        }}\n",
              "}});\n",
              "\n",
              "// Listen for the removal of the full notebook cells\n",
              "var notebookContainer = gd.closest('#notebook-container');\n",
              "if (notebookContainer) {{\n",
              "    x.observe(notebookContainer, {childList: true});\n",
              "}}\n",
              "\n",
              "// Listen for the clearing of the current output cell\n",
              "var outputEl = gd.closest('.output');\n",
              "if (outputEl) {{\n",
              "    x.observe(outputEl, {childList: true});\n",
              "}}\n",
              "\n",
              "                        })                };                            </script>        </div>\n",
              "</body>\n",
              "</html>"
            ]
          },
          "metadata": {}
        }
      ]
    },
    {
      "cell_type": "code",
      "source": [
        "torch.save(model.state_dict(), \"seq2seq_model.pth\")"
      ],
      "metadata": {
        "id": "5-uJiAK1p0je"
      },
      "execution_count": 67,
      "outputs": []
    },
    {
      "cell_type": "code",
      "source": [
        "# Replace NaN with empty strings for tokenization\n",
        "generalization_df['eng'] = generalization_df['eng'].fillna(\"\")\n",
        "\n",
        "# Tokenize the generalization dataset\n",
        "generalization_inputs = tokenize_data(generalization_df['eng'], tokenizer)\n",
        "generalization_targets = tokenize_data(generalization_df['darija_ar'], tokenizer)\n",
        "\n",
        "# Create DataLoader\n",
        "generalization_dataset = TensorDataset(\n",
        "    generalization_inputs['input_ids'],\n",
        "    generalization_inputs['attention_mask'],\n",
        "    generalization_targets['input_ids']\n",
        ")\n",
        "generalization_loader = DataLoader(generalization_dataset, batch_size=16)\n"
      ],
      "metadata": {
        "id": "w6ljPSyDs1qf"
      },
      "execution_count": 68,
      "outputs": []
    },
    {
      "cell_type": "code",
      "source": [
        "generalization_loss = evaluate_epoch(model, generalization_loader, criterion, device)\n",
        "print(f\"Generalization Loss: {generalization_loss:.4f}\")\n"
      ],
      "metadata": {
        "colab": {
          "base_uri": "https://localhost:8080/"
        },
        "id": "1hnpr1U_vzEu",
        "outputId": "5bc0c158-46fa-4f70-8bd7-05cbe9830020"
      },
      "execution_count": 69,
      "outputs": [
        {
          "output_type": "stream",
          "name": "stderr",
          "text": [
            "<ipython-input-51-28a3c0cd3987>:9: FutureWarning:\n",
            "\n",
            "`torch.cuda.amp.autocast(args...)` is deprecated. Please use `torch.amp.autocast('cuda', args...)` instead.\n",
            "\n"
          ]
        },
        {
          "output_type": "stream",
          "name": "stdout",
          "text": [
            "Generalization Loss: 30.9637\n"
          ]
        }
      ]
    },
    {
      "cell_type": "code",
      "source": [
        "# Get a few samples from the test set\n",
        "samples = list(zip(X_test[:5], Y_test[:5]))  # Replace with your test data\n",
        "predictions = []\n",
        "\n",
        "for sample in samples:\n",
        "    input_sentence = sample[0]\n",
        "    actual_translation = sample[1]\n",
        "    predicted_translation = translate_sentence(input_sentence, model, tokenizer, device)\n",
        "\n",
        "    predictions.append((input_sentence, actual_translation, predicted_translation))\n",
        "\n",
        "# Display results\n",
        "for input_sentence, actual_translation, predicted_translation in predictions:\n",
        "    print(f\"Input Sentence: {input_sentence}\")\n",
        "    print(f\"Actual Translation: {actual_translation}\")\n",
        "    print(f\"Predicted Translation: {predicted_translation}\")\n",
        "    print(\"-\" * 50)\n"
      ],
      "metadata": {
        "colab": {
          "base_uri": "https://localhost:8080/"
        },
        "id": "oLz9U_94v93j",
        "outputId": "59023dd7-727b-469c-bc20-db7cae8693c8"
      },
      "execution_count": 70,
      "outputs": [
        {
          "output_type": "stream",
          "name": "stdout",
          "text": [
            "Input Sentence: where is the fitting room?\n",
            "Actual Translation: fin jat blassa dial t9yass ?\n",
            "Predicted Translation: fininklaknia?a\n",
            "--------------------------------------------------\n",
            "Input Sentence: you'd better wear a light jacket\n",
            "Actual Translation: 7ssen tlbess chi jaketa 5fifa\n",
            "Predicted Translation: kta kkza fcalmts\n",
            "--------------------------------------------------\n",
            "Input Sentence: the laptop doesn't work anymore\n",
            "Actual Translation: l pissi khser lia\n",
            "Predicted Translation: lplakismma\n",
            "--------------------------------------------------\n",
            "Input Sentence: Smile!\n",
            "Actual Translation: d7ek!\n",
            "Predicted Translation: t3iem\n",
            "--------------------------------------------------\n",
            "Input Sentence: Oh no poor you\n",
            "Actual Translation: oh la, mskin\n",
            "Predicted Translation: oh lalalaaakh\n",
            "--------------------------------------------------\n"
          ]
        }
      ]
    },
    {
      "cell_type": "code",
      "source": [
        "pip install sacrebleu"
      ],
      "metadata": {
        "colab": {
          "base_uri": "https://localhost:8080/"
        },
        "id": "9NK2c9-4wY51",
        "outputId": "d006d005-2e49-43ee-c817-3d97aca41d8b"
      },
      "execution_count": 71,
      "outputs": [
        {
          "output_type": "stream",
          "name": "stdout",
          "text": [
            "Collecting sacrebleu\n",
            "  Downloading sacrebleu-2.4.3-py3-none-any.whl.metadata (51 kB)\n",
            "\u001b[?25l     \u001b[90m━━━━━━━━━━━━━━━━━━━━━━━━━━━━━━━━━━━━━━━━\u001b[0m \u001b[32m0.0/51.8 kB\u001b[0m \u001b[31m?\u001b[0m eta \u001b[36m-:--:--\u001b[0m\r\u001b[2K     \u001b[90m━━━━━━━━━━━━━━━━━━━━━━━━━━━━━━━━━━━━━━━━\u001b[0m \u001b[32m51.8/51.8 kB\u001b[0m \u001b[31m3.3 MB/s\u001b[0m eta \u001b[36m0:00:00\u001b[0m\n",
            "\u001b[?25hCollecting portalocker (from sacrebleu)\n",
            "  Downloading portalocker-3.0.0-py3-none-any.whl.metadata (8.5 kB)\n",
            "Requirement already satisfied: regex in /usr/local/lib/python3.10/dist-packages (from sacrebleu) (2024.9.11)\n",
            "Requirement already satisfied: tabulate>=0.8.9 in /usr/local/lib/python3.10/dist-packages (from sacrebleu) (0.9.0)\n",
            "Requirement already satisfied: numpy>=1.17 in /usr/local/lib/python3.10/dist-packages (from sacrebleu) (1.26.4)\n",
            "Collecting colorama (from sacrebleu)\n",
            "  Downloading colorama-0.4.6-py2.py3-none-any.whl.metadata (17 kB)\n",
            "Requirement already satisfied: lxml in /usr/local/lib/python3.10/dist-packages (from sacrebleu) (5.3.0)\n",
            "Downloading sacrebleu-2.4.3-py3-none-any.whl (103 kB)\n",
            "\u001b[2K   \u001b[90m━━━━━━━━━━━━━━━━━━━━━━━━━━━━━━━━━━━━━━━━\u001b[0m \u001b[32m104.0/104.0 kB\u001b[0m \u001b[31m7.1 MB/s\u001b[0m eta \u001b[36m0:00:00\u001b[0m\n",
            "\u001b[?25hDownloading colorama-0.4.6-py2.py3-none-any.whl (25 kB)\n",
            "Downloading portalocker-3.0.0-py3-none-any.whl (19 kB)\n",
            "Installing collected packages: portalocker, colorama, sacrebleu\n",
            "Successfully installed colorama-0.4.6 portalocker-3.0.0 sacrebleu-2.4.3\n"
          ]
        }
      ]
    },
    {
      "cell_type": "code",
      "source": [
        "import sacrebleu\n",
        "\n",
        "# Prepare actual and predicted translations\n",
        "actuals = [tokenizer.decode(target, skip_special_tokens=True) for target in Y_test_tokens['input_ids']]\n",
        "predictions = [translate_sentence(sentence, model, tokenizer, device) for sentence in X_test]\n",
        "\n",
        "# Calculate BLEU score\n",
        "bleu = sacrebleu.corpus_bleu(predictions, [actuals])\n",
        "print(f\"BLEU Score: {bleu.score}\")"
      ],
      "metadata": {
        "colab": {
          "base_uri": "https://localhost:8080/"
        },
        "id": "KtKHFBGywjzT",
        "outputId": "50aab56e-4b05-4d27-96de-b81685010800"
      },
      "execution_count": 72,
      "outputs": [
        {
          "output_type": "stream",
          "name": "stdout",
          "text": [
            "BLEU Score: 0.1720707145246792\n"
          ]
        }
      ]
    },
    {
      "cell_type": "code",
      "source": [
        "pip install python-Levenshtein"
      ],
      "metadata": {
        "colab": {
          "base_uri": "https://localhost:8080/"
        },
        "id": "Zf04lK14wno9",
        "outputId": "3faa7f0a-5065-4d57-e0c7-7d907143fc62"
      },
      "execution_count": 73,
      "outputs": [
        {
          "output_type": "stream",
          "name": "stdout",
          "text": [
            "Collecting python-Levenshtein\n",
            "  Downloading python_Levenshtein-0.26.1-py3-none-any.whl.metadata (3.7 kB)\n",
            "Collecting Levenshtein==0.26.1 (from python-Levenshtein)\n",
            "  Downloading levenshtein-0.26.1-cp310-cp310-manylinux_2_17_x86_64.manylinux2014_x86_64.whl.metadata (3.2 kB)\n",
            "Collecting rapidfuzz<4.0.0,>=3.9.0 (from Levenshtein==0.26.1->python-Levenshtein)\n",
            "  Downloading rapidfuzz-3.10.1-cp310-cp310-manylinux_2_17_x86_64.manylinux2014_x86_64.whl.metadata (11 kB)\n",
            "Downloading python_Levenshtein-0.26.1-py3-none-any.whl (9.4 kB)\n",
            "Downloading levenshtein-0.26.1-cp310-cp310-manylinux_2_17_x86_64.manylinux2014_x86_64.whl (162 kB)\n",
            "\u001b[2K   \u001b[90m━━━━━━━━━━━━━━━━━━━━━━━━━━━━━━━━━━━━━━━━\u001b[0m \u001b[32m162.6/162.6 kB\u001b[0m \u001b[31m3.9 MB/s\u001b[0m eta \u001b[36m0:00:00\u001b[0m\n",
            "\u001b[?25hDownloading rapidfuzz-3.10.1-cp310-cp310-manylinux_2_17_x86_64.manylinux2014_x86_64.whl (3.1 MB)\n",
            "\u001b[2K   \u001b[90m━━━━━━━━━━━━━━━━━━━━━━━━━━━━━━━━━━━━━━━━\u001b[0m \u001b[32m3.1/3.1 MB\u001b[0m \u001b[31m34.9 MB/s\u001b[0m eta \u001b[36m0:00:00\u001b[0m\n",
            "\u001b[?25hInstalling collected packages: rapidfuzz, Levenshtein, python-Levenshtein\n",
            "Successfully installed Levenshtein-0.26.1 python-Levenshtein-0.26.1 rapidfuzz-3.10.1\n"
          ]
        }
      ]
    },
    {
      "cell_type": "code",
      "source": [
        "import Levenshtein\n",
        "\n",
        "# Compute average edit distance\n",
        "edit_distances = [\n",
        "    Levenshtein.distance(actual, predicted)\n",
        "    for actual, predicted in zip(actuals, predictions)\n",
        "]\n",
        "average_edit_distance = sum(edit_distances) / len(edit_distances)\n",
        "print(f\"Average Edit Distance: {average_edit_distance}\")"
      ],
      "metadata": {
        "colab": {
          "base_uri": "https://localhost:8080/"
        },
        "id": "6HwIKPW-xLrT",
        "outputId": "a45b91e0-c858-4a1f-f0d2-3ca64a43301d"
      },
      "execution_count": 74,
      "outputs": [
        {
          "output_type": "stream",
          "name": "stdout",
          "text": [
            "Average Edit Distance: 21.085949764521192\n"
          ]
        }
      ]
    },
    {
      "cell_type": "markdown",
      "source": [
        "# Implementing Advanced LSTM Cells"
      ],
      "metadata": {
        "id": "hwFpO30Zy1iy"
      }
    },
    {
      "cell_type": "markdown",
      "source": [
        "## Peephole LSTM cell"
      ],
      "metadata": {
        "id": "FfiOJYPCy42Y"
      }
    },
    {
      "cell_type": "code",
      "source": [
        "import torch\n",
        "import torch.nn as nn\n",
        "import torch.nn.functional as F\n",
        "\n",
        "class PeepholeLSTMCell(nn.Module):\n",
        "    def __init__(self, input_dim, hidden_dim):\n",
        "        super(PeepholeLSTMCell, self).__init__()\n",
        "        self.input_dim = input_dim\n",
        "        self.hidden_dim = hidden_dim\n",
        "\n",
        "        # Weights for input, forget, and output gates\n",
        "        self.Wxi = nn.Linear(input_dim, hidden_dim)\n",
        "        self.Whi = nn.Linear(hidden_dim, hidden_dim)\n",
        "        self.Wci = nn.Parameter(torch.zeros(hidden_dim))\n",
        "\n",
        "        self.Wxf = nn.Linear(input_dim, hidden_dim)\n",
        "        self.Whf = nn.Linear(hidden_dim, hidden_dim)\n",
        "        self.Wcf = nn.Parameter(torch.zeros(hidden_dim))\n",
        "\n",
        "        self.Wxo = nn.Linear(input_dim, hidden_dim)\n",
        "        self.Who = nn.Linear(hidden_dim, hidden_dim)\n",
        "        self.Wco = nn.Parameter(torch.zeros(hidden_dim))\n",
        "\n",
        "        # Cell state update\n",
        "        self.Wxc = nn.Linear(input_dim, hidden_dim)\n",
        "        self.Whc = nn.Linear(hidden_dim, hidden_dim)\n",
        "\n",
        "    def forward(self, x, h_prev, c_prev):\n",
        "        # Gates with peephole connections\n",
        "        i_t = torch.sigmoid(self.Wxi(x) + self.Whi(h_prev) + self.Wci * c_prev)\n",
        "        f_t = torch.sigmoid(self.Wxf(x) + self.Whf(h_prev) + self.Wcf * c_prev)\n",
        "        o_t = torch.sigmoid(self.Wxo(x) + self.Who(h_prev) + self.Wco * c_prev)\n",
        "\n",
        "        # Cell state update\n",
        "        c_tilde = torch.tanh(self.Wxc(x) + self.Whc(h_prev))\n",
        "        c_t = f_t * c_prev + i_t * c_tilde\n",
        "\n",
        "        # Hidden state\n",
        "        h_t = o_t * torch.tanh(c_t)\n",
        "\n",
        "        return h_t, c_t\n"
      ],
      "metadata": {
        "id": "hhQtSFCxxThW"
      },
      "execution_count": 76,
      "outputs": []
    },
    {
      "cell_type": "markdown",
      "source": [
        "## Working memory LSTM cell"
      ],
      "metadata": {
        "id": "0M04EEyV0QbU"
      }
    },
    {
      "cell_type": "code",
      "source": [
        "class WorkingMemoryLSTMCell(nn.Module):\n",
        "    def __init__(self, input_dim, hidden_dim):\n",
        "        super(WorkingMemoryLSTMCell, self).__init__()\n",
        "        self.input_dim = input_dim\n",
        "        self.hidden_dim = hidden_dim\n",
        "\n",
        "        # Gates\n",
        "        self.Wxi = nn.Linear(input_dim, hidden_dim)\n",
        "        self.Whi = nn.Linear(hidden_dim, hidden_dim)\n",
        "        self.Wci = nn.Parameter(torch.zeros(hidden_dim))\n",
        "\n",
        "        self.Wxf = nn.Linear(input_dim, hidden_dim)\n",
        "        self.Whf = nn.Linear(hidden_dim, hidden_dim)\n",
        "        self.Wcf = nn.Parameter(torch.zeros(hidden_dim))\n",
        "\n",
        "        self.Wxo = nn.Linear(input_dim, hidden_dim)\n",
        "        self.Who = nn.Linear(hidden_dim, hidden_dim)\n",
        "        self.Wco = nn.Parameter(torch.zeros(hidden_dim))\n",
        "\n",
        "        # Cell state\n",
        "        self.Wxc = nn.Linear(input_dim, hidden_dim)\n",
        "        self.Whc = nn.Linear(hidden_dim, hidden_dim)\n",
        "\n",
        "    def forward(self, x, h_prev, c_prev):\n",
        "        i_t = torch.sigmoid(self.Wxi(x) + self.Whi(h_prev) + torch.tanh(self.Wci * c_prev))\n",
        "        f_t = torch.sigmoid(self.Wxf(x) + self.Whf(h_prev) + torch.tanh(self.Wcf * c_prev))\n",
        "        o_t = torch.sigmoid(self.Wxo(x) + self.Who(h_prev) + torch.tanh(self.Wco * c_prev))\n",
        "\n",
        "        c_tilde = torch.tanh(self.Wxc(x) + self.Whc(h_prev))\n",
        "        c_t = f_t * c_prev + i_t * c_tilde\n",
        "        h_t = o_t * torch.tanh(c_t)\n",
        "\n",
        "        return h_t, c_t\n"
      ],
      "metadata": {
        "id": "_dDHIXMzy8En"
      },
      "execution_count": 77,
      "outputs": []
    },
    {
      "cell_type": "markdown",
      "source": [
        "## Integrating the custom LSTM cell into the model"
      ],
      "metadata": {
        "id": "LXMGJ8dN0xKi"
      }
    },
    {
      "cell_type": "code",
      "source": [
        "class AdvancedLSTM(nn.Module):\n",
        "    def __init__(self, input_dim, hidden_dim, output_dim, cell_type='peephole'):\n",
        "        super(AdvancedLSTM, self).__init__()\n",
        "        self.hidden_dim = hidden_dim\n",
        "\n",
        "        # Embedding layer to convert token indices into dense vectors\n",
        "        self.embedding = nn.Embedding(input_dim, hidden_dim)\n",
        "\n",
        "        # Choose the LSTM cell type\n",
        "        if cell_type == 'peephole':\n",
        "            self.cell = PeepholeLSTMCell(hidden_dim, hidden_dim)\n",
        "        elif cell_type == 'working_memory':\n",
        "            self.cell = WorkingMemoryLSTMCell(hidden_dim, hidden_dim)\n",
        "        elif cell_type == 'combined':\n",
        "            self.cell = CombinedLSTMCell(hidden_dim, hidden_dim)\n",
        "\n",
        "        # Fully connected layer for output\n",
        "        self.fc = nn.Linear(hidden_dim, output_dim)\n",
        "\n",
        "    def forward(self, x):\n",
        "        # Pass the input through the embedding layer\n",
        "        x = self.embedding(x)  # Shape: (batch_size, seq_len, hidden_dim)\n",
        "\n",
        "        batch_size, seq_len, _ = x.size()\n",
        "        h, c = (\n",
        "            torch.zeros(batch_size, self.hidden_dim).to(x.device),\n",
        "            torch.zeros(batch_size, self.hidden_dim).to(x.device),\n",
        "        )\n",
        "\n",
        "        outputs = []\n",
        "        for t in range(seq_len):\n",
        "            h, c = self.cell(x[:, t, :], h, c)\n",
        "            outputs.append(h)\n",
        "\n",
        "        outputs = torch.stack(outputs, dim=1)  # Shape: (batch_size, seq_len, hidden_dim)\n",
        "        outputs = self.fc(outputs)  # Shape: (batch_size, seq_len, output_dim)\n",
        "\n",
        "        return outputs\n"
      ],
      "metadata": {
        "id": "8__L0G_60fUu"
      },
      "execution_count": 84,
      "outputs": []
    },
    {
      "cell_type": "markdown",
      "source": [
        "## Training and evaluating the model"
      ],
      "metadata": {
        "id": "epKWbaZJ07Ev"
      }
    },
    {
      "cell_type": "code",
      "source": [
        "def train_epoch(model, dataloader, optimizer, criterion, device):\n",
        "    model.train()\n",
        "    epoch_loss = 0\n",
        "\n",
        "    for input_ids, attention_mask, trg in dataloader:  # Unpacking all three\n",
        "        input_ids, attention_mask, trg = (\n",
        "            input_ids.to(device),\n",
        "            attention_mask.to(device),\n",
        "            trg.to(device)\n",
        "        )\n",
        "\n",
        "        optimizer.zero_grad()\n",
        "\n",
        "        # Forward pass\n",
        "        output = model(input_ids)  # Pass only the input_ids\n",
        "        output = output.view(-1, output.size(-1))  # Flatten for loss calculation\n",
        "        trg = trg.view(-1)\n",
        "\n",
        "        # Compute loss\n",
        "        loss = criterion(output, trg)\n",
        "        loss.backward()\n",
        "\n",
        "        # Update weights\n",
        "        optimizer.step()\n",
        "\n",
        "        epoch_loss += loss.item()\n",
        "\n",
        "    return epoch_loss / len(dataloader)\n",
        "\n",
        "\n",
        "def evaluate_epoch(model, dataloader, criterion, device):\n",
        "    model.eval()\n",
        "    epoch_loss = 0\n",
        "\n",
        "    with torch.no_grad():\n",
        "        for input_ids, attention_mask, trg in dataloader:  # Unpacking all three\n",
        "            input_ids, attention_mask, trg = (\n",
        "                input_ids.to(device),\n",
        "                attention_mask.to(device),\n",
        "                trg.to(device)\n",
        "            )\n",
        "\n",
        "            # Forward pass\n",
        "            output = model(input_ids)\n",
        "            output = output.view(-1, output.size(-1))\n",
        "            trg = trg.view(-1)\n",
        "\n",
        "            # Compute loss\n",
        "            loss = criterion(output, trg)\n",
        "            epoch_loss += loss.item()\n",
        "\n",
        "    return epoch_loss / len(dataloader)\n"
      ],
      "metadata": {
        "id": "MC_Ti77p00Xc"
      },
      "execution_count": 81,
      "outputs": []
    },
    {
      "cell_type": "code",
      "source": [
        "input_dim = tokenizer.vocab_size\n",
        "output_dim = tokenizer.vocab_size\n",
        "hidden_dim = 512\n",
        "device = torch.device('cuda' if torch.cuda.is_available() else 'cpu')\n",
        "\n",
        "for cell_type in ['peephole', 'working_memory']:\n",
        "    print(f\"Training {cell_type} LSTM\")\n",
        "\n",
        "    model = AdvancedLSTM(input_dim, hidden_dim, output_dim, cell_type=cell_type).to(device)\n",
        "    optimizer = torch.optim.Adam(model.parameters(), lr=0.001)\n",
        "    criterion = nn.CrossEntropyLoss(ignore_index=tokenizer.pad_token_id)\n",
        "\n",
        "    N_EPOCHS = 10\n",
        "    for epoch in range(N_EPOCHS):\n",
        "        train_loss = train_epoch(model, train_loader, optimizer, criterion, device)\n",
        "        valid_loss = evaluate_epoch(model, valid_loader, criterion, device)\n",
        "\n",
        "        print(f\"Epoch {epoch+1}: Train Loss = {train_loss:.4f}, Valid Loss = {valid_loss:.4f}\")\n",
        "\n",
        "    # Save the model\n",
        "    torch.save(model.state_dict(), f\"{cell_type}_lstm_model.pth\")\n"
      ],
      "metadata": {
        "colab": {
          "base_uri": "https://localhost:8080/"
        },
        "id": "pOsafsTc1CZO",
        "outputId": "1b56ce50-627f-4ab1-9f48-ec05c13afa73"
      },
      "execution_count": 85,
      "outputs": [
        {
          "output_type": "stream",
          "name": "stdout",
          "text": [
            "Training peephole LSTM\n",
            "Epoch 1: Train Loss = 5.0563, Valid Loss = 4.6561\n",
            "Epoch 2: Train Loss = 4.3699, Valid Loss = 4.4491\n",
            "Epoch 3: Train Loss = 3.9063, Valid Loss = 4.3684\n",
            "Epoch 4: Train Loss = 3.4355, Valid Loss = 4.3599\n",
            "Epoch 5: Train Loss = 2.9902, Valid Loss = 4.4137\n",
            "Epoch 6: Train Loss = 2.5877, Valid Loss = 4.5148\n",
            "Epoch 7: Train Loss = 2.2431, Valid Loss = 4.6240\n",
            "Epoch 8: Train Loss = 1.9637, Valid Loss = 4.7437\n",
            "Epoch 9: Train Loss = 1.7325, Valid Loss = 4.9059\n",
            "Epoch 10: Train Loss = 1.5505, Valid Loss = 5.0608\n",
            "Training working_memory LSTM\n",
            "Epoch 1: Train Loss = 5.0507, Valid Loss = 4.6576\n",
            "Epoch 2: Train Loss = 4.3683, Valid Loss = 4.4622\n",
            "Epoch 3: Train Loss = 3.9113, Valid Loss = 4.3739\n",
            "Epoch 4: Train Loss = 3.4585, Valid Loss = 4.3704\n",
            "Epoch 5: Train Loss = 3.0139, Valid Loss = 4.4342\n",
            "Epoch 6: Train Loss = 2.6041, Valid Loss = 4.5020\n",
            "Epoch 7: Train Loss = 2.2491, Valid Loss = 4.6462\n",
            "Epoch 8: Train Loss = 1.9666, Valid Loss = 4.8234\n",
            "Epoch 9: Train Loss = 1.7370, Valid Loss = 4.9123\n",
            "Epoch 10: Train Loss = 1.5531, Valid Loss = 5.1090\n"
          ]
        }
      ]
    },
    {
      "cell_type": "code",
      "source": [
        "def test_model(model, test_loader, criterion, device):\n",
        "    model.eval()\n",
        "    test_loss = 0\n",
        "    predictions = []\n",
        "    targets = []\n",
        "\n",
        "    with torch.no_grad():\n",
        "        for input_ids, attention_mask, trg in test_loader:\n",
        "            input_ids, trg = input_ids.to(device), trg.to(device)\n",
        "\n",
        "            # Forward pass\n",
        "            output = model(input_ids)\n",
        "            output = output.view(-1, output.size(-1))\n",
        "            trg = trg.view(-1)\n",
        "\n",
        "            # Compute loss\n",
        "            loss = criterion(output, trg)\n",
        "            test_loss += loss.item()\n",
        "\n",
        "            # Collect predictions and targets for BLEU/metrics\n",
        "            predicted_tokens = output.argmax(dim=-1)\n",
        "            predictions.extend(predicted_tokens.view(-1).tolist())\n",
        "            targets.extend(trg.view(-1).tolist())\n",
        "\n",
        "    avg_loss = test_loss / len(test_loader)\n",
        "    return avg_loss, predictions, targets\n",
        "\n",
        "# Load the saved models\n",
        "for cell_type in ['peephole', 'working_memory']:\n",
        "    print(f\"Testing {cell_type} LSTM\")\n",
        "\n",
        "    model = AdvancedLSTM(input_dim, hidden_dim, output_dim, cell_type=cell_type).to(device)\n",
        "    model.load_state_dict(torch.load(f\"{cell_type}_lstm_model.pth\"))\n",
        "\n",
        "    test_loss, predictions, targets = test_model(model, test_loader, criterion, device)\n",
        "    print(f\"Test Loss ({cell_type}): {test_loss:.4f}\")\n"
      ],
      "metadata": {
        "colab": {
          "base_uri": "https://localhost:8080/"
        },
        "id": "wwgpOyqy1FCb",
        "outputId": "de395ec0-e2fd-4d7d-95f9-b331b917689e"
      },
      "execution_count": 86,
      "outputs": [
        {
          "output_type": "stream",
          "name": "stdout",
          "text": [
            "Testing peephole LSTM\n"
          ]
        },
        {
          "output_type": "stream",
          "name": "stderr",
          "text": [
            "<ipython-input-86-5687ab16abba>:33: FutureWarning:\n",
            "\n",
            "You are using `torch.load` with `weights_only=False` (the current default value), which uses the default pickle module implicitly. It is possible to construct malicious pickle data which will execute arbitrary code during unpickling (See https://github.com/pytorch/pytorch/blob/main/SECURITY.md#untrusted-models for more details). In a future release, the default value for `weights_only` will be flipped to `True`. This limits the functions that could be executed during unpickling. Arbitrary objects will no longer be allowed to be loaded via this mode unless they are explicitly allowlisted by the user via `torch.serialization.add_safe_globals`. We recommend you start setting `weights_only=True` for any use case where you don't have full control of the loaded file. Please open an issue on GitHub for any issues related to this experimental feature.\n",
            "\n"
          ]
        },
        {
          "output_type": "stream",
          "name": "stdout",
          "text": [
            "Test Loss (peephole): 5.0667\n",
            "Testing working_memory LSTM\n",
            "Test Loss (working_memory): 5.0942\n"
          ]
        }
      ]
    },
    {
      "cell_type": "code",
      "source": [
        "# Replace NaN with empty strings for tokenization\n",
        "generalization_df['eng'] = generalization_df['eng'].fillna(\"\")\n",
        "\n",
        "# Tokenize the generalization dataset\n",
        "generalization_inputs = tokenize_data(generalization_df['eng'], tokenizer)\n",
        "generalization_targets = tokenize_data(generalization_df['darija_ar'], tokenizer)\n",
        "\n",
        "# Create DataLoader\n",
        "generalization_dataset = TensorDataset(\n",
        "    generalization_inputs['input_ids'],\n",
        "    generalization_inputs['attention_mask'],\n",
        "    generalization_targets['input_ids']\n",
        ")\n",
        "generalization_loader = DataLoader(generalization_dataset, batch_size=16)\n",
        "\n",
        "# Evaluate each model on generalization data\n",
        "for cell_type in ['peephole', 'working_memory']:\n",
        "    print(f\"Generalization Testing for {cell_type} LSTM\")\n",
        "\n",
        "    model = AdvancedLSTM(input_dim, hidden_dim, output_dim, cell_type=cell_type).to(device)\n",
        "    model.load_state_dict(torch.load(f\"{cell_type}_lstm_model.pth\"))\n",
        "\n",
        "    gen_loss, gen_predictions, gen_targets = test_model(model, generalization_loader, criterion, device)\n",
        "    print(f\"Generalization Loss ({cell_type}): {gen_loss:.4f}\")\n"
      ],
      "metadata": {
        "colab": {
          "base_uri": "https://localhost:8080/"
        },
        "id": "dhkrv3vgGE7v",
        "outputId": "9258ea31-5e97-445d-8d8c-fd9a30c2577f"
      },
      "execution_count": 89,
      "outputs": [
        {
          "output_type": "stream",
          "name": "stdout",
          "text": [
            "Generalization Testing for peephole LSTM\n"
          ]
        },
        {
          "output_type": "stream",
          "name": "stderr",
          "text": [
            "<ipython-input-89-edb1027085d3>:21: FutureWarning:\n",
            "\n",
            "You are using `torch.load` with `weights_only=False` (the current default value), which uses the default pickle module implicitly. It is possible to construct malicious pickle data which will execute arbitrary code during unpickling (See https://github.com/pytorch/pytorch/blob/main/SECURITY.md#untrusted-models for more details). In a future release, the default value for `weights_only` will be flipped to `True`. This limits the functions that could be executed during unpickling. Arbitrary objects will no longer be allowed to be loaded via this mode unless they are explicitly allowlisted by the user via `torch.serialization.add_safe_globals`. We recommend you start setting `weights_only=True` for any use case where you don't have full control of the loaded file. Please open an issue on GitHub for any issues related to this experimental feature.\n",
            "\n"
          ]
        },
        {
          "output_type": "stream",
          "name": "stdout",
          "text": [
            "Generalization Loss (peephole): 22.0872\n",
            "Generalization Testing for working_memory LSTM\n",
            "Generalization Loss (working_memory): 22.4657\n"
          ]
        }
      ]
    },
    {
      "cell_type": "code",
      "source": [
        "def translate_sentence(sentence, model, tokenizer, device):\n",
        "    model.eval()\n",
        "\n",
        "    tokens = tokenizer(sentence, return_tensors=\"pt\", padding=\"max_length\", truncation=True, max_length=128)\n",
        "    input_ids = tokens['input_ids'].to(device)\n",
        "\n",
        "    with torch.no_grad():\n",
        "        output = model(input_ids)\n",
        "        output_tokens = output.argmax(dim=-1)  # Most likely token\n",
        "\n",
        "    return tokenizer.decode(output_tokens[0], skip_special_tokens=True)\n",
        "\n",
        "sample_sentences = [\n",
        "    \"I need help with my homework.\",\n",
        "    \"Where is the nearest restaurant?\",\n",
        "    \"Can you recommend a good book?\"\n",
        "]\n",
        "\n",
        "for sentence in sample_sentences:\n",
        "    for cell_type in ['peephole', 'working_memory']:\n",
        "        model = AdvancedLSTM(input_dim, hidden_dim, output_dim, cell_type=cell_type).to(device)\n",
        "        model.load_state_dict(torch.load(f\"{cell_type}_lstm_model.pth\"))\n",
        "\n",
        "        translation = translate_sentence(sentence, model, tokenizer, device)\n",
        "        print(f\"{cell_type} Translation: {translation}\")\n"
      ],
      "metadata": {
        "colab": {
          "base_uri": "https://localhost:8080/"
        },
        "id": "kaK--TdhGbyG",
        "outputId": "9e4b3fab-4dab-4e16-c0ee-d6867a7c8b5c"
      },
      "execution_count": 90,
      "outputs": [
        {
          "output_type": "stream",
          "name": "stderr",
          "text": [
            "<ipython-input-90-58f66a97f5ce>:23: FutureWarning:\n",
            "\n",
            "You are using `torch.load` with `weights_only=False` (the current default value), which uses the default pickle module implicitly. It is possible to construct malicious pickle data which will execute arbitrary code during unpickling (See https://github.com/pytorch/pytorch/blob/main/SECURITY.md#untrusted-models for more details). In a future release, the default value for `weights_only` will be flipped to `True`. This limits the functions that could be executed during unpickling. Arbitrary objects will no longer be allowed to be loaded via this mode unless they are explicitly allowlisted by the user via `torch.serialization.add_safe_globals`. We recommend you start setting `weights_only=True` for any use case where you don't have full control of the loaded file. Please open an issue on GitHub for any issues related to this experimental feature.\n",
            "\n"
          ]
        },
        {
          "output_type": "stream",
          "name": "stdout",
          "text": [
            "peephole Translation: kanhstaj3jra bs9iiii\n",
            "working_memory Translation: anaassni n3sn dial dialyali\n",
            "peephole Translation: fin ja899r mat9??\n",
            "working_memory Translation: fin ja8 farmaora matri??\n",
            "peephole Translation: wa9 t9tarbabtata chia???\n",
            "working_memory Translation: wa9der9tarb chiwi chik???\n"
          ]
        }
      ]
    },
    {
      "cell_type": "markdown",
      "source": [
        "# Experimenting with different hyperparameters"
      ],
      "metadata": {
        "id": "GDIVVkaRO_zj"
      }
    },
    {
      "cell_type": "code",
      "source": [
        "# Perform hyperparameter tuning with limited epochs\n",
        "N_TUNING_EPOCHS = 2\n",
        "best_combination = None\n",
        "best_loss = float('inf')\n",
        "\n",
        "for batch_size in [16, 32]:\n",
        "    for lr in [0.001, 0.0001]:\n",
        "        for hidden_dim in [256, 512]:\n",
        "            for cell_type in ['peephole', 'working_memory']:\n",
        "                print(f\"Testing: Batch Size={batch_size}, LR={lr}, Hidden Dim={hidden_dim}, Cell={cell_type}\")\n",
        "\n",
        "                # Initialize model, optimizer, and criterion\n",
        "                model = AdvancedLSTM(input_dim, hidden_dim, output_dim, cell_type=cell_type).to(device)\n",
        "                optimizer = torch.optim.Adam(model.parameters(), lr=lr)\n",
        "                criterion = nn.CrossEntropyLoss(ignore_index=tokenizer.pad_token_id)\n",
        "\n",
        "                # Train for limited epochs\n",
        "                for epoch in range(N_TUNING_EPOCHS):\n",
        "                    train_loss = train_epoch(model, train_loader, optimizer, criterion, device)\n",
        "                    print(f\"Epoch {epoch+1}, Train Loss: {train_loss:.4f}\")\n",
        "\n",
        "                # Evaluate on validation set\n",
        "                valid_loss = evaluate_epoch(model, valid_loader, criterion, device)\n",
        "                print(f\"Validation Loss: {valid_loss:.4f}\")\n",
        "\n",
        "                # Keep track of the best combination\n",
        "                if valid_loss < best_loss:\n",
        "                    best_loss = valid_loss\n",
        "                    best_combination = {\n",
        "                        \"batch_size\": batch_size,\n",
        "                        \"learning_rate\": lr,\n",
        "                        \"hidden_dim\": hidden_dim,\n",
        "                        \"cell_type\": cell_type\n",
        "                    }\n",
        "\n",
        "print(f\"Best Hyperparameters: {best_combination}\")\n"
      ],
      "metadata": {
        "colab": {
          "base_uri": "https://localhost:8080/"
        },
        "id": "yzfdXMjdJj05",
        "outputId": "9e0ad3a8-249c-485c-d0dd-945a92cf0a60"
      },
      "execution_count": null,
      "outputs": [
        {
          "output_type": "stream",
          "name": "stdout",
          "text": [
            "Testing: Batch Size=16, LR=0.001, Hidden Dim=256, Cell=peephole\n",
            "Epoch 1, Train Loss: 5.2586\n",
            "Epoch 2, Train Loss: 4.6719\n",
            "Validation Loss: 4.6430\n",
            "Testing: Batch Size=16, LR=0.001, Hidden Dim=256, Cell=working_memory\n",
            "Epoch 1, Train Loss: 5.2635\n",
            "Epoch 2, Train Loss: 4.6806\n",
            "Validation Loss: 4.6449\n",
            "Testing: Batch Size=16, LR=0.001, Hidden Dim=512, Cell=peephole\n",
            "Epoch 1, Train Loss: 5.0627\n",
            "Epoch 2, Train Loss: 4.3867\n",
            "Validation Loss: 4.4633\n",
            "Testing: Batch Size=16, LR=0.001, Hidden Dim=512, Cell=working_memory\n",
            "Epoch 1, Train Loss: 5.0651\n",
            "Epoch 2, Train Loss: 4.3852\n",
            "Validation Loss: 4.4668\n",
            "Testing: Batch Size=16, LR=0.0001, Hidden Dim=256, Cell=peephole\n",
            "Epoch 1, Train Loss: 6.2156\n",
            "Epoch 2, Train Loss: 5.1776\n",
            "Validation Loss: 5.1279\n",
            "Testing: Batch Size=16, LR=0.0001, Hidden Dim=256, Cell=working_memory\n",
            "Epoch 1, Train Loss: 6.2428\n",
            "Epoch 2, Train Loss: 5.1780\n",
            "Validation Loss: 5.1363\n",
            "Testing: Batch Size=16, LR=0.0001, Hidden Dim=512, Cell=peephole\n",
            "Epoch 1, Train Loss: 5.7764\n",
            "Epoch 2, Train Loss: 4.9963\n",
            "Validation Loss: 4.9295\n",
            "Testing: Batch Size=16, LR=0.0001, Hidden Dim=512, Cell=working_memory\n",
            "Epoch 1, Train Loss: 5.7522\n",
            "Epoch 2, Train Loss: 4.9999\n",
            "Validation Loss: 4.9251\n",
            "Testing: Batch Size=32, LR=0.001, Hidden Dim=256, Cell=peephole\n",
            "Epoch 1, Train Loss: 5.2527\n",
            "Epoch 2, Train Loss: 4.6661\n",
            "Validation Loss: 4.6412\n",
            "Testing: Batch Size=32, LR=0.001, Hidden Dim=256, Cell=working_memory\n",
            "Epoch 1, Train Loss: 5.2448\n",
            "Epoch 2, Train Loss: 4.6497\n"
          ]
        }
      ]
    },
    {
      "cell_type": "code",
      "source": [],
      "metadata": {
        "id": "JgTt6pqfPVsn"
      },
      "execution_count": null,
      "outputs": []
    }
  ]
}